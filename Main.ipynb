{
 "cells": [
  {
   "cell_type": "code",
   "execution_count": 1,
   "id": "4a662a56",
   "metadata": {},
   "outputs": [
    {
     "name": "stdout",
     "output_type": "stream",
     "text": [
      "WARNING:tensorflow:From /Users/boabangfrancis/anaconda3/lib/python3.11/site-packages/tensorflow/python/compat/v2_compat.py:107: disable_resource_variables (from tensorflow.python.ops.variable_scope) is deprecated and will be removed in a future version.\n",
      "Instructions for updating:\n",
      "non-resource variables are not supported in the long term\n"
     ]
    }
   ],
   "source": [
    "#classes = hp['classes']\n",
    "\n",
    "import pandas as pd\n",
    "#import xlrd\n",
    "from sklearn.model_selection import train_test_split\n",
    "import tensorflow as tf\n",
    "import numpy as np\n",
    "from sklearn.neighbors import KNeighborsRegressor\n",
    "from sklearn.metrics import mean_squared_error\n",
    "from sklearn.impute import SimpleImputer\n",
    "from sklearn.model_selection import cross_val_score\n",
    "import numpy as np\n",
    "from sklearn.impute import KNNImputer\n",
    "import numpy as np\n",
    "from tensorflow.keras.models import Sequential\n",
    "from tensorflow.keras.layers import LSTM, Dense\n",
    "pd.DataFrame.iteritems=pd.DataFrame.items\n",
    "tf.compat.v1.disable_v2_behavior()\n",
    "# change the strings to ints\n",
    "#input= pd.DataFrame(pd.read_csv(\"US Insurance Claims Data.xlsx\", encoding='utf-16-le', encoding_errors='ignore'))\n"
   ]
  },
  {
   "cell_type": "code",
   "execution_count": 3,
   "id": "848108a0",
   "metadata": {},
   "outputs": [
    {
     "name": "stdout",
     "output_type": "stream",
     "text": [
      "Missing values after KNN imputation: 0\n"
     ]
    }
   ],
   "source": [
    "import pandas as pd\n",
    "from sklearn.impute import KNNImputer\n",
    "from sklearn.preprocessing import LabelEncoder\n",
    "\n",
    "# Load data\n",
    "df = pd.read_excel(\"US_Insurance_Claims_Data.xlsx\")\n",
    "\n",
    "# Step 1: Separate datetime columns\n",
    "datetime_cols = df.select_dtypes(include=['datetime64[ns]']).columns\n",
    "df_datetime = df[datetime_cols]\n",
    "\n",
    "# Step 2: Exclude datetime columns for KNN imputation\n",
    "df_knn = df.drop(columns=datetime_cols).copy()\n",
    "\n",
    "# Step 3: Label encode categorical columns\n",
    "label_encoders = {}\n",
    "for col in df_knn.select_dtypes(include='object').columns:\n",
    "    le = LabelEncoder()\n",
    "    df_knn[col] = le.fit_transform(df_knn[col].astype(str))\n",
    "    label_encoders[col] = le\n",
    "\n",
    "# Step 4: Apply KNN imputer\n",
    "imputer = KNNImputer(n_neighbors=5)\n",
    "df_knn_imputed = pd.DataFrame(imputer.fit_transform(df_knn), columns=df_knn.columns)\n",
    "\n",
    "# Step 5: Round integer columns\n",
    "for col in df_knn.select_dtypes(include='int64').columns:\n",
    "    df_knn_imputed[col] = df_knn_imputed[col].round().astype(int)\n",
    "\n",
    "# Step 6: Reverse label encoding\n",
    "for col, le in label_encoders.items():\n",
    "    df_knn_imputed[col] = df_knn_imputed[col].round().astype(int)\n",
    "    df_knn_imputed[col] = le.inverse_transform(df_knn_imputed[col])\n",
    "\n",
    "# Step 7: Reattach datetime columns\n",
    "df_cleaned = pd.concat([df_knn_imputed, df_datetime.reset_index(drop=True)], axis=1)\n",
    "\n",
    "# Step 8: Final check\n",
    "print(\"Missing values after KNN imputation:\", df_cleaned.isnull().sum().sum())\n",
    "\n",
    "# Optional: Save result\n",
    "df_cleaned.to_csv(\"US_Insurance_KNN_Imputed.csv\", index=False)\n",
    "input=pd.read_csv(\"US_Insurance_KNN_Imputed.csv\")\n",
    "input=input.fillna(method='bfill').fillna(method='ffill')"
   ]
  },
  {
   "cell_type": "code",
   "execution_count": 4,
   "id": "bb8cb8d9",
   "metadata": {},
   "outputs": [],
   "source": [
    "input.incident_location=input.incident_location.astype('category').cat.codes\n",
    "input.policy_state=input.policy_state.astype('category').cat.codes\n",
    "input.insured_education_level=input.insured_education_level.astype('category').cat.codes\n",
    "input.insured_sex=input.insured_sex.astype('category').cat.codes\n",
    "input.insured_hobbies=input.insured_hobbies.astype('category').cat.codes\n",
    "input.insured_relationship=input.insured_relationship.astype('category').cat.codes\n",
    "input.incident_type=input.incident_type.astype('category').cat.codes\n",
    "input.collision_type=input.collision_type.astype('category').cat.codes\n",
    "input.incident_severity=input.incident_severity.astype('category').cat.codes\n",
    "input.authorities_contacted=input.authorities_contacted.astype('category').cat.codes\n",
    "input.incident_state=input.incident_state.astype('category').cat.codes\n",
    "input.incident_city=input.incident_city.astype('category').cat.codes\n",
    "input.insured_occupation=input.insured_occupation.astype('category').cat.codes\n",
    "input.property_damage=input.property_damage.astype('category').cat.codes\n",
    "input.police_report_available=input.police_report_available.astype('category').cat.codes\n",
    "input.auto_make=input.auto_make.astype('category').cat.codes\n",
    "input.auto_model=input.auto_model.astype('category').cat.codes\n",
    "#input['fraud_reported']=input['fraud_reported'].fillna(method='ffill').fillna(method='bfill')\n",
    "input.fraud_reported=input.fraud_reported.astype('category').cat.codes\n",
    "input.incident_date=input.incident_date.astype('category').cat.codes\n",
    "input.policy_bind_date=input.incident_date.astype('category').cat.codes\n",
    "input['policy_csl'] = input['policy_csl'].apply(lambda x: eval(x))"
   ]
  },
  {
   "cell_type": "code",
   "execution_count": 5,
   "id": "0efaf574",
   "metadata": {
    "scrolled": false
   },
   "outputs": [
    {
     "name": "stdout",
     "output_type": "stream",
     "text": [
      "Calculating VIF for each feature (collapsed over timesteps)...\n",
      "Dropping feature at index 3 with VIF=1576338686514.00\n",
      "Dropping feature at index 31 with VIF=6543.02\n",
      "Dropping feature at index 37 with VIF=226.42\n",
      "Dropping feature at index 1 with VIF=107.59\n",
      "Dropping feature at index 9 with VIF=38.70\n",
      "Dropping feature at index 5 with VIF=27.07\n",
      "Dropping feature at index 7 with VIF=22.99\n",
      "Dropping feature at index 34 with VIF=18.26\n",
      "Dropping feature at index 26 with VIF=13.62\n",
      "Selected 29 features out of 38 based on VIF\n"
     ]
    }
   ],
   "source": [
    "import numpy as np\n",
    "import pandas as pd\n",
    "from tensorflow.keras.preprocessing.sequence import pad_sequences\n",
    "from imblearn.under_sampling import RandomUnderSampler\n",
    "from imblearn.over_sampling import SMOTE\n",
    "from statsmodels.stats.outliers_influence import variance_inflation_factor\n",
    "\n",
    "from tensorflow.keras.preprocessing.sequence import pad_sequences\n",
    "\n",
    "#trainX_padded = pad_sequences(trainX, padding='post', truncating='post')\n",
    "#testX_padded = pad_sequences(testX, padding='post', truncating='post')\n",
    "#trainY_padded = pad_sequences(trainY, padding='post', truncating='post')\n",
    "#testY_padded = pad_sequences(testY, padding='post', truncating='post')\n",
    "\n",
    "\n",
    "\n",
    "grouped = input.groupby('months_as_customer')\n",
    "\n",
    "# Extract sequences and labels\n",
    "sequences = grouped.apply(lambda X: X[['months_as_customer', 'age', 'policy_number', 'policy_bind_date' , 'policy_state', 'policy_csl', 'policy_deductable', 'policy_annual_premium', 'umbrella_limit', 'insured_zip', 'insured_sex', 'insured_education_level', 'insured_occupation', 'insured_hobbies', 'insured_relationship', 'capital-gains', 'capital-loss', 'incident_date', 'incident_type', 'collision_type', 'incident_severity', 'authorities_contacted', 'incident_state', 'incident_city', 'incident_location', 'incident_hour_of_the_day', 'number_of_vehicles_involved', 'property_damage', 'bodily_injuries', 'witnesses', 'police_report_available', 'total_claim_amount', 'injury_claim', 'property_claim', 'vehicle_claim', 'auto_make', 'auto_model', 'auto_year']].values.tolist())\n",
    "labels = grouped['fraud_reported'].first().values\n",
    "from tensorflow.keras.preprocessing.sequence import pad_sequences\n",
    "\n",
    "# Pad to same length (post-padding with zeros)\n",
    "X = pad_sequences(sequences.tolist(), padding='post', dtype='float32')\n",
    "y = np.array(labels)\n",
    "# Flatten time dimension to create 2D array for VIF calculation\n",
    "# Shape: (samples * timesteps, features)\n",
    "X_2d_for_vif = X.reshape(-1, X.shape[2])\n",
    "\n",
    "def calculate_vif_3d(X_2d, thresh=5.0):\n",
    "    print(\"Calculating VIF for each feature (collapsed over timesteps)...\")\n",
    "    variables = list(range(X_2d.shape[1]))\n",
    "    dropped = True\n",
    "    while dropped:\n",
    "        dropped = False\n",
    "        vif = [variance_inflation_factor(X_2d[:, variables], ix) for ix in range(len(variables))]\n",
    "        max_vif = max(vif)\n",
    "        if max_vif > thresh:\n",
    "            maxloc = vif.index(max_vif)\n",
    "            print(f\"Dropping feature at index {variables[maxloc]} with VIF={max_vif:.2f}\")\n",
    "            variables.pop(maxloc)\n",
    "            dropped = True\n",
    "    return variables\n",
    "\n",
    "# Calculate VIF and get list of features to keep\n",
    "features_to_keep = calculate_vif_3d(X_2d_for_vif, thresh=10.0)\n",
    "\n",
    "print(f\"Selected {len(features_to_keep)} features out of {X.shape[2]} based on VIF\")\n",
    "\n",
    "# Filter original X on feature dimension (3rd dimension)\n",
    "X_filtered = X[:, :, features_to_keep]\n",
    "\n",
    "# Now flatten for SMOTE and undersampling (samples, timesteps*features_kept)\n",
    "X_flat = X_filtered.reshape(X_filtered.shape[0], -1)\n",
    "\n",
    "smote = SMOTE(random_state=42)\n",
    "#rus = RandomUnderSampler(random_state=1000)\n",
    "\n",
    "# Apply SMOTE then undersampling\n",
    "X_resampled, y_resampled = smote.fit_resample(X_flat, y)\n",
    "#X_resampled, y_resampled = rus.fit_resample(X_resampled, y_resampled)\n",
    "\n",
    "timesteps = X_filtered.shape[1]\n",
    "features_kept = X_filtered.shape[2]\n",
    "\n",
    "X_resampled = X_resampled.reshape(-1, timesteps, features_kept)\n",
    "\n",
    "#print(f\"Original shape: {X.shape}\")\n",
    "#print(f\"Filtered shape (after VIF): {X_filtered.shape}\")\n",
    "#print(f\"Resampled shape: {X_resampled_3d.shape}\")\n",
    "#print(f\"Original class distribution: {np.bincount(y)}\")\n",
    "#print(f\"Resampled class distribution: {np.bincount(y_resampled)}\")\n",
    "\n",
    "# X_resampled_3d, y_resampled are now ready for your sequential model\n"
   ]
  },
  {
   "cell_type": "code",
   "execution_count": null,
   "id": "387121c8",
   "metadata": {
    "scrolled": false
   },
   "outputs": [
    {
     "name": "stdout",
     "output_type": "stream",
     "text": [
      "\n",
      "📂 Fold 1/10\n",
      "\n",
      "➡️ Stage 1 | Epochs: 100 | Loss: convex_focal_loss\n"
     ]
    },
    {
     "name": "stderr",
     "output_type": "stream",
     "text": [
      "2025-07-15 04:56:59.914334: W tensorflow/c/c_api.cc:304] Operation '{name:'lstm_92/lstm_cell/kernel/Assign' id:166119 op device:{requested: '', assigned: ''} def:{{{node lstm_92/lstm_cell/kernel/Assign}} = AssignVariableOp[_has_manual_control_dependencies=true, dtype=DT_FLOAT, validate_shape=false](lstm_92/lstm_cell/kernel, lstm_92/lstm_cell/kernel/Initializer/random_uniform)}}' was changed by setting attribute after it was run by a session. This mutation will have no effect, and will trigger an error in the future. Either don't modify nodes after running them or create a new session.\n",
      "/Users/boabangfrancis/anaconda3/lib/python3.11/site-packages/keras/src/engine/training_v1.py:2335: UserWarning: `Model.state_updates` will be removed in a future version. This property should not be used in TensorFlow 2.0, as `updates` are applied automatically.\n",
      "  updates = self.state_updates\n",
      "2025-07-15 04:57:18.921800: W tensorflow/c/c_api.cc:304] Operation '{name:'loss_154/mul' id:166625 op device:{requested: '', assigned: ''} def:{{{node loss_154/mul}} = Mul[T=DT_FLOAT, _has_manual_control_dependencies=true](loss_154/mul/x, loss_154/dense_92_loss/value)}}' was changed by setting attribute after it was run by a session. This mutation will have no effect, and will trigger an error in the future. Either don't modify nodes after running them or create a new session.\n",
      "/Users/boabangfrancis/anaconda3/lib/python3.11/site-packages/keras/src/engine/training_v1.py:2359: UserWarning: `Model.state_updates` will be removed in a future version. This property should not be used in TensorFlow 2.0, as `updates` are applied automatically.\n",
      "  updates=self.state_updates,\n",
      "2025-07-15 05:08:57.026286: W tensorflow/c/c_api.cc:304] Operation '{name:'dense_92/Sigmoid' id:166323 op device:{requested: '', assigned: ''} def:{{{node dense_92/Sigmoid}} = Sigmoid[T=DT_FLOAT, _has_manual_control_dependencies=true](dense_92/BiasAdd)}}' was changed by setting attribute after it was run by a session. This mutation will have no effect, and will trigger an error in the future. Either don't modify nodes after running them or create a new session.\n"
     ]
    },
    {
     "name": "stdout",
     "output_type": "stream",
     "text": [
      "🔍 Calculating SHAP values for fold 1 of 'Convex Only'\n",
      "\n",
      "📂 Fold 2/10\n",
      "\n",
      "➡️ Stage 1 | Epochs: 100 | Loss: convex_focal_loss\n"
     ]
    },
    {
     "name": "stderr",
     "output_type": "stream",
     "text": [
      "2025-07-15 05:09:18.722170: W tensorflow/c/c_api.cc:304] Operation '{name:'training_278/Adam/lstm_93/lstm_cell/kernel/m/Assign' id:168899 op device:{requested: '', assigned: ''} def:{{{node training_278/Adam/lstm_93/lstm_cell/kernel/m/Assign}} = AssignVariableOp[_has_manual_control_dependencies=true, dtype=DT_FLOAT, validate_shape=false](training_278/Adam/lstm_93/lstm_cell/kernel/m, training_278/Adam/lstm_93/lstm_cell/kernel/m/Initializer/zeros)}}' was changed by setting attribute after it was run by a session. This mutation will have no effect, and will trigger an error in the future. Either don't modify nodes after running them or create a new session.\n",
      "/Users/boabangfrancis/anaconda3/lib/python3.11/site-packages/keras/src/engine/training_v1.py:2335: UserWarning: `Model.state_updates` will be removed in a future version. This property should not be used in TensorFlow 2.0, as `updates` are applied automatically.\n",
      "  updates = self.state_updates\n",
      "2025-07-15 05:09:37.665273: W tensorflow/c/c_api.cc:304] Operation '{name:'loss_156/mul' id:168324 op device:{requested: '', assigned: ''} def:{{{node loss_156/mul}} = Mul[T=DT_FLOAT, _has_manual_control_dependencies=true](loss_156/mul/x, loss_156/dense_93_loss/value)}}' was changed by setting attribute after it was run by a session. This mutation will have no effect, and will trigger an error in the future. Either don't modify nodes after running them or create a new session.\n",
      "/Users/boabangfrancis/anaconda3/lib/python3.11/site-packages/keras/src/engine/training_v1.py:2359: UserWarning: `Model.state_updates` will be removed in a future version. This property should not be used in TensorFlow 2.0, as `updates` are applied automatically.\n",
      "  updates=self.state_updates,\n",
      "2025-07-15 05:20:49.247051: W tensorflow/c/c_api.cc:304] Operation '{name:'dense_93/Sigmoid' id:168022 op device:{requested: '', assigned: ''} def:{{{node dense_93/Sigmoid}} = Sigmoid[T=DT_FLOAT, _has_manual_control_dependencies=true](dense_93/BiasAdd)}}' was changed by setting attribute after it was run by a session. This mutation will have no effect, and will trigger an error in the future. Either don't modify nodes after running them or create a new session.\n"
     ]
    },
    {
     "name": "stdout",
     "output_type": "stream",
     "text": [
      "\n",
      "📂 Fold 3/10\n",
      "\n",
      "➡️ Stage 1 | Epochs: 100 | Loss: convex_focal_loss\n"
     ]
    },
    {
     "name": "stderr",
     "output_type": "stream",
     "text": [
      "2025-07-15 05:20:56.091983: W tensorflow/c/c_api.cc:304] Operation '{name:'total_140/Assign' id:169328 op device:{requested: '', assigned: ''} def:{{{node total_140/Assign}} = AssignVariableOp[_has_manual_control_dependencies=true, dtype=DT_FLOAT, validate_shape=false](total_140, total_140/Initializer/zeros)}}' was changed by setting attribute after it was run by a session. This mutation will have no effect, and will trigger an error in the future. Either don't modify nodes after running them or create a new session.\n",
      "/Users/boabangfrancis/anaconda3/lib/python3.11/site-packages/keras/src/engine/training_v1.py:2335: UserWarning: `Model.state_updates` will be removed in a future version. This property should not be used in TensorFlow 2.0, as `updates` are applied automatically.\n",
      "  updates = self.state_updates\n",
      "2025-07-15 05:21:15.044067: W tensorflow/c/c_api.cc:304] Operation '{name:'loss_157/mul' id:169585 op device:{requested: '', assigned: ''} def:{{{node loss_157/mul}} = Mul[T=DT_FLOAT, _has_manual_control_dependencies=true](loss_157/mul/x, loss_157/dense_94_loss/value)}}' was changed by setting attribute after it was run by a session. This mutation will have no effect, and will trigger an error in the future. Either don't modify nodes after running them or create a new session.\n",
      "/Users/boabangfrancis/anaconda3/lib/python3.11/site-packages/keras/src/engine/training_v1.py:2359: UserWarning: `Model.state_updates` will be removed in a future version. This property should not be used in TensorFlow 2.0, as `updates` are applied automatically.\n",
      "  updates=self.state_updates,\n",
      "2025-07-15 05:41:30.007794: W tensorflow/c/c_api.cc:304] Operation '{name:'dense_94/Sigmoid' id:169283 op device:{requested: '', assigned: ''} def:{{{node dense_94/Sigmoid}} = Sigmoid[T=DT_FLOAT, _has_manual_control_dependencies=true](dense_94/BiasAdd)}}' was changed by setting attribute after it was run by a session. This mutation will have no effect, and will trigger an error in the future. Either don't modify nodes after running them or create a new session.\n"
     ]
    },
    {
     "name": "stdout",
     "output_type": "stream",
     "text": [
      "\n",
      "📂 Fold 4/10\n",
      "\n",
      "➡️ Stage 1 | Epochs: 100 | Loss: convex_focal_loss\n"
     ]
    },
    {
     "name": "stderr",
     "output_type": "stream",
     "text": [
      "2025-07-15 05:41:36.481009: W tensorflow/c/c_api.cc:304] Operation '{name:'total_141/Assign' id:170589 op device:{requested: '', assigned: ''} def:{{{node total_141/Assign}} = AssignVariableOp[_has_manual_control_dependencies=true, dtype=DT_FLOAT, validate_shape=false](total_141, total_141/Initializer/zeros)}}' was changed by setting attribute after it was run by a session. This mutation will have no effect, and will trigger an error in the future. Either don't modify nodes after running them or create a new session.\n",
      "/Users/boabangfrancis/anaconda3/lib/python3.11/site-packages/keras/src/engine/training_v1.py:2335: UserWarning: `Model.state_updates` will be removed in a future version. This property should not be used in TensorFlow 2.0, as `updates` are applied automatically.\n",
      "  updates = self.state_updates\n",
      "2025-07-15 05:41:56.188543: W tensorflow/c/c_api.cc:304] Operation '{name:'loss_158/mul' id:170846 op device:{requested: '', assigned: ''} def:{{{node loss_158/mul}} = Mul[T=DT_FLOAT, _has_manual_control_dependencies=true](loss_158/mul/x, loss_158/dense_95_loss/value)}}' was changed by setting attribute after it was run by a session. This mutation will have no effect, and will trigger an error in the future. Either don't modify nodes after running them or create a new session.\n",
      "/Users/boabangfrancis/anaconda3/lib/python3.11/site-packages/keras/src/engine/training_v1.py:2359: UserWarning: `Model.state_updates` will be removed in a future version. This property should not be used in TensorFlow 2.0, as `updates` are applied automatically.\n",
      "  updates=self.state_updates,\n",
      "2025-07-15 05:53:58.971508: W tensorflow/c/c_api.cc:304] Operation '{name:'dense_95/Sigmoid' id:170544 op device:{requested: '', assigned: ''} def:{{{node dense_95/Sigmoid}} = Sigmoid[T=DT_FLOAT, _has_manual_control_dependencies=true](dense_95/BiasAdd)}}' was changed by setting attribute after it was run by a session. This mutation will have no effect, and will trigger an error in the future. Either don't modify nodes after running them or create a new session.\n"
     ]
    },
    {
     "name": "stdout",
     "output_type": "stream",
     "text": [
      "\n",
      "📂 Fold 5/10\n",
      "\n",
      "➡️ Stage 1 | Epochs: 100 | Loss: convex_focal_loss\n"
     ]
    },
    {
     "name": "stderr",
     "output_type": "stream",
     "text": [
      "2025-07-15 05:54:05.312119: W tensorflow/c/c_api.cc:304] Operation '{name:'lstm_96/lstm_cell/recurrent_kernel/Assign' id:171621 op device:{requested: '', assigned: ''} def:{{{node lstm_96/lstm_cell/recurrent_kernel/Assign}} = AssignVariableOp[_has_manual_control_dependencies=true, dtype=DT_FLOAT, validate_shape=false](lstm_96/lstm_cell/recurrent_kernel, lstm_96/lstm_cell/recurrent_kernel/Initializer/mul_1)}}' was changed by setting attribute after it was run by a session. This mutation will have no effect, and will trigger an error in the future. Either don't modify nodes after running them or create a new session.\n",
      "/Users/boabangfrancis/anaconda3/lib/python3.11/site-packages/keras/src/engine/training_v1.py:2335: UserWarning: `Model.state_updates` will be removed in a future version. This property should not be used in TensorFlow 2.0, as `updates` are applied automatically.\n",
      "  updates = self.state_updates\n",
      "2025-07-15 05:54:24.644332: W tensorflow/c/c_api.cc:304] Operation '{name:'loss_159/mul' id:172107 op device:{requested: '', assigned: ''} def:{{{node loss_159/mul}} = Mul[T=DT_FLOAT, _has_manual_control_dependencies=true](loss_159/mul/x, loss_159/dense_96_loss/value)}}' was changed by setting attribute after it was run by a session. This mutation will have no effect, and will trigger an error in the future. Either don't modify nodes after running them or create a new session.\n",
      "/Users/boabangfrancis/anaconda3/lib/python3.11/site-packages/keras/src/engine/training_v1.py:2359: UserWarning: `Model.state_updates` will be removed in a future version. This property should not be used in TensorFlow 2.0, as `updates` are applied automatically.\n",
      "  updates=self.state_updates,\n",
      "2025-07-15 06:06:23.081430: W tensorflow/c/c_api.cc:304] Operation '{name:'dense_96/Sigmoid' id:171805 op device:{requested: '', assigned: ''} def:{{{node dense_96/Sigmoid}} = Sigmoid[T=DT_FLOAT, _has_manual_control_dependencies=true](dense_96/BiasAdd)}}' was changed by setting attribute after it was run by a session. This mutation will have no effect, and will trigger an error in the future. Either don't modify nodes after running them or create a new session.\n"
     ]
    },
    {
     "name": "stdout",
     "output_type": "stream",
     "text": [
      "\n",
      "📂 Fold 6/10\n",
      "\n",
      "➡️ Stage 1 | Epochs: 100 | Loss: convex_focal_loss\n"
     ]
    },
    {
     "name": "stderr",
     "output_type": "stream",
     "text": [
      "2025-07-15 06:06:29.682127: W tensorflow/c/c_api.cc:304] Operation '{name:'true_positives_430/Assign' id:173080 op device:{requested: '', assigned: ''} def:{{{node true_positives_430/Assign}} = AssignVariableOp[_has_manual_control_dependencies=true, dtype=DT_FLOAT, validate_shape=false](true_positives_430, true_positives_430/Initializer/zeros)}}' was changed by setting attribute after it was run by a session. This mutation will have no effect, and will trigger an error in the future. Either don't modify nodes after running them or create a new session.\n",
      "/Users/boabangfrancis/anaconda3/lib/python3.11/site-packages/keras/src/engine/training_v1.py:2335: UserWarning: `Model.state_updates` will be removed in a future version. This property should not be used in TensorFlow 2.0, as `updates` are applied automatically.\n",
      "  updates = self.state_updates\n",
      "2025-07-15 06:06:48.956255: W tensorflow/c/c_api.cc:304] Operation '{name:'loss_160/mul' id:173368 op device:{requested: '', assigned: ''} def:{{{node loss_160/mul}} = Mul[T=DT_FLOAT, _has_manual_control_dependencies=true](loss_160/mul/x, loss_160/dense_97_loss/value)}}' was changed by setting attribute after it was run by a session. This mutation will have no effect, and will trigger an error in the future. Either don't modify nodes after running them or create a new session.\n",
      "/Users/boabangfrancis/anaconda3/lib/python3.11/site-packages/keras/src/engine/training_v1.py:2359: UserWarning: `Model.state_updates` will be removed in a future version. This property should not be used in TensorFlow 2.0, as `updates` are applied automatically.\n",
      "  updates=self.state_updates,\n",
      "2025-07-15 06:19:07.601656: W tensorflow/c/c_api.cc:304] Operation '{name:'dense_97/Sigmoid' id:173066 op device:{requested: '', assigned: ''} def:{{{node dense_97/Sigmoid}} = Sigmoid[T=DT_FLOAT, _has_manual_control_dependencies=true](dense_97/BiasAdd)}}' was changed by setting attribute after it was run by a session. This mutation will have no effect, and will trigger an error in the future. Either don't modify nodes after running them or create a new session.\n"
     ]
    },
    {
     "name": "stdout",
     "output_type": "stream",
     "text": [
      "\n",
      "📂 Fold 7/10\n",
      "\n",
      "➡️ Stage 1 | Epochs: 100 | Loss: convex_focal_loss\n"
     ]
    },
    {
     "name": "stderr",
     "output_type": "stream",
     "text": [
      "2025-07-15 06:19:14.284012: W tensorflow/c/c_api.cc:304] Operation '{name:'training_288/Adam/lstm_98/lstm_cell/kernel/m/Assign' id:175204 op device:{requested: '', assigned: ''} def:{{{node training_288/Adam/lstm_98/lstm_cell/kernel/m/Assign}} = AssignVariableOp[_has_manual_control_dependencies=true, dtype=DT_FLOAT, validate_shape=false](training_288/Adam/lstm_98/lstm_cell/kernel/m, training_288/Adam/lstm_98/lstm_cell/kernel/m/Initializer/zeros)}}' was changed by setting attribute after it was run by a session. This mutation will have no effect, and will trigger an error in the future. Either don't modify nodes after running them or create a new session.\n",
      "/Users/boabangfrancis/anaconda3/lib/python3.11/site-packages/keras/src/engine/training_v1.py:2335: UserWarning: `Model.state_updates` will be removed in a future version. This property should not be used in TensorFlow 2.0, as `updates` are applied automatically.\n",
      "  updates = self.state_updates\n",
      "2025-07-15 06:19:33.647437: W tensorflow/c/c_api.cc:304] Operation '{name:'loss_161/mul' id:174629 op device:{requested: '', assigned: ''} def:{{{node loss_161/mul}} = Mul[T=DT_FLOAT, _has_manual_control_dependencies=true](loss_161/mul/x, loss_161/dense_98_loss/value)}}' was changed by setting attribute after it was run by a session. This mutation will have no effect, and will trigger an error in the future. Either don't modify nodes after running them or create a new session.\n",
      "/Users/boabangfrancis/anaconda3/lib/python3.11/site-packages/keras/src/engine/training_v1.py:2359: UserWarning: `Model.state_updates` will be removed in a future version. This property should not be used in TensorFlow 2.0, as `updates` are applied automatically.\n",
      "  updates=self.state_updates,\n",
      "2025-07-15 06:31:14.054187: W tensorflow/c/c_api.cc:304] Operation '{name:'dense_98/Sigmoid' id:174327 op device:{requested: '', assigned: ''} def:{{{node dense_98/Sigmoid}} = Sigmoid[T=DT_FLOAT, _has_manual_control_dependencies=true](dense_98/BiasAdd)}}' was changed by setting attribute after it was run by a session. This mutation will have no effect, and will trigger an error in the future. Either don't modify nodes after running them or create a new session.\n"
     ]
    },
    {
     "name": "stdout",
     "output_type": "stream",
     "text": [
      "\n",
      "📂 Fold 8/10\n",
      "\n",
      "➡️ Stage 1 | Epochs: 100 | Loss: convex_focal_loss\n"
     ]
    },
    {
     "name": "stderr",
     "output_type": "stream",
     "text": [
      "2025-07-15 06:31:21.038782: W tensorflow/c/c_api.cc:304] Operation '{name:'training_290/Adam/iter/Assign' id:176443 op device:{requested: '', assigned: ''} def:{{{node training_290/Adam/iter/Assign}} = AssignVariableOp[_has_manual_control_dependencies=true, dtype=DT_INT64, validate_shape=false](training_290/Adam/iter, training_290/Adam/iter/Initializer/zeros)}}' was changed by setting attribute after it was run by a session. This mutation will have no effect, and will trigger an error in the future. Either don't modify nodes after running them or create a new session.\n",
      "/Users/boabangfrancis/anaconda3/lib/python3.11/site-packages/keras/src/engine/training_v1.py:2335: UserWarning: `Model.state_updates` will be removed in a future version. This property should not be used in TensorFlow 2.0, as `updates` are applied automatically.\n",
      "  updates = self.state_updates\n",
      "2025-07-15 06:31:40.549839: W tensorflow/c/c_api.cc:304] Operation '{name:'loss_162/mul' id:175890 op device:{requested: '', assigned: ''} def:{{{node loss_162/mul}} = Mul[T=DT_FLOAT, _has_manual_control_dependencies=true](loss_162/mul/x, loss_162/dense_99_loss/value)}}' was changed by setting attribute after it was run by a session. This mutation will have no effect, and will trigger an error in the future. Either don't modify nodes after running them or create a new session.\n",
      "/Users/boabangfrancis/anaconda3/lib/python3.11/site-packages/keras/src/engine/training_v1.py:2359: UserWarning: `Model.state_updates` will be removed in a future version. This property should not be used in TensorFlow 2.0, as `updates` are applied automatically.\n",
      "  updates=self.state_updates,\n",
      "2025-07-15 06:42:20.504593: W tensorflow/c/c_api.cc:304] Operation '{name:'dense_99/Sigmoid' id:175588 op device:{requested: '', assigned: ''} def:{{{node dense_99/Sigmoid}} = Sigmoid[T=DT_FLOAT, _has_manual_control_dependencies=true](dense_99/BiasAdd)}}' was changed by setting attribute after it was run by a session. This mutation will have no effect, and will trigger an error in the future. Either don't modify nodes after running them or create a new session.\n"
     ]
    },
    {
     "name": "stdout",
     "output_type": "stream",
     "text": [
      "\n",
      "📂 Fold 9/10\n",
      "\n",
      "➡️ Stage 1 | Epochs: 100 | Loss: convex_focal_loss\n"
     ]
    },
    {
     "name": "stderr",
     "output_type": "stream",
     "text": [
      "2025-07-15 06:42:24.223991: W tensorflow/c/c_api.cc:304] Operation '{name:'training_292/Adam/lstm_100/lstm_cell/kernel/v/Assign' id:177755 op device:{requested: '', assigned: ''} def:{{{node training_292/Adam/lstm_100/lstm_cell/kernel/v/Assign}} = AssignVariableOp[_has_manual_control_dependencies=true, dtype=DT_FLOAT, validate_shape=false](training_292/Adam/lstm_100/lstm_cell/kernel/v, training_292/Adam/lstm_100/lstm_cell/kernel/v/Initializer/zeros)}}' was changed by setting attribute after it was run by a session. This mutation will have no effect, and will trigger an error in the future. Either don't modify nodes after running them or create a new session.\n",
      "/Users/boabangfrancis/anaconda3/lib/python3.11/site-packages/keras/src/engine/training_v1.py:2335: UserWarning: `Model.state_updates` will be removed in a future version. This property should not be used in TensorFlow 2.0, as `updates` are applied automatically.\n",
      "  updates = self.state_updates\n",
      "2025-07-15 06:42:36.814858: W tensorflow/c/c_api.cc:304] Operation '{name:'loss_163/mul' id:177151 op device:{requested: '', assigned: ''} def:{{{node loss_163/mul}} = Mul[T=DT_FLOAT, _has_manual_control_dependencies=true](loss_163/mul/x, loss_163/dense_100_loss/value)}}' was changed by setting attribute after it was run by a session. This mutation will have no effect, and will trigger an error in the future. Either don't modify nodes after running them or create a new session.\n",
      "/Users/boabangfrancis/anaconda3/lib/python3.11/site-packages/keras/src/engine/training_v1.py:2359: UserWarning: `Model.state_updates` will be removed in a future version. This property should not be used in TensorFlow 2.0, as `updates` are applied automatically.\n",
      "  updates=self.state_updates,\n",
      "2025-07-15 06:52:03.392003: W tensorflow/c/c_api.cc:304] Operation '{name:'dense_100/Sigmoid' id:176849 op device:{requested: '', assigned: ''} def:{{{node dense_100/Sigmoid}} = Sigmoid[T=DT_FLOAT, _has_manual_control_dependencies=true](dense_100/BiasAdd)}}' was changed by setting attribute after it was run by a session. This mutation will have no effect, and will trigger an error in the future. Either don't modify nodes after running them or create a new session.\n"
     ]
    },
    {
     "name": "stdout",
     "output_type": "stream",
     "text": [
      "\n",
      "📂 Fold 10/10\n",
      "\n",
      "➡️ Stage 1 | Epochs: 100 | Loss: convex_focal_loss\n"
     ]
    },
    {
     "name": "stderr",
     "output_type": "stream",
     "text": [
      "2025-07-15 06:52:07.182749: W tensorflow/c/c_api.cc:304] Operation '{name:'training_294/Adam/lstm_101/lstm_cell/bias/v/Assign' id:179028 op device:{requested: '', assigned: ''} def:{{{node training_294/Adam/lstm_101/lstm_cell/bias/v/Assign}} = AssignVariableOp[_has_manual_control_dependencies=true, dtype=DT_FLOAT, validate_shape=false](training_294/Adam/lstm_101/lstm_cell/bias/v, training_294/Adam/lstm_101/lstm_cell/bias/v/Initializer/zeros)}}' was changed by setting attribute after it was run by a session. This mutation will have no effect, and will trigger an error in the future. Either don't modify nodes after running them or create a new session.\n",
      "/Users/boabangfrancis/anaconda3/lib/python3.11/site-packages/keras/src/engine/training_v1.py:2335: UserWarning: `Model.state_updates` will be removed in a future version. This property should not be used in TensorFlow 2.0, as `updates` are applied automatically.\n",
      "  updates = self.state_updates\n",
      "2025-07-15 06:52:20.649539: W tensorflow/c/c_api.cc:304] Operation '{name:'loss_164/mul' id:178412 op device:{requested: '', assigned: ''} def:{{{node loss_164/mul}} = Mul[T=DT_FLOAT, _has_manual_control_dependencies=true](loss_164/mul/x, loss_164/dense_101_loss/value)}}' was changed by setting attribute after it was run by a session. This mutation will have no effect, and will trigger an error in the future. Either don't modify nodes after running them or create a new session.\n",
      "/Users/boabangfrancis/anaconda3/lib/python3.11/site-packages/keras/src/engine/training_v1.py:2359: UserWarning: `Model.state_updates` will be removed in a future version. This property should not be used in TensorFlow 2.0, as `updates` are applied automatically.\n",
      "  updates=self.state_updates,\n",
      "2025-07-15 07:01:41.829089: W tensorflow/c/c_api.cc:304] Operation '{name:'dense_101/Sigmoid' id:178110 op device:{requested: '', assigned: ''} def:{{{node dense_101/Sigmoid}} = Sigmoid[T=DT_FLOAT, _has_manual_control_dependencies=true](dense_101/BiasAdd)}}' was changed by setting attribute after it was run by a session. This mutation will have no effect, and will trigger an error in the future. Either don't modify nodes after running them or create a new session.\n"
     ]
    },
    {
     "name": "stdout",
     "output_type": "stream",
     "text": [
      "\n",
      "📊 Average metrics for schedule 'Convex Only': {'loss': 0.6592289749429197, 'accuracy': 0.60107595, 'precision': 0.6159996, 'recall': 0.5572175, 'f1': 0.5793807311731294, 'auc': 0.6484169092160379}\n",
      "\n",
      "📂 Fold 1/10\n",
      "\n",
      "➡️ Stage 1 | Epochs: 10 | Loss: convex_focal_loss\n"
     ]
    },
    {
     "name": "stderr",
     "output_type": "stream",
     "text": [
      "2025-07-15 07:01:45.799005: W tensorflow/c/c_api.cc:304] Operation '{name:'training_296/Adam/dense_102/kernel/v/Assign' id:180294 op device:{requested: '', assigned: ''} def:{{{node training_296/Adam/dense_102/kernel/v/Assign}} = AssignVariableOp[_has_manual_control_dependencies=true, dtype=DT_FLOAT, validate_shape=false](training_296/Adam/dense_102/kernel/v, training_296/Adam/dense_102/kernel/v/Initializer/zeros)}}' was changed by setting attribute after it was run by a session. This mutation will have no effect, and will trigger an error in the future. Either don't modify nodes after running them or create a new session.\n",
      "/Users/boabangfrancis/anaconda3/lib/python3.11/site-packages/keras/src/engine/training_v1.py:2335: UserWarning: `Model.state_updates` will be removed in a future version. This property should not be used in TensorFlow 2.0, as `updates` are applied automatically.\n",
      "  updates = self.state_updates\n",
      "2025-07-15 07:01:58.797417: W tensorflow/c/c_api.cc:304] Operation '{name:'loss_165/mul' id:179673 op device:{requested: '', assigned: ''} def:{{{node loss_165/mul}} = Mul[T=DT_FLOAT, _has_manual_control_dependencies=true](loss_165/mul/x, loss_165/dense_102_loss/value)}}' was changed by setting attribute after it was run by a session. This mutation will have no effect, and will trigger an error in the future. Either don't modify nodes after running them or create a new session.\n"
     ]
    },
    {
     "name": "stdout",
     "output_type": "stream",
     "text": [
      "\n",
      "➡️ Stage 2 | Epochs: 40 | Loss: nonconvex_focal_loss\n"
     ]
    },
    {
     "name": "stderr",
     "output_type": "stream",
     "text": [
      "2025-07-15 07:02:55.349503: W tensorflow/c/c_api.cc:304] Operation '{name:'count_149/Assign' id:180459 op device:{requested: '', assigned: ''} def:{{{node count_149/Assign}} = AssignVariableOp[_has_manual_control_dependencies=true, dtype=DT_FLOAT, validate_shape=false](count_149, count_149/Initializer/zeros)}}' was changed by setting attribute after it was run by a session. This mutation will have no effect, and will trigger an error in the future. Either don't modify nodes after running them or create a new session.\n",
      "2025-07-15 07:03:08.015596: W tensorflow/c/c_api.cc:304] Operation '{name:'loss_166/mul' id:180711 op device:{requested: '', assigned: ''} def:{{{node loss_166/mul}} = Mul[T=DT_FLOAT, _has_manual_control_dependencies=true](loss_166/mul/x, loss_166/dense_102_loss/value)}}' was changed by setting attribute after it was run by a session. This mutation will have no effect, and will trigger an error in the future. Either don't modify nodes after running them or create a new session.\n"
     ]
    },
    {
     "name": "stdout",
     "output_type": "stream",
     "text": [
      "\n",
      "➡️ Stage 3 | Epochs: 50 | Loss: hybrid_nonconvex_focal_loss\n"
     ]
    },
    {
     "name": "stderr",
     "output_type": "stream",
     "text": [
      "2025-07-15 07:06:49.957695: W tensorflow/c/c_api.cc:304] Operation '{name:'total_150/Assign' id:181395 op device:{requested: '', assigned: ''} def:{{{node total_150/Assign}} = AssignVariableOp[_has_manual_control_dependencies=true, dtype=DT_FLOAT, validate_shape=false](total_150, total_150/Initializer/zeros)}}' was changed by setting attribute after it was run by a session. This mutation will have no effect, and will trigger an error in the future. Either don't modify nodes after running them or create a new session.\n",
      "2025-07-15 07:07:02.862486: W tensorflow/c/c_api.cc:304] Operation '{name:'loss_167/mul' id:181652 op device:{requested: '', assigned: ''} def:{{{node loss_167/mul}} = Mul[T=DT_FLOAT, _has_manual_control_dependencies=true](loss_167/mul/x, loss_167/dense_102_loss/value)}}' was changed by setting attribute after it was run by a session. This mutation will have no effect, and will trigger an error in the future. Either don't modify nodes after running them or create a new session.\n",
      "/Users/boabangfrancis/anaconda3/lib/python3.11/site-packages/keras/src/engine/training_v1.py:2359: UserWarning: `Model.state_updates` will be removed in a future version. This property should not be used in TensorFlow 2.0, as `updates` are applied automatically.\n",
      "  updates=self.state_updates,\n",
      "2025-07-15 07:11:46.574375: W tensorflow/c/c_api.cc:304] Operation '{name:'dense_102/Sigmoid' id:179371 op device:{requested: '', assigned: ''} def:{{{node dense_102/Sigmoid}} = Sigmoid[T=DT_FLOAT, _has_manual_control_dependencies=true](dense_102/BiasAdd)}}' was changed by setting attribute after it was run by a session. This mutation will have no effect, and will trigger an error in the future. Either don't modify nodes after running them or create a new session.\n"
     ]
    },
    {
     "name": "stdout",
     "output_type": "stream",
     "text": [
      "🔍 Calculating SHAP values for fold 1 of 'Multistage_1'\n",
      "\n",
      "📂 Fold 2/10\n",
      "\n",
      "➡️ Stage 1 | Epochs: 10 | Loss: convex_focal_loss\n"
     ]
    },
    {
     "name": "stderr",
     "output_type": "stream",
     "text": [
      "2025-07-15 07:12:01.785950: W tensorflow/c/c_api.cc:304] Operation '{name:'lstm_103/lstm_cell/bias/Assign' id:182777 op device:{requested: '', assigned: ''} def:{{{node lstm_103/lstm_cell/bias/Assign}} = AssignVariableOp[_has_manual_control_dependencies=true, dtype=DT_FLOAT, validate_shape=false](lstm_103/lstm_cell/bias, lstm_103/lstm_cell/bias/Initializer/concat)}}' was changed by setting attribute after it was run by a session. This mutation will have no effect, and will trigger an error in the future. Either don't modify nodes after running them or create a new session.\n",
      "/Users/boabangfrancis/anaconda3/lib/python3.11/site-packages/keras/src/engine/training_v1.py:2335: UserWarning: `Model.state_updates` will be removed in a future version. This property should not be used in TensorFlow 2.0, as `updates` are applied automatically.\n",
      "  updates = self.state_updates\n",
      "2025-07-15 07:12:14.619187: W tensorflow/c/c_api.cc:304] Operation '{name:'loss_169/mul' id:183254 op device:{requested: '', assigned: ''} def:{{{node loss_169/mul}} = Mul[T=DT_FLOAT, _has_manual_control_dependencies=true](loss_169/mul/x, loss_169/dense_103_loss/value)}}' was changed by setting attribute after it was run by a session. This mutation will have no effect, and will trigger an error in the future. Either don't modify nodes after running them or create a new session.\n"
     ]
    },
    {
     "name": "stdout",
     "output_type": "stream",
     "text": [
      "\n",
      "➡️ Stage 2 | Epochs: 40 | Loss: nonconvex_focal_loss\n"
     ]
    },
    {
     "name": "stderr",
     "output_type": "stream",
     "text": [
      "2025-07-15 07:13:09.044625: W tensorflow/c/c_api.cc:304] Operation '{name:'true_positives_456/Assign' id:183994 op device:{requested: '', assigned: ''} def:{{{node true_positives_456/Assign}} = AssignVariableOp[_has_manual_control_dependencies=true, dtype=DT_FLOAT, validate_shape=false](true_positives_456, true_positives_456/Initializer/zeros)}}' was changed by setting attribute after it was run by a session. This mutation will have no effect, and will trigger an error in the future. Either don't modify nodes after running them or create a new session.\n",
      "2025-07-15 07:13:22.127352: W tensorflow/c/c_api.cc:304] Operation '{name:'loss_170/mul' id:184292 op device:{requested: '', assigned: ''} def:{{{node loss_170/mul}} = Mul[T=DT_FLOAT, _has_manual_control_dependencies=true](loss_170/mul/x, loss_170/dense_103_loss/value)}}' was changed by setting attribute after it was run by a session. This mutation will have no effect, and will trigger an error in the future. Either don't modify nodes after running them or create a new session.\n"
     ]
    },
    {
     "name": "stdout",
     "output_type": "stream",
     "text": [
      "\n",
      "➡️ Stage 3 | Epochs: 50 | Loss: hybrid_nonconvex_focal_loss\n"
     ]
    },
    {
     "name": "stderr",
     "output_type": "stream",
     "text": [
      "2025-07-15 07:17:08.449362: W tensorflow/c/c_api.cc:304] Operation '{name:'true_negatives_153/Assign' id:184960 op device:{requested: '', assigned: ''} def:{{{node true_negatives_153/Assign}} = AssignVariableOp[_has_manual_control_dependencies=true, dtype=DT_FLOAT, validate_shape=false](true_negatives_153, true_negatives_153/Initializer/zeros)}}' was changed by setting attribute after it was run by a session. This mutation will have no effect, and will trigger an error in the future. Either don't modify nodes after running them or create a new session.\n",
      "2025-07-15 07:17:22.001171: W tensorflow/c/c_api.cc:304] Operation '{name:'loss_171/mul' id:185233 op device:{requested: '', assigned: ''} def:{{{node loss_171/mul}} = Mul[T=DT_FLOAT, _has_manual_control_dependencies=true](loss_171/mul/x, loss_171/dense_103_loss/value)}}' was changed by setting attribute after it was run by a session. This mutation will have no effect, and will trigger an error in the future. Either don't modify nodes after running them or create a new session.\n",
      "/Users/boabangfrancis/anaconda3/lib/python3.11/site-packages/keras/src/engine/training_v1.py:2359: UserWarning: `Model.state_updates` will be removed in a future version. This property should not be used in TensorFlow 2.0, as `updates` are applied automatically.\n",
      "  updates=self.state_updates,\n",
      "2025-07-15 07:22:13.284296: W tensorflow/c/c_api.cc:304] Operation '{name:'dense_103/Sigmoid' id:182952 op device:{requested: '', assigned: ''} def:{{{node dense_103/Sigmoid}} = Sigmoid[T=DT_FLOAT, _has_manual_control_dependencies=true](dense_103/BiasAdd)}}' was changed by setting attribute after it was run by a session. This mutation will have no effect, and will trigger an error in the future. Either don't modify nodes after running them or create a new session.\n"
     ]
    },
    {
     "name": "stdout",
     "output_type": "stream",
     "text": [
      "\n",
      "📂 Fold 3/10\n",
      "\n",
      "➡️ Stage 1 | Epochs: 10 | Loss: convex_focal_loss\n"
     ]
    },
    {
     "name": "stderr",
     "output_type": "stream",
     "text": [
      "2025-07-15 07:22:17.192781: W tensorflow/c/c_api.cc:304] Operation '{name:'training_308/Adam/dense_104/bias/m/Assign' id:186994 op device:{requested: '', assigned: ''} def:{{{node training_308/Adam/dense_104/bias/m/Assign}} = AssignVariableOp[_has_manual_control_dependencies=true, dtype=DT_FLOAT, validate_shape=false](training_308/Adam/dense_104/bias/m, training_308/Adam/dense_104/bias/m/Initializer/zeros)}}' was changed by setting attribute after it was run by a session. This mutation will have no effect, and will trigger an error in the future. Either don't modify nodes after running them or create a new session.\n",
      "/Users/boabangfrancis/anaconda3/lib/python3.11/site-packages/keras/src/engine/training_v1.py:2335: UserWarning: `Model.state_updates` will be removed in a future version. This property should not be used in TensorFlow 2.0, as `updates` are applied automatically.\n",
      "  updates = self.state_updates\n",
      "2025-07-15 07:22:30.459381: W tensorflow/c/c_api.cc:304] Operation '{name:'loss_172/mul' id:186397 op device:{requested: '', assigned: ''} def:{{{node loss_172/mul}} = Mul[T=DT_FLOAT, _has_manual_control_dependencies=true](loss_172/mul/x, loss_172/dense_104_loss/value)}}' was changed by setting attribute after it was run by a session. This mutation will have no effect, and will trigger an error in the future. Either don't modify nodes after running them or create a new session.\n"
     ]
    },
    {
     "name": "stdout",
     "output_type": "stream",
     "text": [
      "\n",
      "➡️ Stage 2 | Epochs: 40 | Loss: nonconvex_focal_loss\n"
     ]
    },
    {
     "name": "stderr",
     "output_type": "stream",
     "text": [
      "2025-07-15 07:23:28.333458: W tensorflow/c/c_api.cc:304] Operation '{name:'false_negatives_310/Assign' id:187152 op device:{requested: '', assigned: ''} def:{{{node false_negatives_310/Assign}} = AssignVariableOp[_has_manual_control_dependencies=true, dtype=DT_FLOAT, validate_shape=false](false_negatives_310, false_negatives_310/Initializer/zeros)}}' was changed by setting attribute after it was run by a session. This mutation will have no effect, and will trigger an error in the future. Either don't modify nodes after running them or create a new session.\n",
      "2025-07-15 07:23:41.468212: W tensorflow/c/c_api.cc:304] Operation '{name:'loss_173/mul' id:187435 op device:{requested: '', assigned: ''} def:{{{node loss_173/mul}} = Mul[T=DT_FLOAT, _has_manual_control_dependencies=true](loss_173/mul/x, loss_173/dense_104_loss/value)}}' was changed by setting attribute after it was run by a session. This mutation will have no effect, and will trigger an error in the future. Either don't modify nodes after running them or create a new session.\n"
     ]
    },
    {
     "name": "stdout",
     "output_type": "stream",
     "text": [
      "\n",
      "➡️ Stage 3 | Epochs: 50 | Loss: hybrid_nonconvex_focal_loss\n"
     ]
    },
    {
     "name": "stderr",
     "output_type": "stream",
     "text": [
      "2025-07-15 07:27:26.064573: W tensorflow/c/c_api.cc:304] Operation '{name:'false_negatives_312/Assign' id:188093 op device:{requested: '', assigned: ''} def:{{{node false_negatives_312/Assign}} = AssignVariableOp[_has_manual_control_dependencies=true, dtype=DT_FLOAT, validate_shape=false](false_negatives_312, false_negatives_312/Initializer/zeros)}}' was changed by setting attribute after it was run by a session. This mutation will have no effect, and will trigger an error in the future. Either don't modify nodes after running them or create a new session.\n",
      "2025-07-15 07:27:39.328079: W tensorflow/c/c_api.cc:304] Operation '{name:'loss_174/mul' id:188376 op device:{requested: '', assigned: ''} def:{{{node loss_174/mul}} = Mul[T=DT_FLOAT, _has_manual_control_dependencies=true](loss_174/mul/x, loss_174/dense_104_loss/value)}}' was changed by setting attribute after it was run by a session. This mutation will have no effect, and will trigger an error in the future. Either don't modify nodes after running them or create a new session.\n",
      "/Users/boabangfrancis/anaconda3/lib/python3.11/site-packages/keras/src/engine/training_v1.py:2359: UserWarning: `Model.state_updates` will be removed in a future version. This property should not be used in TensorFlow 2.0, as `updates` are applied automatically.\n",
      "  updates=self.state_updates,\n",
      "2025-07-15 07:32:25.184645: W tensorflow/c/c_api.cc:304] Operation '{name:'dense_104/Sigmoid' id:186095 op device:{requested: '', assigned: ''} def:{{{node dense_104/Sigmoid}} = Sigmoid[T=DT_FLOAT, _has_manual_control_dependencies=true](dense_104/BiasAdd)}}' was changed by setting attribute after it was run by a session. This mutation will have no effect, and will trigger an error in the future. Either don't modify nodes after running them or create a new session.\n"
     ]
    },
    {
     "name": "stdout",
     "output_type": "stream",
     "text": [
      "\n",
      "📂 Fold 4/10\n",
      "\n",
      "➡️ Stage 1 | Epochs: 10 | Loss: convex_focal_loss\n"
     ]
    },
    {
     "name": "stderr",
     "output_type": "stream",
     "text": [
      "2025-07-15 07:32:29.149531: W tensorflow/c/c_api.cc:304] Operation '{name:'lstm_105/lstm_cell/kernel/Assign' id:189034 op device:{requested: '', assigned: ''} def:{{{node lstm_105/lstm_cell/kernel/Assign}} = AssignVariableOp[_has_manual_control_dependencies=true, dtype=DT_FLOAT, validate_shape=false](lstm_105/lstm_cell/kernel, lstm_105/lstm_cell/kernel/Initializer/random_uniform)}}' was changed by setting attribute after it was run by a session. This mutation will have no effect, and will trigger an error in the future. Either don't modify nodes after running them or create a new session.\n",
      "/Users/boabangfrancis/anaconda3/lib/python3.11/site-packages/keras/src/engine/training_v1.py:2335: UserWarning: `Model.state_updates` will be removed in a future version. This property should not be used in TensorFlow 2.0, as `updates` are applied automatically.\n",
      "  updates = self.state_updates\n",
      "2025-07-15 07:32:42.472904: W tensorflow/c/c_api.cc:304] Operation '{name:'loss_175/mul' id:189540 op device:{requested: '', assigned: ''} def:{{{node loss_175/mul}} = Mul[T=DT_FLOAT, _has_manual_control_dependencies=true](loss_175/mul/x, loss_175/dense_105_loss/value)}}' was changed by setting attribute after it was run by a session. This mutation will have no effect, and will trigger an error in the future. Either don't modify nodes after running them or create a new session.\n"
     ]
    },
    {
     "name": "stdout",
     "output_type": "stream",
     "text": [
      "\n",
      "➡️ Stage 2 | Epochs: 40 | Loss: nonconvex_focal_loss\n"
     ]
    },
    {
     "name": "stderr",
     "output_type": "stream",
     "text": [
      "2025-07-15 07:33:37.178438: W tensorflow/c/c_api.cc:304] Operation '{name:'true_negatives_158/Assign' id:190305 op device:{requested: '', assigned: ''} def:{{{node true_negatives_158/Assign}} = AssignVariableOp[_has_manual_control_dependencies=true, dtype=DT_FLOAT, validate_shape=false](true_negatives_158, true_negatives_158/Initializer/zeros)}}' was changed by setting attribute after it was run by a session. This mutation will have no effect, and will trigger an error in the future. Either don't modify nodes after running them or create a new session.\n",
      "2025-07-15 07:33:50.530073: W tensorflow/c/c_api.cc:304] Operation '{name:'loss_176/mul' id:190578 op device:{requested: '', assigned: ''} def:{{{node loss_176/mul}} = Mul[T=DT_FLOAT, _has_manual_control_dependencies=true](loss_176/mul/x, loss_176/dense_105_loss/value)}}' was changed by setting attribute after it was run by a session. This mutation will have no effect, and will trigger an error in the future. Either don't modify nodes after running them or create a new session.\n"
     ]
    },
    {
     "name": "stdout",
     "output_type": "stream",
     "text": [
      "\n",
      "➡️ Stage 3 | Epochs: 50 | Loss: hybrid_nonconvex_focal_loss\n"
     ]
    },
    {
     "name": "stderr",
     "output_type": "stream",
     "text": [
      "2025-07-15 07:37:33.497674: W tensorflow/c/c_api.cc:304] Operation '{name:'count_159/Assign' id:191267 op device:{requested: '', assigned: ''} def:{{{node count_159/Assign}} = AssignVariableOp[_has_manual_control_dependencies=true, dtype=DT_FLOAT, validate_shape=false](count_159, count_159/Initializer/zeros)}}' was changed by setting attribute after it was run by a session. This mutation will have no effect, and will trigger an error in the future. Either don't modify nodes after running them or create a new session.\n",
      "2025-07-15 07:37:46.957791: W tensorflow/c/c_api.cc:304] Operation '{name:'loss_177/mul' id:191519 op device:{requested: '', assigned: ''} def:{{{node loss_177/mul}} = Mul[T=DT_FLOAT, _has_manual_control_dependencies=true](loss_177/mul/x, loss_177/dense_105_loss/value)}}' was changed by setting attribute after it was run by a session. This mutation will have no effect, and will trigger an error in the future. Either don't modify nodes after running them or create a new session.\n",
      "/Users/boabangfrancis/anaconda3/lib/python3.11/site-packages/keras/src/engine/training_v1.py:2359: UserWarning: `Model.state_updates` will be removed in a future version. This property should not be used in TensorFlow 2.0, as `updates` are applied automatically.\n",
      "  updates=self.state_updates,\n",
      "2025-07-15 07:42:30.929585: W tensorflow/c/c_api.cc:304] Operation '{name:'dense_105/Sigmoid' id:189238 op device:{requested: '', assigned: ''} def:{{{node dense_105/Sigmoid}} = Sigmoid[T=DT_FLOAT, _has_manual_control_dependencies=true](dense_105/BiasAdd)}}' was changed by setting attribute after it was run by a session. This mutation will have no effect, and will trigger an error in the future. Either don't modify nodes after running them or create a new session.\n"
     ]
    },
    {
     "name": "stdout",
     "output_type": "stream",
     "text": [
      "\n",
      "📂 Fold 5/10\n",
      "\n",
      "➡️ Stage 1 | Epochs: 10 | Loss: convex_focal_loss\n"
     ]
    },
    {
     "name": "stderr",
     "output_type": "stream",
     "text": [
      "2025-07-15 07:42:34.810203: W tensorflow/c/c_api.cc:304] Operation '{name:'lstm_106/lstm_cell/recurrent_kernel/Assign' id:192197 op device:{requested: '', assigned: ''} def:{{{node lstm_106/lstm_cell/recurrent_kernel/Assign}} = AssignVariableOp[_has_manual_control_dependencies=true, dtype=DT_FLOAT, validate_shape=false](lstm_106/lstm_cell/recurrent_kernel, lstm_106/lstm_cell/recurrent_kernel/Initializer/mul_1)}}' was changed by setting attribute after it was run by a session. This mutation will have no effect, and will trigger an error in the future. Either don't modify nodes after running them or create a new session.\n",
      "/Users/boabangfrancis/anaconda3/lib/python3.11/site-packages/keras/src/engine/training_v1.py:2335: UserWarning: `Model.state_updates` will be removed in a future version. This property should not be used in TensorFlow 2.0, as `updates` are applied automatically.\n",
      "  updates = self.state_updates\n",
      "2025-07-15 07:42:48.158247: W tensorflow/c/c_api.cc:304] Operation '{name:'loss_178/mul' id:192683 op device:{requested: '', assigned: ''} def:{{{node loss_178/mul}} = Mul[T=DT_FLOAT, _has_manual_control_dependencies=true](loss_178/mul/x, loss_178/dense_106_loss/value)}}' was changed by setting attribute after it was run by a session. This mutation will have no effect, and will trigger an error in the future. Either don't modify nodes after running them or create a new session.\n"
     ]
    },
    {
     "name": "stdout",
     "output_type": "stream",
     "text": [
      "\n",
      "➡️ Stage 2 | Epochs: 40 | Loss: nonconvex_focal_loss\n"
     ]
    },
    {
     "name": "stderr",
     "output_type": "stream",
     "text": [
      "2025-07-15 07:43:43.509205: W tensorflow/c/c_api.cc:304] Operation '{name:'false_positives_322/Assign' id:193428 op device:{requested: '', assigned: ''} def:{{{node false_positives_322/Assign}} = AssignVariableOp[_has_manual_control_dependencies=true, dtype=DT_FLOAT, validate_shape=false](false_positives_322, false_positives_322/Initializer/zeros)}}' was changed by setting attribute after it was run by a session. This mutation will have no effect, and will trigger an error in the future. Either don't modify nodes after running them or create a new session.\n",
      "2025-07-15 07:43:56.905859: W tensorflow/c/c_api.cc:304] Operation '{name:'loss_179/mul' id:193721 op device:{requested: '', assigned: ''} def:{{{node loss_179/mul}} = Mul[T=DT_FLOAT, _has_manual_control_dependencies=true](loss_179/mul/x, loss_179/dense_106_loss/value)}}' was changed by setting attribute after it was run by a session. This mutation will have no effect, and will trigger an error in the future. Either don't modify nodes after running them or create a new session.\n"
     ]
    },
    {
     "name": "stdout",
     "output_type": "stream",
     "text": [
      "\n",
      "➡️ Stage 3 | Epochs: 50 | Loss: hybrid_nonconvex_focal_loss\n"
     ]
    },
    {
     "name": "stderr",
     "output_type": "stream",
     "text": [
      "2025-07-15 07:47:41.015482: W tensorflow/c/c_api.cc:304] Operation '{name:'false_positives_324/Assign' id:194369 op device:{requested: '', assigned: ''} def:{{{node false_positives_324/Assign}} = AssignVariableOp[_has_manual_control_dependencies=true, dtype=DT_FLOAT, validate_shape=false](false_positives_324, false_positives_324/Initializer/zeros)}}' was changed by setting attribute after it was run by a session. This mutation will have no effect, and will trigger an error in the future. Either don't modify nodes after running them or create a new session.\n",
      "2025-07-15 07:47:54.603923: W tensorflow/c/c_api.cc:304] Operation '{name:'loss_180/mul' id:194662 op device:{requested: '', assigned: ''} def:{{{node loss_180/mul}} = Mul[T=DT_FLOAT, _has_manual_control_dependencies=true](loss_180/mul/x, loss_180/dense_106_loss/value)}}' was changed by setting attribute after it was run by a session. This mutation will have no effect, and will trigger an error in the future. Either don't modify nodes after running them or create a new session.\n",
      "/Users/boabangfrancis/anaconda3/lib/python3.11/site-packages/keras/src/engine/training_v1.py:2359: UserWarning: `Model.state_updates` will be removed in a future version. This property should not be used in TensorFlow 2.0, as `updates` are applied automatically.\n",
      "  updates=self.state_updates,\n",
      "2025-07-15 07:52:35.037803: W tensorflow/c/c_api.cc:304] Operation '{name:'dense_106/Sigmoid' id:192381 op device:{requested: '', assigned: ''} def:{{{node dense_106/Sigmoid}} = Sigmoid[T=DT_FLOAT, _has_manual_control_dependencies=true](dense_106/BiasAdd)}}' was changed by setting attribute after it was run by a session. This mutation will have no effect, and will trigger an error in the future. Either don't modify nodes after running them or create a new session.\n"
     ]
    },
    {
     "name": "stdout",
     "output_type": "stream",
     "text": [
      "\n",
      "📂 Fold 6/10\n",
      "\n",
      "➡️ Stage 1 | Epochs: 10 | Loss: convex_focal_loss\n"
     ]
    },
    {
     "name": "stderr",
     "output_type": "stream",
     "text": [
      "2025-07-15 07:52:39.226282: W tensorflow/c/c_api.cc:304] Operation '{name:'dense_107/bias/Assign' id:195518 op device:{requested: '', assigned: ''} def:{{{node dense_107/bias/Assign}} = AssignVariableOp[_has_manual_control_dependencies=true, dtype=DT_FLOAT, validate_shape=false](dense_107/bias, dense_107/bias/Initializer/zeros)}}' was changed by setting attribute after it was run by a session. This mutation will have no effect, and will trigger an error in the future. Either don't modify nodes after running them or create a new session.\n",
      "/Users/boabangfrancis/anaconda3/lib/python3.11/site-packages/keras/src/engine/training_v1.py:2335: UserWarning: `Model.state_updates` will be removed in a future version. This property should not be used in TensorFlow 2.0, as `updates` are applied automatically.\n",
      "  updates = self.state_updates\n",
      "2025-07-15 07:52:52.836272: W tensorflow/c/c_api.cc:304] Operation '{name:'loss_181/mul' id:195826 op device:{requested: '', assigned: ''} def:{{{node loss_181/mul}} = Mul[T=DT_FLOAT, _has_manual_control_dependencies=true](loss_181/mul/x, loss_181/dense_107_loss/value)}}' was changed by setting attribute after it was run by a session. This mutation will have no effect, and will trigger an error in the future. Either don't modify nodes after running them or create a new session.\n"
     ]
    },
    {
     "name": "stdout",
     "output_type": "stream",
     "text": [
      "\n",
      "➡️ Stage 2 | Epochs: 40 | Loss: nonconvex_focal_loss\n"
     ]
    },
    {
     "name": "stderr",
     "output_type": "stream",
     "text": [
      "2025-07-15 07:53:48.571456: W tensorflow/c/c_api.cc:304] Operation '{name:'true_positives_494/Assign' id:196586 op device:{requested: '', assigned: ''} def:{{{node true_positives_494/Assign}} = AssignVariableOp[_has_manual_control_dependencies=true, dtype=DT_FLOAT, validate_shape=false](true_positives_494, true_positives_494/Initializer/zeros)}}' was changed by setting attribute after it was run by a session. This mutation will have no effect, and will trigger an error in the future. Either don't modify nodes after running them or create a new session.\n",
      "2025-07-15 07:54:02.019151: W tensorflow/c/c_api.cc:304] Operation '{name:'loss_182/mul' id:196864 op device:{requested: '', assigned: ''} def:{{{node loss_182/mul}} = Mul[T=DT_FLOAT, _has_manual_control_dependencies=true](loss_182/mul/x, loss_182/dense_107_loss/value)}}' was changed by setting attribute after it was run by a session. This mutation will have no effect, and will trigger an error in the future. Either don't modify nodes after running them or create a new session.\n"
     ]
    },
    {
     "name": "stdout",
     "output_type": "stream",
     "text": [
      "\n",
      "➡️ Stage 3 | Epochs: 50 | Loss: hybrid_nonconvex_focal_loss\n"
     ]
    },
    {
     "name": "stderr",
     "output_type": "stream",
     "text": [
      "2025-07-15 07:57:50.705218: W tensorflow/c/c_api.cc:304] Operation '{name:'true_positives_496/Assign' id:197517 op device:{requested: '', assigned: ''} def:{{{node true_positives_496/Assign}} = AssignVariableOp[_has_manual_control_dependencies=true, dtype=DT_FLOAT, validate_shape=false](true_positives_496, true_positives_496/Initializer/zeros)}}' was changed by setting attribute after it was run by a session. This mutation will have no effect, and will trigger an error in the future. Either don't modify nodes after running them or create a new session.\n",
      "2025-07-15 07:58:04.325490: W tensorflow/c/c_api.cc:304] Operation '{name:'loss_183/mul' id:197805 op device:{requested: '', assigned: ''} def:{{{node loss_183/mul}} = Mul[T=DT_FLOAT, _has_manual_control_dependencies=true](loss_183/mul/x, loss_183/dense_107_loss/value)}}' was changed by setting attribute after it was run by a session. This mutation will have no effect, and will trigger an error in the future. Either don't modify nodes after running them or create a new session.\n",
      "/Users/boabangfrancis/anaconda3/lib/python3.11/site-packages/keras/src/engine/training_v1.py:2359: UserWarning: `Model.state_updates` will be removed in a future version. This property should not be used in TensorFlow 2.0, as `updates` are applied automatically.\n",
      "  updates=self.state_updates,\n",
      "2025-07-15 08:02:41.348761: W tensorflow/c/c_api.cc:304] Operation '{name:'dense_107/Sigmoid' id:195524 op device:{requested: '', assigned: ''} def:{{{node dense_107/Sigmoid}} = Sigmoid[T=DT_FLOAT, _has_manual_control_dependencies=true](dense_107/BiasAdd)}}' was changed by setting attribute after it was run by a session. This mutation will have no effect, and will trigger an error in the future. Either don't modify nodes after running them or create a new session.\n"
     ]
    },
    {
     "name": "stdout",
     "output_type": "stream",
     "text": [
      "\n",
      "📂 Fold 7/10\n",
      "\n",
      "➡️ Stage 1 | Epochs: 10 | Loss: convex_focal_loss\n"
     ]
    },
    {
     "name": "stderr",
     "output_type": "stream",
     "text": [
      "2025-07-15 08:02:45.481336: W tensorflow/c/c_api.cc:304] Operation '{name:'training_332/Adam/dense_108/kernel/m/Assign' id:199561 op device:{requested: '', assigned: ''} def:{{{node training_332/Adam/dense_108/kernel/m/Assign}} = AssignVariableOp[_has_manual_control_dependencies=true, dtype=DT_FLOAT, validate_shape=false](training_332/Adam/dense_108/kernel/m, training_332/Adam/dense_108/kernel/m/Initializer/zeros)}}' was changed by setting attribute after it was run by a session. This mutation will have no effect, and will trigger an error in the future. Either don't modify nodes after running them or create a new session.\n",
      "/Users/boabangfrancis/anaconda3/lib/python3.11/site-packages/keras/src/engine/training_v1.py:2335: UserWarning: `Model.state_updates` will be removed in a future version. This property should not be used in TensorFlow 2.0, as `updates` are applied automatically.\n",
      "  updates = self.state_updates\n",
      "2025-07-15 08:02:59.056750: W tensorflow/c/c_api.cc:304] Operation '{name:'loss_184/mul' id:198969 op device:{requested: '', assigned: ''} def:{{{node loss_184/mul}} = Mul[T=DT_FLOAT, _has_manual_control_dependencies=true](loss_184/mul/x, loss_184/dense_108_loss/value)}}' was changed by setting attribute after it was run by a session. This mutation will have no effect, and will trigger an error in the future. Either don't modify nodes after running them or create a new session.\n"
     ]
    },
    {
     "name": "stdout",
     "output_type": "stream",
     "text": [
      "\n",
      "➡️ Stage 2 | Epochs: 40 | Loss: nonconvex_focal_loss\n"
     ]
    },
    {
     "name": "stderr",
     "output_type": "stream",
     "text": [
      "2025-07-15 08:03:54.559993: W tensorflow/c/c_api.cc:304] Operation '{name:'count_167/Assign' id:199755 op device:{requested: '', assigned: ''} def:{{{node count_167/Assign}} = AssignVariableOp[_has_manual_control_dependencies=true, dtype=DT_FLOAT, validate_shape=false](count_167, count_167/Initializer/zeros)}}' was changed by setting attribute after it was run by a session. This mutation will have no effect, and will trigger an error in the future. Either don't modify nodes after running them or create a new session.\n",
      "2025-07-15 08:04:08.137583: W tensorflow/c/c_api.cc:304] Operation '{name:'loss_185/mul' id:200007 op device:{requested: '', assigned: ''} def:{{{node loss_185/mul}} = Mul[T=DT_FLOAT, _has_manual_control_dependencies=true](loss_185/mul/x, loss_185/dense_108_loss/value)}}' was changed by setting attribute after it was run by a session. This mutation will have no effect, and will trigger an error in the future. Either don't modify nodes after running them or create a new session.\n"
     ]
    },
    {
     "name": "stdout",
     "output_type": "stream",
     "text": [
      "\n",
      "➡️ Stage 3 | Epochs: 50 | Loss: hybrid_nonconvex_focal_loss\n"
     ]
    },
    {
     "name": "stderr",
     "output_type": "stream",
     "text": [
      "2025-07-15 08:07:51.528922: W tensorflow/c/c_api.cc:304] Operation '{name:'false_positives_337/Assign' id:200680 op device:{requested: '', assigned: ''} def:{{{node false_positives_337/Assign}} = AssignVariableOp[_has_manual_control_dependencies=true, dtype=DT_FLOAT, validate_shape=false](false_positives_337, false_positives_337/Initializer/zeros)}}' was changed by setting attribute after it was run by a session. This mutation will have no effect, and will trigger an error in the future. Either don't modify nodes after running them or create a new session.\n",
      "2025-07-15 08:08:05.242602: W tensorflow/c/c_api.cc:304] Operation '{name:'loss_186/mul' id:200948 op device:{requested: '', assigned: ''} def:{{{node loss_186/mul}} = Mul[T=DT_FLOAT, _has_manual_control_dependencies=true](loss_186/mul/x, loss_186/dense_108_loss/value)}}' was changed by setting attribute after it was run by a session. This mutation will have no effect, and will trigger an error in the future. Either don't modify nodes after running them or create a new session.\n",
      "/Users/boabangfrancis/anaconda3/lib/python3.11/site-packages/keras/src/engine/training_v1.py:2359: UserWarning: `Model.state_updates` will be removed in a future version. This property should not be used in TensorFlow 2.0, as `updates` are applied automatically.\n",
      "  updates=self.state_updates,\n",
      "2025-07-15 08:12:44.160736: W tensorflow/c/c_api.cc:304] Operation '{name:'dense_108/Sigmoid' id:198667 op device:{requested: '', assigned: ''} def:{{{node dense_108/Sigmoid}} = Sigmoid[T=DT_FLOAT, _has_manual_control_dependencies=true](dense_108/BiasAdd)}}' was changed by setting attribute after it was run by a session. This mutation will have no effect, and will trigger an error in the future. Either don't modify nodes after running them or create a new session.\n"
     ]
    },
    {
     "name": "stdout",
     "output_type": "stream",
     "text": [
      "\n",
      "📂 Fold 8/10\n",
      "\n",
      "➡️ Stage 1 | Epochs: 10 | Loss: convex_focal_loss\n"
     ]
    },
    {
     "name": "stderr",
     "output_type": "stream",
     "text": [
      "2025-07-15 08:12:48.513538: W tensorflow/c/c_api.cc:304] Operation '{name:'dense_109/bias/Assign' id:201804 op device:{requested: '', assigned: ''} def:{{{node dense_109/bias/Assign}} = AssignVariableOp[_has_manual_control_dependencies=true, dtype=DT_FLOAT, validate_shape=false](dense_109/bias, dense_109/bias/Initializer/zeros)}}' was changed by setting attribute after it was run by a session. This mutation will have no effect, and will trigger an error in the future. Either don't modify nodes after running them or create a new session.\n",
      "/Users/boabangfrancis/anaconda3/lib/python3.11/site-packages/keras/src/engine/training_v1.py:2335: UserWarning: `Model.state_updates` will be removed in a future version. This property should not be used in TensorFlow 2.0, as `updates` are applied automatically.\n",
      "  updates = self.state_updates\n",
      "2025-07-15 08:13:02.269578: W tensorflow/c/c_api.cc:304] Operation '{name:'loss_187/mul' id:202112 op device:{requested: '', assigned: ''} def:{{{node loss_187/mul}} = Mul[T=DT_FLOAT, _has_manual_control_dependencies=true](loss_187/mul/x, loss_187/dense_109_loss/value)}}' was changed by setting attribute after it was run by a session. This mutation will have no effect, and will trigger an error in the future. Either don't modify nodes after running them or create a new session.\n"
     ]
    },
    {
     "name": "stdout",
     "output_type": "stream",
     "text": [
      "\n",
      "➡️ Stage 2 | Epochs: 40 | Loss: nonconvex_focal_loss\n"
     ]
    },
    {
     "name": "stderr",
     "output_type": "stream",
     "text": [
      "2025-07-15 08:13:58.615869: W tensorflow/c/c_api.cc:304] Operation '{name:'true_negatives_170/Assign' id:202877 op device:{requested: '', assigned: ''} def:{{{node true_negatives_170/Assign}} = AssignVariableOp[_has_manual_control_dependencies=true, dtype=DT_FLOAT, validate_shape=false](true_negatives_170, true_negatives_170/Initializer/zeros)}}' was changed by setting attribute after it was run by a session. This mutation will have no effect, and will trigger an error in the future. Either don't modify nodes after running them or create a new session.\n",
      "2025-07-15 08:14:12.319850: W tensorflow/c/c_api.cc:304] Operation '{name:'loss_188/mul' id:203150 op device:{requested: '', assigned: ''} def:{{{node loss_188/mul}} = Mul[T=DT_FLOAT, _has_manual_control_dependencies=true](loss_188/mul/x, loss_188/dense_109_loss/value)}}' was changed by setting attribute after it was run by a session. This mutation will have no effect, and will trigger an error in the future. Either don't modify nodes after running them or create a new session.\n"
     ]
    },
    {
     "name": "stdout",
     "output_type": "stream",
     "text": [
      "\n",
      "➡️ Stage 3 | Epochs: 50 | Loss: hybrid_nonconvex_focal_loss\n"
     ]
    },
    {
     "name": "stderr",
     "output_type": "stream",
     "text": [
      "2025-07-15 08:17:59.428708: W tensorflow/c/c_api.cc:304] Operation '{name:'true_positives_514/Assign' id:203803 op device:{requested: '', assigned: ''} def:{{{node true_positives_514/Assign}} = AssignVariableOp[_has_manual_control_dependencies=true, dtype=DT_FLOAT, validate_shape=false](true_positives_514, true_positives_514/Initializer/zeros)}}' was changed by setting attribute after it was run by a session. This mutation will have no effect, and will trigger an error in the future. Either don't modify nodes after running them or create a new session.\n",
      "2025-07-15 08:18:13.393063: W tensorflow/c/c_api.cc:304] Operation '{name:'loss_189/mul' id:204091 op device:{requested: '', assigned: ''} def:{{{node loss_189/mul}} = Mul[T=DT_FLOAT, _has_manual_control_dependencies=true](loss_189/mul/x, loss_189/dense_109_loss/value)}}' was changed by setting attribute after it was run by a session. This mutation will have no effect, and will trigger an error in the future. Either don't modify nodes after running them or create a new session.\n",
      "/Users/boabangfrancis/anaconda3/lib/python3.11/site-packages/keras/src/engine/training_v1.py:2359: UserWarning: `Model.state_updates` will be removed in a future version. This property should not be used in TensorFlow 2.0, as `updates` are applied automatically.\n",
      "  updates=self.state_updates,\n",
      "2025-07-15 08:22:57.603420: W tensorflow/c/c_api.cc:304] Operation '{name:'dense_109/Sigmoid' id:201810 op device:{requested: '', assigned: ''} def:{{{node dense_109/Sigmoid}} = Sigmoid[T=DT_FLOAT, _has_manual_control_dependencies=true](dense_109/BiasAdd)}}' was changed by setting attribute after it was run by a session. This mutation will have no effect, and will trigger an error in the future. Either don't modify nodes after running them or create a new session.\n"
     ]
    },
    {
     "name": "stdout",
     "output_type": "stream",
     "text": [
      "\n",
      "📂 Fold 9/10\n",
      "\n",
      "➡️ Stage 1 | Epochs: 10 | Loss: convex_focal_loss\n"
     ]
    },
    {
     "name": "stderr",
     "output_type": "stream",
     "text": [
      "2025-07-15 08:23:01.787383: W tensorflow/c/c_api.cc:304] Operation '{name:'training_344/Adam/lstm_110/lstm_cell/recurrent_kernel/m/Assign' id:205837 op device:{requested: '', assigned: ''} def:{{{node training_344/Adam/lstm_110/lstm_cell/recurrent_kernel/m/Assign}} = AssignVariableOp[_has_manual_control_dependencies=true, dtype=DT_FLOAT, validate_shape=false](training_344/Adam/lstm_110/lstm_cell/recurrent_kernel/m, training_344/Adam/lstm_110/lstm_cell/recurrent_kernel/m/Initializer/zeros)}}' was changed by setting attribute after it was run by a session. This mutation will have no effect, and will trigger an error in the future. Either don't modify nodes after running them or create a new session.\n",
      "/Users/boabangfrancis/anaconda3/lib/python3.11/site-packages/keras/src/engine/training_v1.py:2335: UserWarning: `Model.state_updates` will be removed in a future version. This property should not be used in TensorFlow 2.0, as `updates` are applied automatically.\n",
      "  updates = self.state_updates\n",
      "2025-07-15 08:23:15.593252: W tensorflow/c/c_api.cc:304] Operation '{name:'loss_190/mul' id:205255 op device:{requested: '', assigned: ''} def:{{{node loss_190/mul}} = Mul[T=DT_FLOAT, _has_manual_control_dependencies=true](loss_190/mul/x, loss_190/dense_110_loss/value)}}' was changed by setting attribute after it was run by a session. This mutation will have no effect, and will trigger an error in the future. Either don't modify nodes after running them or create a new session.\n"
     ]
    },
    {
     "name": "stdout",
     "output_type": "stream",
     "text": [
      "\n",
      "➡️ Stage 2 | Epochs: 40 | Loss: nonconvex_focal_loss\n"
     ]
    },
    {
     "name": "stderr",
     "output_type": "stream",
     "text": [
      "2025-07-15 08:24:10.001225: W tensorflow/c/c_api.cc:304] Operation '{name:'count_173/Assign' id:206041 op device:{requested: '', assigned: ''} def:{{{node count_173/Assign}} = AssignVariableOp[_has_manual_control_dependencies=true, dtype=DT_FLOAT, validate_shape=false](count_173, count_173/Initializer/zeros)}}' was changed by setting attribute after it was run by a session. This mutation will have no effect, and will trigger an error in the future. Either don't modify nodes after running them or create a new session.\n",
      "2025-07-15 08:24:23.914143: W tensorflow/c/c_api.cc:304] Operation '{name:'loss_191/mul' id:206293 op device:{requested: '', assigned: ''} def:{{{node loss_191/mul}} = Mul[T=DT_FLOAT, _has_manual_control_dependencies=true](loss_191/mul/x, loss_191/dense_110_loss/value)}}' was changed by setting attribute after it was run by a session. This mutation will have no effect, and will trigger an error in the future. Either don't modify nodes after running them or create a new session.\n"
     ]
    },
    {
     "name": "stdout",
     "output_type": "stream",
     "text": [
      "\n",
      "➡️ Stage 3 | Epochs: 50 | Loss: hybrid_nonconvex_focal_loss\n"
     ]
    },
    {
     "name": "stderr",
     "output_type": "stream",
     "text": [
      "2025-07-15 08:28:10.947032: W tensorflow/c/c_api.cc:304] Operation '{name:'true_negatives_174/Assign' id:206961 op device:{requested: '', assigned: ''} def:{{{node true_negatives_174/Assign}} = AssignVariableOp[_has_manual_control_dependencies=true, dtype=DT_FLOAT, validate_shape=false](true_negatives_174, true_negatives_174/Initializer/zeros)}}' was changed by setting attribute after it was run by a session. This mutation will have no effect, and will trigger an error in the future. Either don't modify nodes after running them or create a new session.\n",
      "2025-07-15 08:28:24.888199: W tensorflow/c/c_api.cc:304] Operation '{name:'loss_192/mul' id:207234 op device:{requested: '', assigned: ''} def:{{{node loss_192/mul}} = Mul[T=DT_FLOAT, _has_manual_control_dependencies=true](loss_192/mul/x, loss_192/dense_110_loss/value)}}' was changed by setting attribute after it was run by a session. This mutation will have no effect, and will trigger an error in the future. Either don't modify nodes after running them or create a new session.\n",
      "/Users/boabangfrancis/anaconda3/lib/python3.11/site-packages/keras/src/engine/training_v1.py:2359: UserWarning: `Model.state_updates` will be removed in a future version. This property should not be used in TensorFlow 2.0, as `updates` are applied automatically.\n",
      "  updates=self.state_updates,\n",
      "2025-07-15 08:33:03.609822: W tensorflow/c/c_api.cc:304] Operation '{name:'dense_110/Sigmoid' id:204953 op device:{requested: '', assigned: ''} def:{{{node dense_110/Sigmoid}} = Sigmoid[T=DT_FLOAT, _has_manual_control_dependencies=true](dense_110/BiasAdd)}}' was changed by setting attribute after it was run by a session. This mutation will have no effect, and will trigger an error in the future. Either don't modify nodes after running them or create a new session.\n"
     ]
    },
    {
     "name": "stdout",
     "output_type": "stream",
     "text": [
      "\n",
      "📂 Fold 10/10\n",
      "\n",
      "➡️ Stage 1 | Epochs: 10 | Loss: convex_focal_loss\n"
     ]
    },
    {
     "name": "stderr",
     "output_type": "stream",
     "text": [
      "2025-07-15 08:33:07.807567: W tensorflow/c/c_api.cc:304] Operation '{name:'training_350/Adam/lstm_111/lstm_cell/kernel/m/Assign' id:208973 op device:{requested: '', assigned: ''} def:{{{node training_350/Adam/lstm_111/lstm_cell/kernel/m/Assign}} = AssignVariableOp[_has_manual_control_dependencies=true, dtype=DT_FLOAT, validate_shape=false](training_350/Adam/lstm_111/lstm_cell/kernel/m, training_350/Adam/lstm_111/lstm_cell/kernel/m/Initializer/zeros)}}' was changed by setting attribute after it was run by a session. This mutation will have no effect, and will trigger an error in the future. Either don't modify nodes after running them or create a new session.\n",
      "/Users/boabangfrancis/anaconda3/lib/python3.11/site-packages/keras/src/engine/training_v1.py:2335: UserWarning: `Model.state_updates` will be removed in a future version. This property should not be used in TensorFlow 2.0, as `updates` are applied automatically.\n",
      "  updates = self.state_updates\n",
      "2025-07-15 08:33:22.328613: W tensorflow/c/c_api.cc:304] Operation '{name:'loss_193/mul' id:208398 op device:{requested: '', assigned: ''} def:{{{node loss_193/mul}} = Mul[T=DT_FLOAT, _has_manual_control_dependencies=true](loss_193/mul/x, loss_193/dense_111_loss/value)}}' was changed by setting attribute after it was run by a session. This mutation will have no effect, and will trigger an error in the future. Either don't modify nodes after running them or create a new session.\n"
     ]
    },
    {
     "name": "stdout",
     "output_type": "stream",
     "text": [
      "\n",
      "➡️ Stage 2 | Epochs: 40 | Loss: nonconvex_focal_loss\n"
     ]
    },
    {
     "name": "stderr",
     "output_type": "stream",
     "text": [
      "2025-07-15 08:34:20.414464: W tensorflow/c/c_api.cc:304] Operation '{name:'false_positives_352/Assign' id:209143 op device:{requested: '', assigned: ''} def:{{{node false_positives_352/Assign}} = AssignVariableOp[_has_manual_control_dependencies=true, dtype=DT_FLOAT, validate_shape=false](false_positives_352, false_positives_352/Initializer/zeros)}}' was changed by setting attribute after it was run by a session. This mutation will have no effect, and will trigger an error in the future. Either don't modify nodes after running them or create a new session.\n",
      "2025-07-15 08:34:34.457959: W tensorflow/c/c_api.cc:304] Operation '{name:'loss_194/mul' id:209436 op device:{requested: '', assigned: ''} def:{{{node loss_194/mul}} = Mul[T=DT_FLOAT, _has_manual_control_dependencies=true](loss_194/mul/x, loss_194/dense_111_loss/value)}}' was changed by setting attribute after it was run by a session. This mutation will have no effect, and will trigger an error in the future. Either don't modify nodes after running them or create a new session.\n"
     ]
    },
    {
     "name": "stdout",
     "output_type": "stream",
     "text": [
      "\n",
      "➡️ Stage 3 | Epochs: 50 | Loss: hybrid_nonconvex_focal_loss\n"
     ]
    },
    {
     "name": "stderr",
     "output_type": "stream",
     "text": [
      "2025-07-15 08:38:23.196736: W tensorflow/c/c_api.cc:304] Operation '{name:'false_negatives_354/Assign' id:210094 op device:{requested: '', assigned: ''} def:{{{node false_negatives_354/Assign}} = AssignVariableOp[_has_manual_control_dependencies=true, dtype=DT_FLOAT, validate_shape=false](false_negatives_354, false_negatives_354/Initializer/zeros)}}' was changed by setting attribute after it was run by a session. This mutation will have no effect, and will trigger an error in the future. Either don't modify nodes after running them or create a new session.\n",
      "2025-07-15 08:38:37.550699: W tensorflow/c/c_api.cc:304] Operation '{name:'loss_195/mul' id:210377 op device:{requested: '', assigned: ''} def:{{{node loss_195/mul}} = Mul[T=DT_FLOAT, _has_manual_control_dependencies=true](loss_195/mul/x, loss_195/dense_111_loss/value)}}' was changed by setting attribute after it was run by a session. This mutation will have no effect, and will trigger an error in the future. Either don't modify nodes after running them or create a new session.\n",
      "/Users/boabangfrancis/anaconda3/lib/python3.11/site-packages/keras/src/engine/training_v1.py:2359: UserWarning: `Model.state_updates` will be removed in a future version. This property should not be used in TensorFlow 2.0, as `updates` are applied automatically.\n",
      "  updates=self.state_updates,\n",
      "2025-07-15 08:43:22.826890: W tensorflow/c/c_api.cc:304] Operation '{name:'dense_111/Sigmoid' id:208096 op device:{requested: '', assigned: ''} def:{{{node dense_111/Sigmoid}} = Sigmoid[T=DT_FLOAT, _has_manual_control_dependencies=true](dense_111/BiasAdd)}}' was changed by setting attribute after it was run by a session. This mutation will have no effect, and will trigger an error in the future. Either don't modify nodes after running them or create a new session.\n"
     ]
    },
    {
     "name": "stdout",
     "output_type": "stream",
     "text": [
      "\n",
      "📊 Average metrics for schedule 'Multistage_1': {'loss': 0.042769497973443586, 'accuracy': 0.6276899, 'precision': 0.62700623, 'recall': 0.66018754, 'f1': 0.6346389362983992, 'auc': 0.6828163825328228}\n",
      "\n",
      "📂 Fold 1/10\n",
      "\n",
      "➡️ Stage 1 | Epochs: 100 | Loss: nonconvex_focal_loss\n"
     ]
    },
    {
     "name": "stderr",
     "output_type": "stream",
     "text": [
      "2025-07-15 08:43:27.093752: W tensorflow/c/c_api.cc:304] Operation '{name:'count_178/Assign' id:211289 op device:{requested: '', assigned: ''} def:{{{node count_178/Assign}} = AssignVariableOp[_has_manual_control_dependencies=true, dtype=DT_FLOAT, validate_shape=false](count_178, count_178/Initializer/zeros)}}' was changed by setting attribute after it was run by a session. This mutation will have no effect, and will trigger an error in the future. Either don't modify nodes after running them or create a new session.\n",
      "/Users/boabangfrancis/anaconda3/lib/python3.11/site-packages/keras/src/engine/training_v1.py:2335: UserWarning: `Model.state_updates` will be removed in a future version. This property should not be used in TensorFlow 2.0, as `updates` are applied automatically.\n",
      "  updates = self.state_updates\n",
      "2025-07-15 08:43:41.258711: W tensorflow/c/c_api.cc:304] Operation '{name:'loss_196/mul' id:211541 op device:{requested: '', assigned: ''} def:{{{node loss_196/mul}} = Mul[T=DT_FLOAT, _has_manual_control_dependencies=true](loss_196/mul/x, loss_196/dense_112_loss/value)}}' was changed by setting attribute after it was run by a session. This mutation will have no effect, and will trigger an error in the future. Either don't modify nodes after running them or create a new session.\n",
      "/Users/boabangfrancis/anaconda3/lib/python3.11/site-packages/keras/src/engine/training_v1.py:2359: UserWarning: `Model.state_updates` will be removed in a future version. This property should not be used in TensorFlow 2.0, as `updates` are applied automatically.\n",
      "  updates=self.state_updates,\n",
      "2025-07-15 08:52:59.845262: W tensorflow/c/c_api.cc:304] Operation '{name:'dense_112/Sigmoid' id:211239 op device:{requested: '', assigned: ''} def:{{{node dense_112/Sigmoid}} = Sigmoid[T=DT_FLOAT, _has_manual_control_dependencies=true](dense_112/BiasAdd)}}' was changed by setting attribute after it was run by a session. This mutation will have no effect, and will trigger an error in the future. Either don't modify nodes after running them or create a new session.\n"
     ]
    },
    {
     "name": "stdout",
     "output_type": "stream",
     "text": [
      "🔍 Calculating SHAP values for fold 1 of 'Nonconvex Only'\n",
      "\n",
      "📂 Fold 2/10\n",
      "\n",
      "➡️ Stage 1 | Epochs: 100 | Loss: nonconvex_focal_loss\n"
     ]
    },
    {
     "name": "stderr",
     "output_type": "stream",
     "text": [
      "2025-07-15 08:53:16.325759: W tensorflow/c/c_api.cc:304] Operation '{name:'true_negatives_179/Assign' id:212967 op device:{requested: '', assigned: ''} def:{{{node true_negatives_179/Assign}} = AssignVariableOp[_has_manual_control_dependencies=true, dtype=DT_FLOAT, validate_shape=false](true_negatives_179, true_negatives_179/Initializer/zeros)}}' was changed by setting attribute after it was run by a session. This mutation will have no effect, and will trigger an error in the future. Either don't modify nodes after running them or create a new session.\n",
      "/Users/boabangfrancis/anaconda3/lib/python3.11/site-packages/keras/src/engine/training_v1.py:2335: UserWarning: `Model.state_updates` will be removed in a future version. This property should not be used in TensorFlow 2.0, as `updates` are applied automatically.\n",
      "  updates = self.state_updates\n",
      "2025-07-15 08:53:30.771342: W tensorflow/c/c_api.cc:304] Operation '{name:'loss_198/mul' id:213240 op device:{requested: '', assigned: ''} def:{{{node loss_198/mul}} = Mul[T=DT_FLOAT, _has_manual_control_dependencies=true](loss_198/mul/x, loss_198/dense_113_loss/value)}}' was changed by setting attribute after it was run by a session. This mutation will have no effect, and will trigger an error in the future. Either don't modify nodes after running them or create a new session.\n",
      "/Users/boabangfrancis/anaconda3/lib/python3.11/site-packages/keras/src/engine/training_v1.py:2359: UserWarning: `Model.state_updates` will be removed in a future version. This property should not be used in TensorFlow 2.0, as `updates` are applied automatically.\n",
      "  updates=self.state_updates,\n",
      "2025-07-15 09:03:06.659601: W tensorflow/c/c_api.cc:304] Operation '{name:'dense_113/Sigmoid' id:212938 op device:{requested: '', assigned: ''} def:{{{node dense_113/Sigmoid}} = Sigmoid[T=DT_FLOAT, _has_manual_control_dependencies=true](dense_113/BiasAdd)}}' was changed by setting attribute after it was run by a session. This mutation will have no effect, and will trigger an error in the future. Either don't modify nodes after running them or create a new session.\n"
     ]
    },
    {
     "name": "stdout",
     "output_type": "stream",
     "text": [
      "\n",
      "📂 Fold 3/10\n",
      "\n",
      "➡️ Stage 1 | Epochs: 100 | Loss: nonconvex_focal_loss\n"
     ]
    },
    {
     "name": "stderr",
     "output_type": "stream",
     "text": [
      "2025-07-15 09:03:10.969318: W tensorflow/c/c_api.cc:304] Operation '{name:'training_360/Adam/beta_2/Assign' id:215064 op device:{requested: '', assigned: ''} def:{{{node training_360/Adam/beta_2/Assign}} = AssignVariableOp[_has_manual_control_dependencies=true, dtype=DT_FLOAT, validate_shape=false](training_360/Adam/beta_2, training_360/Adam/beta_2/Initializer/initial_value)}}' was changed by setting attribute after it was run by a session. This mutation will have no effect, and will trigger an error in the future. Either don't modify nodes after running them or create a new session.\n",
      "/Users/boabangfrancis/anaconda3/lib/python3.11/site-packages/keras/src/engine/training_v1.py:2335: UserWarning: `Model.state_updates` will be removed in a future version. This property should not be used in TensorFlow 2.0, as `updates` are applied automatically.\n",
      "  updates = self.state_updates\n",
      "2025-07-15 09:03:25.316910: W tensorflow/c/c_api.cc:304] Operation '{name:'loss_199/mul' id:214501 op device:{requested: '', assigned: ''} def:{{{node loss_199/mul}} = Mul[T=DT_FLOAT, _has_manual_control_dependencies=true](loss_199/mul/x, loss_199/dense_114_loss/value)}}' was changed by setting attribute after it was run by a session. This mutation will have no effect, and will trigger an error in the future. Either don't modify nodes after running them or create a new session.\n",
      "/Users/boabangfrancis/anaconda3/lib/python3.11/site-packages/keras/src/engine/training_v1.py:2359: UserWarning: `Model.state_updates` will be removed in a future version. This property should not be used in TensorFlow 2.0, as `updates` are applied automatically.\n",
      "  updates=self.state_updates,\n",
      "2025-07-15 09:12:53.347142: W tensorflow/c/c_api.cc:304] Operation '{name:'dense_114/Sigmoid' id:214199 op device:{requested: '', assigned: ''} def:{{{node dense_114/Sigmoid}} = Sigmoid[T=DT_FLOAT, _has_manual_control_dependencies=true](dense_114/BiasAdd)}}' was changed by setting attribute after it was run by a session. This mutation will have no effect, and will trigger an error in the future. Either don't modify nodes after running them or create a new session.\n"
     ]
    },
    {
     "name": "stdout",
     "output_type": "stream",
     "text": [
      "\n",
      "📂 Fold 4/10\n",
      "\n",
      "➡️ Stage 1 | Epochs: 100 | Loss: nonconvex_focal_loss\n"
     ]
    },
    {
     "name": "stderr",
     "output_type": "stream",
     "text": [
      "2025-07-15 09:12:57.952465: W tensorflow/c/c_api.cc:304] Operation '{name:'false_positives_363/Assign' id:215494 op device:{requested: '', assigned: ''} def:{{{node false_positives_363/Assign}} = AssignVariableOp[_has_manual_control_dependencies=true, dtype=DT_FLOAT, validate_shape=false](false_positives_363, false_positives_363/Initializer/zeros)}}' was changed by setting attribute after it was run by a session. This mutation will have no effect, and will trigger an error in the future. Either don't modify nodes after running them or create a new session.\n",
      "/Users/boabangfrancis/anaconda3/lib/python3.11/site-packages/keras/src/engine/training_v1.py:2335: UserWarning: `Model.state_updates` will be removed in a future version. This property should not be used in TensorFlow 2.0, as `updates` are applied automatically.\n",
      "  updates = self.state_updates\n",
      "2025-07-15 09:13:12.592769: W tensorflow/c/c_api.cc:304] Operation '{name:'loss_200/mul' id:215762 op device:{requested: '', assigned: ''} def:{{{node loss_200/mul}} = Mul[T=DT_FLOAT, _has_manual_control_dependencies=true](loss_200/mul/x, loss_200/dense_115_loss/value)}}' was changed by setting attribute after it was run by a session. This mutation will have no effect, and will trigger an error in the future. Either don't modify nodes after running them or create a new session.\n",
      "/Users/boabangfrancis/anaconda3/lib/python3.11/site-packages/keras/src/engine/training_v1.py:2359: UserWarning: `Model.state_updates` will be removed in a future version. This property should not be used in TensorFlow 2.0, as `updates` are applied automatically.\n",
      "  updates=self.state_updates,\n",
      "2025-07-15 09:23:10.728441: W tensorflow/c/c_api.cc:304] Operation '{name:'dense_115/Sigmoid' id:215460 op device:{requested: '', assigned: ''} def:{{{node dense_115/Sigmoid}} = Sigmoid[T=DT_FLOAT, _has_manual_control_dependencies=true](dense_115/BiasAdd)}}' was changed by setting attribute after it was run by a session. This mutation will have no effect, and will trigger an error in the future. Either don't modify nodes after running them or create a new session.\n"
     ]
    },
    {
     "name": "stdout",
     "output_type": "stream",
     "text": [
      "\n",
      "📂 Fold 5/10\n",
      "\n",
      "➡️ Stage 1 | Epochs: 100 | Loss: nonconvex_focal_loss\n"
     ]
    },
    {
     "name": "stderr",
     "output_type": "stream",
     "text": [
      "2025-07-15 09:23:15.252648: W tensorflow/c/c_api.cc:304] Operation '{name:'training_364/Adam/dense_116/kernel/v/Assign' id:217644 op device:{requested: '', assigned: ''} def:{{{node training_364/Adam/dense_116/kernel/v/Assign}} = AssignVariableOp[_has_manual_control_dependencies=true, dtype=DT_FLOAT, validate_shape=false](training_364/Adam/dense_116/kernel/v, training_364/Adam/dense_116/kernel/v/Initializer/zeros)}}' was changed by setting attribute after it was run by a session. This mutation will have no effect, and will trigger an error in the future. Either don't modify nodes after running them or create a new session.\n",
      "/Users/boabangfrancis/anaconda3/lib/python3.11/site-packages/keras/src/engine/training_v1.py:2335: UserWarning: `Model.state_updates` will be removed in a future version. This property should not be used in TensorFlow 2.0, as `updates` are applied automatically.\n",
      "  updates = self.state_updates\n",
      "2025-07-15 09:23:30.006264: W tensorflow/c/c_api.cc:304] Operation '{name:'loss_201/mul' id:217023 op device:{requested: '', assigned: ''} def:{{{node loss_201/mul}} = Mul[T=DT_FLOAT, _has_manual_control_dependencies=true](loss_201/mul/x, loss_201/dense_116_loss/value)}}' was changed by setting attribute after it was run by a session. This mutation will have no effect, and will trigger an error in the future. Either don't modify nodes after running them or create a new session.\n",
      "/Users/boabangfrancis/anaconda3/lib/python3.11/site-packages/keras/src/engine/training_v1.py:2359: UserWarning: `Model.state_updates` will be removed in a future version. This property should not be used in TensorFlow 2.0, as `updates` are applied automatically.\n",
      "  updates=self.state_updates,\n",
      "2025-07-15 09:33:11.487820: W tensorflow/c/c_api.cc:304] Operation '{name:'dense_116/Sigmoid' id:216721 op device:{requested: '', assigned: ''} def:{{{node dense_116/Sigmoid}} = Sigmoid[T=DT_FLOAT, _has_manual_control_dependencies=true](dense_116/BiasAdd)}}' was changed by setting attribute after it was run by a session. This mutation will have no effect, and will trigger an error in the future. Either don't modify nodes after running them or create a new session.\n"
     ]
    },
    {
     "name": "stdout",
     "output_type": "stream",
     "text": [
      "\n",
      "📂 Fold 6/10\n",
      "\n",
      "➡️ Stage 1 | Epochs: 100 | Loss: nonconvex_focal_loss\n"
     ]
    },
    {
     "name": "stderr",
     "output_type": "stream",
     "text": [
      "2025-07-15 09:33:16.144674: W tensorflow/c/c_api.cc:304] Operation '{name:'dense_117/bias/Assign' id:217976 op device:{requested: '', assigned: ''} def:{{{node dense_117/bias/Assign}} = AssignVariableOp[_has_manual_control_dependencies=true, dtype=DT_FLOAT, validate_shape=false](dense_117/bias, dense_117/bias/Initializer/zeros)}}' was changed by setting attribute after it was run by a session. This mutation will have no effect, and will trigger an error in the future. Either don't modify nodes after running them or create a new session.\n",
      "/Users/boabangfrancis/anaconda3/lib/python3.11/site-packages/keras/src/engine/training_v1.py:2335: UserWarning: `Model.state_updates` will be removed in a future version. This property should not be used in TensorFlow 2.0, as `updates` are applied automatically.\n",
      "  updates = self.state_updates\n",
      "2025-07-15 09:33:30.920372: W tensorflow/c/c_api.cc:304] Operation '{name:'loss_202/mul' id:218284 op device:{requested: '', assigned: ''} def:{{{node loss_202/mul}} = Mul[T=DT_FLOAT, _has_manual_control_dependencies=true](loss_202/mul/x, loss_202/dense_117_loss/value)}}' was changed by setting attribute after it was run by a session. This mutation will have no effect, and will trigger an error in the future. Either don't modify nodes after running them or create a new session.\n",
      "/Users/boabangfrancis/anaconda3/lib/python3.11/site-packages/keras/src/engine/training_v1.py:2359: UserWarning: `Model.state_updates` will be removed in a future version. This property should not be used in TensorFlow 2.0, as `updates` are applied automatically.\n",
      "  updates=self.state_updates,\n",
      "2025-07-15 09:42:57.063128: W tensorflow/c/c_api.cc:304] Operation '{name:'dense_117/Sigmoid' id:217982 op device:{requested: '', assigned: ''} def:{{{node dense_117/Sigmoid}} = Sigmoid[T=DT_FLOAT, _has_manual_control_dependencies=true](dense_117/BiasAdd)}}' was changed by setting attribute after it was run by a session. This mutation will have no effect, and will trigger an error in the future. Either don't modify nodes after running them or create a new session.\n"
     ]
    },
    {
     "name": "stdout",
     "output_type": "stream",
     "text": [
      "\n",
      "📂 Fold 7/10\n",
      "\n",
      "➡️ Stage 1 | Epochs: 100 | Loss: nonconvex_focal_loss\n"
     ]
    },
    {
     "name": "stderr",
     "output_type": "stream",
     "text": [
      "2025-07-15 09:43:01.744585: W tensorflow/c/c_api.cc:304] Operation '{name:'training_368/Adam/lstm_118/lstm_cell/kernel/m/Assign' id:220120 op device:{requested: '', assigned: ''} def:{{{node training_368/Adam/lstm_118/lstm_cell/kernel/m/Assign}} = AssignVariableOp[_has_manual_control_dependencies=true, dtype=DT_FLOAT, validate_shape=false](training_368/Adam/lstm_118/lstm_cell/kernel/m, training_368/Adam/lstm_118/lstm_cell/kernel/m/Initializer/zeros)}}' was changed by setting attribute after it was run by a session. This mutation will have no effect, and will trigger an error in the future. Either don't modify nodes after running them or create a new session.\n",
      "/Users/boabangfrancis/anaconda3/lib/python3.11/site-packages/keras/src/engine/training_v1.py:2335: UserWarning: `Model.state_updates` will be removed in a future version. This property should not be used in TensorFlow 2.0, as `updates` are applied automatically.\n",
      "  updates = self.state_updates\n",
      "2025-07-15 09:43:16.613109: W tensorflow/c/c_api.cc:304] Operation '{name:'loss_203/mul' id:219545 op device:{requested: '', assigned: ''} def:{{{node loss_203/mul}} = Mul[T=DT_FLOAT, _has_manual_control_dependencies=true](loss_203/mul/x, loss_203/dense_118_loss/value)}}' was changed by setting attribute after it was run by a session. This mutation will have no effect, and will trigger an error in the future. Either don't modify nodes after running them or create a new session.\n",
      "/Users/boabangfrancis/anaconda3/lib/python3.11/site-packages/keras/src/engine/training_v1.py:2359: UserWarning: `Model.state_updates` will be removed in a future version. This property should not be used in TensorFlow 2.0, as `updates` are applied automatically.\n",
      "  updates=self.state_updates,\n",
      "2025-07-15 09:52:47.704720: W tensorflow/c/c_api.cc:304] Operation '{name:'dense_118/Sigmoid' id:219243 op device:{requested: '', assigned: ''} def:{{{node dense_118/Sigmoid}} = Sigmoid[T=DT_FLOAT, _has_manual_control_dependencies=true](dense_118/BiasAdd)}}' was changed by setting attribute after it was run by a session. This mutation will have no effect, and will trigger an error in the future. Either don't modify nodes after running them or create a new session.\n"
     ]
    },
    {
     "name": "stdout",
     "output_type": "stream",
     "text": [
      "\n",
      "📂 Fold 8/10\n",
      "\n",
      "➡️ Stage 1 | Epochs: 100 | Loss: nonconvex_focal_loss\n"
     ]
    },
    {
     "name": "stderr",
     "output_type": "stream",
     "text": [
      "2025-07-15 09:52:52.334259: W tensorflow/c/c_api.cc:304] Operation '{name:'false_negatives_371/Assign' id:220543 op device:{requested: '', assigned: ''} def:{{{node false_negatives_371/Assign}} = AssignVariableOp[_has_manual_control_dependencies=true, dtype=DT_FLOAT, validate_shape=false](false_negatives_371, false_negatives_371/Initializer/zeros)}}' was changed by setting attribute after it was run by a session. This mutation will have no effect, and will trigger an error in the future. Either don't modify nodes after running them or create a new session.\n",
      "/Users/boabangfrancis/anaconda3/lib/python3.11/site-packages/keras/src/engine/training_v1.py:2335: UserWarning: `Model.state_updates` will be removed in a future version. This property should not be used in TensorFlow 2.0, as `updates` are applied automatically.\n",
      "  updates = self.state_updates\n",
      "2025-07-15 09:53:07.062835: W tensorflow/c/c_api.cc:304] Operation '{name:'loss_204/mul' id:220806 op device:{requested: '', assigned: ''} def:{{{node loss_204/mul}} = Mul[T=DT_FLOAT, _has_manual_control_dependencies=true](loss_204/mul/x, loss_204/dense_119_loss/value)}}' was changed by setting attribute after it was run by a session. This mutation will have no effect, and will trigger an error in the future. Either don't modify nodes after running them or create a new session.\n",
      "/Users/boabangfrancis/anaconda3/lib/python3.11/site-packages/keras/src/engine/training_v1.py:2359: UserWarning: `Model.state_updates` will be removed in a future version. This property should not be used in TensorFlow 2.0, as `updates` are applied automatically.\n",
      "  updates=self.state_updates,\n",
      "2025-07-15 10:45:05.526738: W tensorflow/c/c_api.cc:304] Operation '{name:'dense_119/Sigmoid' id:220504 op device:{requested: '', assigned: ''} def:{{{node dense_119/Sigmoid}} = Sigmoid[T=DT_FLOAT, _has_manual_control_dependencies=true](dense_119/BiasAdd)}}' was changed by setting attribute after it was run by a session. This mutation will have no effect, and will trigger an error in the future. Either don't modify nodes after running them or create a new session.\n"
     ]
    },
    {
     "name": "stdout",
     "output_type": "stream",
     "text": [
      "\n",
      "📂 Fold 9/10\n",
      "\n",
      "➡️ Stage 1 | Epochs: 100 | Loss: nonconvex_focal_loss\n"
     ]
    },
    {
     "name": "stderr",
     "output_type": "stream",
     "text": [
      "2025-07-15 10:45:13.281989: W tensorflow/c/c_api.cc:304] Operation '{name:'true_positives_560/Assign' id:221789 op device:{requested: '', assigned: ''} def:{{{node true_positives_560/Assign}} = AssignVariableOp[_has_manual_control_dependencies=true, dtype=DT_FLOAT, validate_shape=false](true_positives_560, true_positives_560/Initializer/zeros)}}' was changed by setting attribute after it was run by a session. This mutation will have no effect, and will trigger an error in the future. Either don't modify nodes after running them or create a new session.\n",
      "/Users/boabangfrancis/anaconda3/lib/python3.11/site-packages/keras/src/engine/training_v1.py:2335: UserWarning: `Model.state_updates` will be removed in a future version. This property should not be used in TensorFlow 2.0, as `updates` are applied automatically.\n",
      "  updates = self.state_updates\n",
      "2025-07-15 10:46:28.035344: W tensorflow/c/c_api.cc:304] Operation '{name:'loss_205/mul' id:222067 op device:{requested: '', assigned: ''} def:{{{node loss_205/mul}} = Mul[T=DT_FLOAT, _has_manual_control_dependencies=true](loss_205/mul/x, loss_205/dense_120_loss/value)}}' was changed by setting attribute after it was run by a session. This mutation will have no effect, and will trigger an error in the future. Either don't modify nodes after running them or create a new session.\n",
      "/Users/boabangfrancis/anaconda3/lib/python3.11/site-packages/keras/src/engine/training_v1.py:2359: UserWarning: `Model.state_updates` will be removed in a future version. This property should not be used in TensorFlow 2.0, as `updates` are applied automatically.\n",
      "  updates=self.state_updates,\n",
      "2025-07-15 11:02:01.421289: W tensorflow/c/c_api.cc:304] Operation '{name:'dense_120/Sigmoid' id:221765 op device:{requested: '', assigned: ''} def:{{{node dense_120/Sigmoid}} = Sigmoid[T=DT_FLOAT, _has_manual_control_dependencies=true](dense_120/BiasAdd)}}' was changed by setting attribute after it was run by a session. This mutation will have no effect, and will trigger an error in the future. Either don't modify nodes after running them or create a new session.\n"
     ]
    },
    {
     "name": "stdout",
     "output_type": "stream",
     "text": [
      "\n",
      "📂 Fold 10/10\n",
      "\n",
      "➡️ Stage 1 | Epochs: 100 | Loss: nonconvex_focal_loss\n"
     ]
    },
    {
     "name": "stderr",
     "output_type": "stream",
     "text": [
      "2025-07-15 11:02:09.388067: W tensorflow/c/c_api.cc:304] Operation '{name:'training_374/Adam/iter/Assign' id:223881 op device:{requested: '', assigned: ''} def:{{{node training_374/Adam/iter/Assign}} = AssignVariableOp[_has_manual_control_dependencies=true, dtype=DT_INT64, validate_shape=false](training_374/Adam/iter, training_374/Adam/iter/Initializer/zeros)}}' was changed by setting attribute after it was run by a session. This mutation will have no effect, and will trigger an error in the future. Either don't modify nodes after running them or create a new session.\n",
      "/Users/boabangfrancis/anaconda3/lib/python3.11/site-packages/keras/src/engine/training_v1.py:2335: UserWarning: `Model.state_updates` will be removed in a future version. This property should not be used in TensorFlow 2.0, as `updates` are applied automatically.\n",
      "  updates = self.state_updates\n",
      "2025-07-15 11:02:31.311494: W tensorflow/c/c_api.cc:304] Operation '{name:'loss_206/mul' id:223328 op device:{requested: '', assigned: ''} def:{{{node loss_206/mul}} = Mul[T=DT_FLOAT, _has_manual_control_dependencies=true](loss_206/mul/x, loss_206/dense_121_loss/value)}}' was changed by setting attribute after it was run by a session. This mutation will have no effect, and will trigger an error in the future. Either don't modify nodes after running them or create a new session.\n",
      "/Users/boabangfrancis/anaconda3/lib/python3.11/site-packages/keras/src/engine/training_v1.py:2359: UserWarning: `Model.state_updates` will be removed in a future version. This property should not be used in TensorFlow 2.0, as `updates` are applied automatically.\n",
      "  updates=self.state_updates,\n",
      "2025-07-15 11:14:07.905450: W tensorflow/c/c_api.cc:304] Operation '{name:'dense_121/Sigmoid' id:223026 op device:{requested: '', assigned: ''} def:{{{node dense_121/Sigmoid}} = Sigmoid[T=DT_FLOAT, _has_manual_control_dependencies=true](dense_121/BiasAdd)}}' was changed by setting attribute after it was run by a session. This mutation will have no effect, and will trigger an error in the future. Either don't modify nodes after running them or create a new session.\n"
     ]
    },
    {
     "name": "stdout",
     "output_type": "stream",
     "text": [
      "\n",
      "📊 Average metrics for schedule 'Nonconvex Only': {'loss': 0.16341790886619423, 'accuracy': 0.60113925, 'precision': 0.60126925, 'recall': 0.64742726, 'f1': 0.6133514883914246, 'auc': 0.6562014005661535}\n",
      "\n",
      "📂 Fold 1/10\n",
      "\n",
      "➡️ Stage 1 | Epochs: 100 | Loss: hybrid_nonconvex_focal_loss\n"
     ]
    },
    {
     "name": "stderr",
     "output_type": "stream",
     "text": [
      "2025-07-15 11:14:15.756599: W tensorflow/c/c_api.cc:304] Operation '{name:'training_376/Adam/dense_122/bias/v/Assign' id:225215 op device:{requested: '', assigned: ''} def:{{{node training_376/Adam/dense_122/bias/v/Assign}} = AssignVariableOp[_has_manual_control_dependencies=true, dtype=DT_FLOAT, validate_shape=false](training_376/Adam/dense_122/bias/v, training_376/Adam/dense_122/bias/v/Initializer/zeros)}}' was changed by setting attribute after it was run by a session. This mutation will have no effect, and will trigger an error in the future. Either don't modify nodes after running them or create a new session.\n",
      "/Users/boabangfrancis/anaconda3/lib/python3.11/site-packages/keras/src/engine/training_v1.py:2335: UserWarning: `Model.state_updates` will be removed in a future version. This property should not be used in TensorFlow 2.0, as `updates` are applied automatically.\n",
      "  updates = self.state_updates\n",
      "2025-07-15 11:14:38.211112: W tensorflow/c/c_api.cc:304] Operation '{name:'loss_207/mul' id:224589 op device:{requested: '', assigned: ''} def:{{{node loss_207/mul}} = Mul[T=DT_FLOAT, _has_manual_control_dependencies=true](loss_207/mul/x, loss_207/dense_122_loss/value)}}' was changed by setting attribute after it was run by a session. This mutation will have no effect, and will trigger an error in the future. Either don't modify nodes after running them or create a new session.\n",
      "/Users/boabangfrancis/anaconda3/lib/python3.11/site-packages/keras/src/engine/training_v1.py:2359: UserWarning: `Model.state_updates` will be removed in a future version. This property should not be used in TensorFlow 2.0, as `updates` are applied automatically.\n",
      "  updates=self.state_updates,\n",
      "2025-07-15 11:26:27.893259: W tensorflow/c/c_api.cc:304] Operation '{name:'dense_122/Sigmoid' id:224287 op device:{requested: '', assigned: ''} def:{{{node dense_122/Sigmoid}} = Sigmoid[T=DT_FLOAT, _has_manual_control_dependencies=true](dense_122/BiasAdd)}}' was changed by setting attribute after it was run by a session. This mutation will have no effect, and will trigger an error in the future. Either don't modify nodes after running them or create a new session.\n"
     ]
    },
    {
     "name": "stdout",
     "output_type": "stream",
     "text": [
      "🔍 Calculating SHAP values for fold 1 of 'Hybrid'\n",
      "\n",
      "📂 Fold 2/10\n",
      "\n",
      "➡️ Stage 1 | Epochs: 100 | Loss: hybrid_nonconvex_focal_loss\n"
     ]
    },
    {
     "name": "stderr",
     "output_type": "stream",
     "text": [
      "2025-07-15 11:26:53.129723: W tensorflow/c/c_api.cc:304] Operation '{name:'lstm_123/lstm_cell/recurrent_kernel/Assign' id:225802 op device:{requested: '', assigned: ''} def:{{{node lstm_123/lstm_cell/recurrent_kernel/Assign}} = AssignVariableOp[_has_manual_control_dependencies=true, dtype=DT_FLOAT, validate_shape=false](lstm_123/lstm_cell/recurrent_kernel, lstm_123/lstm_cell/recurrent_kernel/Initializer/mul_1)}}' was changed by setting attribute after it was run by a session. This mutation will have no effect, and will trigger an error in the future. Either don't modify nodes after running them or create a new session.\n",
      "/Users/boabangfrancis/anaconda3/lib/python3.11/site-packages/keras/src/engine/training_v1.py:2335: UserWarning: `Model.state_updates` will be removed in a future version. This property should not be used in TensorFlow 2.0, as `updates` are applied automatically.\n",
      "  updates = self.state_updates\n",
      "2025-07-15 11:27:15.830629: W tensorflow/c/c_api.cc:304] Operation '{name:'loss_209/mul' id:226288 op device:{requested: '', assigned: ''} def:{{{node loss_209/mul}} = Mul[T=DT_FLOAT, _has_manual_control_dependencies=true](loss_209/mul/x, loss_209/dense_123_loss/value)}}' was changed by setting attribute after it was run by a session. This mutation will have no effect, and will trigger an error in the future. Either don't modify nodes after running them or create a new session.\n",
      "/Users/boabangfrancis/anaconda3/lib/python3.11/site-packages/keras/src/engine/training_v1.py:2359: UserWarning: `Model.state_updates` will be removed in a future version. This property should not be used in TensorFlow 2.0, as `updates` are applied automatically.\n",
      "  updates=self.state_updates,\n",
      "2025-07-15 11:39:04.858903: W tensorflow/c/c_api.cc:304] Operation '{name:'dense_123/Sigmoid' id:225986 op device:{requested: '', assigned: ''} def:{{{node dense_123/Sigmoid}} = Sigmoid[T=DT_FLOAT, _has_manual_control_dependencies=true](dense_123/BiasAdd)}}' was changed by setting attribute after it was run by a session. This mutation will have no effect, and will trigger an error in the future. Either don't modify nodes after running them or create a new session.\n"
     ]
    },
    {
     "name": "stdout",
     "output_type": "stream",
     "text": [
      "\n",
      "📂 Fold 3/10\n",
      "\n",
      "➡️ Stage 1 | Epochs: 100 | Loss: hybrid_nonconvex_focal_loss\n"
     ]
    },
    {
     "name": "stderr",
     "output_type": "stream",
     "text": [
      "2025-07-15 11:39:12.230938: W tensorflow/c/c_api.cc:304] Operation '{name:'false_negatives_381/Assign' id:227286 op device:{requested: '', assigned: ''} def:{{{node false_negatives_381/Assign}} = AssignVariableOp[_has_manual_control_dependencies=true, dtype=DT_FLOAT, validate_shape=false](false_negatives_381, false_negatives_381/Initializer/zeros)}}' was changed by setting attribute after it was run by a session. This mutation will have no effect, and will trigger an error in the future. Either don't modify nodes after running them or create a new session.\n",
      "/Users/boabangfrancis/anaconda3/lib/python3.11/site-packages/keras/src/engine/training_v1.py:2335: UserWarning: `Model.state_updates` will be removed in a future version. This property should not be used in TensorFlow 2.0, as `updates` are applied automatically.\n",
      "  updates = self.state_updates\n",
      "2025-07-15 11:39:35.097373: W tensorflow/c/c_api.cc:304] Operation '{name:'loss_210/mul' id:227549 op device:{requested: '', assigned: ''} def:{{{node loss_210/mul}} = Mul[T=DT_FLOAT, _has_manual_control_dependencies=true](loss_210/mul/x, loss_210/dense_124_loss/value)}}' was changed by setting attribute after it was run by a session. This mutation will have no effect, and will trigger an error in the future. Either don't modify nodes after running them or create a new session.\n"
     ]
    }
   ],
   "source": [
    "from sklearn.model_selection import KFold\n",
    "from sklearn.metrics import f1_score, roc_auc_score, roc_curve, auc\n",
    "from tensorflow.keras.metrics import Precision, Recall, AUC\n",
    "import numpy as np\n",
    "import tensorflow as tf\n",
    "import matplotlib.pyplot as plt\n",
    "import shap\n",
    "import pandas as pd\n",
    "\n",
    "shap_feature_importance = {}\n",
    "\n",
    "\n",
    "from tensorflow.keras.models import Sequential\n",
    "from tensorflow.keras.layers import LSTM, Dense, Dropout, Masking\n",
    "from sklearn.utils import class_weight\n",
    "\n",
    "\n",
    "\n",
    "\n",
    "import tensorflow as tf\n",
    "import tensorflow.keras.backend as K\n",
    "\n",
    "class NoisyLossWrapper(tf.keras.losses.Loss):\n",
    "    def __init__(self, base_loss_fn, noise_scale=0.5, name='noisy_loss'):\n",
    "        super(NoisyLossWrapper, self).__init__(name=name)\n",
    "        self.base_loss_fn = base_loss_fn\n",
    "        self.noise_scale = noise_scale\n",
    "\n",
    "    def call(self, y_true, y_pred):\n",
    "        base_loss = self.base_loss_fn(y_true, y_pred)\n",
    "        noise = tf.random.normal(shape=tf.shape(base_loss), mean=0.3, stddev=self.noise_scale) # make noise 0\n",
    "        return base_loss + noise\n",
    "\n",
    "\n",
    "\n",
    "\n",
    "\n",
    "\n",
    "def model_builder():\n",
    "    model = tf.keras.Sequential([\n",
    "        tf.keras.layers.Masking(mask_value=0.0, input_shape=(X_filtered.shape[1], X_filtered.shape[2])),\n",
    "        tf.keras.layers.LSTM(128),\n",
    "        #tf.keras.layers.Dense(16, activation='relu'),\n",
    "        tf.keras.layers.Dense(1, activation='sigmoid')\n",
    "    ])\n",
    "    return model\n",
    "\n",
    "\n",
    "\n",
    "convex_focal_loss_fn = tf.keras.losses.BinaryFocalCrossentropy(\n",
    "    apply_class_balancing=False, alpha=0.25, gamma=0.0, from_logits=False,\n",
    "    label_smoothing=0.0, axis=-1, reduction='sum_over_batch_size'\n",
    ")\n",
    "#convex_focal_loss = NoisyLossWrapper(convex_focal_loss_fn, noise_scale=0.5)\n",
    "convex_focal_loss=convex_focal_loss_fn\n",
    "convex_focal_loss.__name__ = \"convex_focal_loss\"\n",
    "\n",
    "nonconvex_focal_loss_fn = tf.keras.losses.BinaryFocalCrossentropy(\n",
    "    apply_class_balancing=False, alpha=0.25, gamma=2.0, from_logits=False,\n",
    "    label_smoothing=0.0, axis=-1, reduction='sum_over_batch_size'\n",
    ")\n",
    "#nonconvex_focal_loss = NoisyLossWrapper(nonconvex_focal_loss_fn, noise_scale=0.5)\n",
    "nonconvex_focal_loss = nonconvex_focal_loss_fn \n",
    "nonconvex_focal_loss.__name__ = \"nonconvex_focal_loss\"\n",
    "\n",
    "\n",
    "hybrid_nonconvex_focal_loss_fn = tf.keras.losses.BinaryFocalCrossentropy(\n",
    "    apply_class_balancing=False, alpha=0.25, gamma=4.0, from_logits=False,\n",
    "    label_smoothing=0.0, axis=-1, reduction='sum_over_batch_size'\n",
    ")\n",
    "#hybrid_nonconvex_focal_loss = NoisyLossWrapper(hybrid_nonconvex_focal_loss_fn, noise_scale=0.5)\n",
    "hybrid_nonconvex_focal_loss = hybrid_nonconvex_focal_loss_fn \n",
    "hybrid_nonconvex_focal_loss.__name__ = \"hybrid_nonconvex_focal_loss\"\n",
    "\n",
    "\n",
    "\n",
    "training_schedule_convex = [\n",
    "    {\"loss_fn\": convex_focal_loss, \"epochs\": 100},\n",
    "]\n",
    "\n",
    "training_schedule_multistage_1 = [\n",
    "    {\"loss_fn\": convex_focal_loss, \"epochs\": 10},\n",
    "     {\"loss_fn\": nonconvex_focal_loss, \"epochs\":40},\n",
    "      {\"loss_fn\": hybrid_nonconvex_focal_loss, \"epochs\":50},\n",
    "]\n",
    "\n",
    "training_schedule_multistage_2 = [\n",
    "    {\"loss_fn\": convex_focal_loss, \"epochs\":10},\n",
    "    {\"loss_fn\": nonconvex_focal_loss, \"epochs\":90},\n",
    "]\n",
    "\n",
    "\n",
    "hybrid_training_schedule_nonconvex = [\n",
    "    {\"loss_fn\": hybrid_nonconvex_focal_loss, \"epochs\": 100},\n",
    "]\n",
    "\n",
    "training_schedule_nonconvex = [\n",
    "    {\"loss_fn\": nonconvex_focal_loss, \"epochs\": 100},\n",
    "]\n",
    "\n",
    "\n",
    "def cross_validate(schedule, schedule_name, X_data, y_data, k_folds=10):\n",
    "    kfold = KFold(n_splits=k_folds, shuffle=True, random_state=42)\n",
    "    metrics_list = []\n",
    "    roc_data = []\n",
    "\n",
    "    for fold, (train_index, val_index) in enumerate(kfold.split(X_data)):\n",
    "        print(f\"\\n📂 Fold {fold + 1}/{k_folds}\")\n",
    "\n",
    "        X_train_fold, X_val_fold = X_data[train_index], X_data[val_index]\n",
    "        y_train_fold, y_val_fold = y_data[train_index], y_data[val_index]\n",
    "\n",
    "        result = train_with_schedule_fold(schedule, schedule_name, X_train_fold, y_train_fold, X_val_fold, y_val_fold, fold)\n",
    "        metrics_list.append(result)\n",
    "        roc_data.append((result[\"fpr\"], result[\"tpr\"]))\n",
    "\n",
    "    avg_metrics = {\n",
    "        \"loss\": np.mean([m[\"loss\"] for m in metrics_list]),\n",
    "        \"accuracy\": np.mean([m[\"accuracy\"] for m in metrics_list]),\n",
    "        \"precision\": np.mean([m[\"precision\"] for m in metrics_list]),\n",
    "        \"recall\": np.mean([m[\"recall\"] for m in metrics_list]),\n",
    "        \"f1\": np.mean([m[\"f1\"] for m in metrics_list]),\n",
    "        \"auc\": np.mean([m[\"auc\"] for m in metrics_list]),\n",
    "    }\n",
    "\n",
    "    print(f\"\\n📊 Average metrics for schedule '{schedule_name}': {avg_metrics}\")\n",
    "    return avg_metrics, roc_data\n",
    "\n",
    "def train_with_schedule_fold(schedule, schedule_name, trainX, trainY, testX, testY, fold_index):\n",
    "    model = model_builder()\n",
    "\n",
    "    lr_schedule = tf.keras.optimizers.schedules.ExponentialDecay(\n",
    "        initial_learning_rate=0.001,\n",
    "        decay_steps=1000,\n",
    "        decay_rate=0.9,\n",
    "        staircase=True\n",
    "    )\n",
    "    optimizer = tf.keras.optimizers.legacy.Adam(learning_rate=lr_schedule)\n",
    "    current_epoch = 0\n",
    "\n",
    "    for i, stage in enumerate(schedule):\n",
    "        loss_fn = stage[\"loss_fn\"]\n",
    "        epochs = stage[\"epochs\"]\n",
    "        print(f\"\\n➡️ Stage {i + 1} | Epochs: {epochs} | Loss: {loss_fn.__name__}\")\n",
    "\n",
    "        model.compile(\n",
    "            optimizer=optimizer,\n",
    "            loss=loss_fn,\n",
    "            metrics=['accuracy', Precision(name='precision'), Recall(name='recall'), AUC(name='auc')]\n",
    "        )\n",
    "\n",
    "        model.fit(\n",
    "            trainX, trainY,\n",
    "            initial_epoch=current_epoch,\n",
    "            epochs=current_epoch + epochs,\n",
    "            batch_size=1,\n",
    "            validation_data=(testX, testY),\n",
    "            verbose=0\n",
    "        )\n",
    "        current_epoch += epochs\n",
    "\n",
    "    eval_results = model.evaluate(testX, testY, verbose=0)\n",
    "    y_pred_prob = model.predict(testX, verbose=0).flatten()\n",
    "    y_pred = (y_pred_prob > 0.5).astype(int)\n",
    "\n",
    "    f1 = f1_score(testY, y_pred)\n",
    "    auc_score = roc_auc_score(testY, y_pred_prob)\n",
    "    fpr, tpr, _ = roc_curve(testY, y_pred_prob)\n",
    "\n",
    "    # SHAP values for fold 1 only\n",
    "    if fold_index == 0:\n",
    "        print(f\"🔍 Calculating SHAP values for fold 1 of '{schedule_name}'\")\n",
    "        background = trainX[:100].astype(np.float32)\n",
    "        test_sample = testX[:100].astype(np.float32)\n",
    "\n",
    "        # Recompile without metrics for SHAP\n",
    "        model.compile(optimizer=optimizer, loss=loss_fn)\n",
    "\n",
    "        explainer = shap.GradientExplainer(model, background)\n",
    "        shap_values = explainer.shap_values(test_sample)[0]\n",
    "\n",
    "        mean_abs_shap = np.abs(shap_values).mean(axis=0)\n",
    "        feature_names = getattr(testX, \"columns\", [f\"Feature {i}\" for i in range(testX.shape[1])])\n",
    "        shap_feature_importance[schedule_name] = dict(zip(feature_names, mean_abs_shap))\n",
    "\n",
    "    return {\n",
    "        \"loss\": eval_results[0],\n",
    "        \"accuracy\": eval_results[1],\n",
    "        \"precision\": eval_results[2],\n",
    "        \"recall\": eval_results[3],\n",
    "        \"auc\": auc_score,\n",
    "        \"f1\": f1,\n",
    "        \"fpr\": fpr,\n",
    "        \"tpr\": tpr\n",
    "    }\n",
    "\n",
    "def average_roc_curves(roc_data, num_points=100):\n",
    "    mean_fpr = np.linspace(0, 1, num_points)\n",
    "    tprs = []\n",
    "\n",
    "    for fpr, tpr in roc_data:\n",
    "        interp_tpr = np.interp(mean_fpr, fpr, tpr)\n",
    "        interp_tpr[0] = 0.0\n",
    "        tprs.append(interp_tpr)\n",
    "\n",
    "    mean_tpr = np.mean(tprs, axis=0)\n",
    "    mean_tpr[-1] = 1.0\n",
    "    mean_auc = auc(mean_fpr, mean_tpr)\n",
    "\n",
    "    return mean_fpr, mean_tpr, mean_auc\n",
    "\n",
    "# 🧪 Run experiments and collect metrics\n",
    "results_cv = {}\n",
    "roc_data_schedules = {}\n",
    "\n",
    "\n",
    "results_cv[\"Convex Only\"], roc_data_schedules[\"Convex Only\"] = cross_validate(training_schedule_convex, \"Convex Only\", X_resampled, y_resampled)\n",
    "results_cv[\"Multistage_1\"], roc_data_schedules[\"Multistage_1\"] = cross_validate(training_schedule_multistage_1, \"Multistage_1\", X_resampled, y_resampled)\n",
    "results_cv[\"Nonconvex Only\"], roc_data_schedules[\"Nonconvex Only\"] = cross_validate(training_schedule_nonconvex, \"Nonconvex Only\", X_resampled, y_resampled)\n",
    "results_cv[\"Hybrid\"], roc_data_schedules[\"Hybrid\"] = cross_validate(hybrid_training_schedule_nonconvex, \"Hybrid\", X_resampled, y_resampled)\n",
    "#results_cv[\"Multistage_2\"], roc_data_schedules[\"Multistage_2\"] = cross_validate(training_schedule_multistage_2, \"Multistage_2\", X_resampled, y_resampled)\n",
    "\n",
    "\n",
    "# 📤 Export metrics to CSV\n",
    "results_df = pd.DataFrame.from_dict(results_cv, orient='index')\n",
    "results_df.to_csv(\"cross_validation_results_2.csv\", index_label=\"Schedule\")\n",
    "print(\"✅ Metrics exported to 'cross_validation_results_2.csv'\")\n",
    "\n",
    "# 📊 Plot average ROC curves\n",
    "plt.figure(figsize=(8, 6))\n",
    "for name, data in roc_data_schedules.items():\n",
    "    fpr, tpr, auc_val = average_roc_curves(data)\n",
    "    plt.plot(fpr, tpr, lw=2, label=f\"{name} (AUC = {auc_val:.3f})\")\n",
    "\n",
    "plt.plot([0, 1], [0, 1], 'k--', label=\"Random Classifier\")\n",
    "plt.title(\"Average ROC Curve Comparison Across Schedules\")\n",
    "plt.xlabel(\"False Positive Rate\")\n",
    "plt.ylabel(\"True Positive Rate\")\n",
    "plt.legend()\n",
    "plt.grid(True)\n",
    "plt.tight_layout()\n",
    "plt.show()\n",
    "\n",
    "\n",
    "\n",
    "# 📊 SHAP Comparison Bar Plot\n",
    "shap_df = pd.DataFrame(shap_feature_importance).fillna(0)\n",
    "shap_df[\"mean\"] = shap_df.mean(axis=1)\n",
    "shap_df\n",
    "shap_df.to_csv(\"cross_validation_shap_2.csv\", index_label=\"Schedule\")\n",
    "\n",
    "shap_df = shap_df.sort_values(\"mean\", ascending=True)\n",
    "shap_df.drop(\"mean\", axis=1, inplace=True)\n"
   ]
  },
  {
   "cell_type": "code",
   "execution_count": 41,
   "id": "3c059ba6",
   "metadata": {},
   "outputs": [],
   "source": [
    "# 📊 SHAP Comparison Bar Plot\n",
    "shap_df = pd.DataFrame(shap_feature_importance).fillna(0)\n",
    "shap_df[\"mean\"] = shap_df.mean(axis=1)\n",
    "shap_df\n",
    "shap_df.to_csv(\"cross_validation_shap_2.csv\", index_label=\"Schedule\")\n",
    "\n",
    "shap_df = shap_df.sort_values(\"mean\", ascending=True)\n",
    "shap_df.drop(\"mean\", axis=1, inplace=True)\n"
   ]
  },
  {
   "cell_type": "code",
   "execution_count": null,
   "id": "eb190762",
   "metadata": {},
   "outputs": [],
   "source": []
  },
  {
   "cell_type": "code",
   "execution_count": null,
   "id": "b35fd355",
   "metadata": {},
   "outputs": [],
   "source": []
  },
  {
   "cell_type": "code",
   "execution_count": null,
   "id": "fb259222",
   "metadata": {},
   "outputs": [],
   "source": []
  }
 ],
 "metadata": {
  "kernelspec": {
   "display_name": "Python 3 (ipykernel)",
   "language": "python",
   "name": "python3"
  },
  "language_info": {
   "codemirror_mode": {
    "name": "ipython",
    "version": 3
   },
   "file_extension": ".py",
   "mimetype": "text/x-python",
   "name": "python",
   "nbconvert_exporter": "python",
   "pygments_lexer": "ipython3",
   "version": "3.11.5"
  }
 },
 "nbformat": 4,
 "nbformat_minor": 5
}
