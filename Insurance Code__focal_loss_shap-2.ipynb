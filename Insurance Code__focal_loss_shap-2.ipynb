{
 "cells": [
  {
   "cell_type": "code",
   "execution_count": 1,
   "id": "bf26a520",
   "metadata": {},
   "outputs": [
    {
     "name": "stdout",
     "output_type": "stream",
     "text": [
      "WARNING:tensorflow:From /Users/boabangfrancis/anaconda3/lib/python3.11/site-packages/tensorflow/python/compat/v2_compat.py:107: disable_resource_variables (from tensorflow.python.ops.variable_scope) is deprecated and will be removed in a future version.\n",
      "Instructions for updating:\n",
      "non-resource variables are not supported in the long term\n"
     ]
    }
   ],
   "source": [
    "#hp = hyperparameters[dataset]\n",
    "\n",
    "#classes = hp['classes']\n",
    "\n",
    "import pandas as pd\n",
    "#import xlrd\n",
    "from sklearn.model_selection import train_test_split\n",
    "import tensorflow as tf\n",
    "import numpy as np\n",
    "from sklearn.neighbors import KNeighborsRegressor\n",
    "from sklearn.metrics import mean_squared_error\n",
    "from sklearn.impute import SimpleImputer\n",
    "from sklearn.model_selection import cross_val_score\n",
    "import numpy as np\n",
    "from sklearn.impute import KNNImputer\n",
    "import numpy as np\n",
    "from tensorflow.keras.models import Sequential\n",
    "from tensorflow.keras.layers import LSTM, Dense\n",
    "pd.DataFrame.iteritems=pd.DataFrame.items\n",
    "tf.compat.v1.disable_v2_behavior()\n",
    "# change the strings to ints\n",
    "#input= pd.DataFrame(pd.read_csv(\"US Insurance Claims Data.xlsx\", encoding='utf-16-le', encoding_errors='ignore'))\n",
    "input=pd.read_excel(\"US_Insurance_Claims_Data.xlsx\")\n",
    "input=input.fillna(method='bfill').fillna(method='ffill')"
   ]
  },
  {
   "cell_type": "code",
   "execution_count": 2,
   "id": "3a776d9e",
   "metadata": {},
   "outputs": [],
   "source": [
    "input.incident_location=input.incident_location.astype('category').cat.codes\n",
    "input.policy_state=input.policy_state.astype('category').cat.codes\n",
    "input.insured_education_level=input.insured_education_level.astype('category').cat.codes\n",
    "input.insured_sex=input.insured_sex.astype('category').cat.codes\n",
    "input.insured_hobbies=input.insured_hobbies.astype('category').cat.codes\n",
    "input.insured_relationship=input.insured_relationship.astype('category').cat.codes\n",
    "input.incident_type=input.incident_type.astype('category').cat.codes\n",
    "input.collision_type=input.collision_type.astype('category').cat.codes\n",
    "input.incident_severity=input.incident_severity.astype('category').cat.codes\n",
    "input.authorities_contacted=input.authorities_contacted.astype('category').cat.codes\n",
    "input.incident_state=input.incident_state.astype('category').cat.codes\n",
    "input.incident_city=input.incident_city.astype('category').cat.codes\n",
    "input.insured_occupation=input.insured_occupation.astype('category').cat.codes\n",
    "input.property_damage=input.property_damage.astype('category').cat.codes\n",
    "input.police_report_available=input.police_report_available.astype('category').cat.codes\n",
    "input.auto_make=input.auto_make.astype('category').cat.codes\n",
    "input.auto_model=input.auto_model.astype('category').cat.codes\n",
    "#input['fraud_reported']=input['fraud_reported'].fillna(method='ffill').fillna(method='bfill')\n",
    "input.fraud_reported=input.fraud_reported.astype('category').cat.codes\n",
    "input.incident_date=input.incident_date.astype('category').cat.codes\n",
    "input.policy_bind_date=input.incident_date.astype('category').cat.codes\n",
    "input['policy_csl'] = input['policy_csl'].apply(lambda x: eval(x))"
   ]
  },
  {
   "cell_type": "code",
   "execution_count": 3,
   "id": "76bd1ae5",
   "metadata": {},
   "outputs": [],
   "source": [
    "#img_rows, img_cols = 32, 32\n",
    "#train_size = trainX.shape[0]\n",
    "\n",
    "def KNN_impute(input, k):\n",
    "    imputer = KNNImputer(n_neighbors=k)\n",
    "    df_filled = imputer.fit_transform(input)\n",
    "    matrix=pd.DataFrame(df_filled, columns=['months_as_customer', 'age', 'policy_number', 'policy_bind_date' , 'policy_state', 'policy_csl', 'policy_deductable', 'policy_annual_premium', 'umbrella_limit', 'insured_zip', 'insured_sex', 'insured_education_level', 'insured_occupation', 'insured_hobbies', 'insured_relationship', 'capital-gains', 'capital-loss', 'incident_date', 'incident_type', 'collision_type', 'incident_severity', 'authorities_contacted', 'incident_state', 'incident_city', 'incident_location', 'incident_hour_of_the_day', 'number_of_vehicles_involved', 'property_damage', 'bodily_injuries', 'witnesses', 'police_report_available', 'total_claim_amount', 'injury_claim', 'property_claim', 'vehicle_claim', 'auto_make', 'auto_model', 'auto_year', 'fraud_reported'])\n",
    "    #matrix = pd.DataFrame(df_filled, columns=['months_as_customer', 'age', 'policy_number', 'policy_bind_date', 'policy_state', 'policy_csl', 'policy_deductable', 'policy_annual_premium', 'insured_zip', 'insured_sex', 'insured_education_level', 'insured_occupation', 'insured_hobbies', 'insured_relationship', 'capital-gains', 'capital-loss', 'incident_date', ])\n",
    "    matrix.to_csv(\"DataKNN\" +  str(k) + \".csv\" )\n",
    "    return matrix"
   ]
  },
  {
   "cell_type": "code",
   "execution_count": 3,
   "id": "f40a469c",
   "metadata": {},
   "outputs": [],
   "source": [
    "import tensorflow as tf"
   ]
  },
  {
   "cell_type": "code",
   "execution_count": 3,
   "id": "a1fc9ea4",
   "metadata": {
    "scrolled": false
   },
   "outputs": [],
   "source": [
    "# trainX,testX,trainY,testY=train_test_split(X_res,y_res,test_size=0.2)\n",
    "#matrix=KNN_impute(input, 2)   \n",
    "from tensorflow.keras.preprocessing.sequence import pad_sequences\n",
    "\n",
    "#trainX_padded = pad_sequences(trainX, padding='post', truncating='post')\n",
    "#testX_padded = pad_sequences(testX, padding='post', truncating='post')\n",
    "#trainY_padded = pad_sequences(trainY, padding='post', truncating='post')\n",
    "\n",
    "#testY_padded = pad_sequences(testY, padding='post', truncating='post')\n",
    "\n",
    "\n",
    "\n",
    "grouped = input.groupby('months_as_customer')\n",
    "\n",
    "# Extract sequences and labels\n",
    "sequences = grouped.apply(lambda X: X[['months_as_customer', 'age', 'policy_number', 'policy_bind_date' , 'policy_state', 'policy_csl', 'policy_deductable', 'policy_annual_premium', 'umbrella_limit', 'insured_zip', 'insured_sex', 'insured_education_level', 'insured_occupation', 'insured_hobbies', 'insured_relationship', 'capital-gains', 'capital-loss', 'incident_date', 'incident_type', 'collision_type', 'incident_severity', 'authorities_contacted', 'incident_state', 'incident_city', 'incident_location', 'incident_hour_of_the_day', 'number_of_vehicles_involved', 'property_damage', 'bodily_injuries', 'witnesses', 'police_report_available', 'total_claim_amount', 'injury_claim', 'property_claim', 'vehicle_claim', 'auto_make', 'auto_model', 'auto_year']].values.tolist())\n",
    "labels = grouped['fraud_reported'].first().values\n",
    "from tensorflow.keras.preprocessing.sequence import pad_sequences\n",
    "\n",
    "# Pad to same length (post-padding with zeros)\n",
    "X = pad_sequences(sequences.tolist(), padding='post', dtype='float32')\n",
    "y = np.array(labels)\n",
    "\n",
    "\n",
    "\n",
    "\n",
    "from imblearn.under_sampling import RandomUnderSampler\n",
    "from imblearn.over_sampling import RandomOverSampler\n",
    "from imblearn.over_sampling import SMOTE\n",
    "\n",
    "# Flatten for oversampling\n",
    "\n",
    "#X_resampled, y_resampled = ros.fit_resample(X_flat, y)\n",
    "#\n",
    "#X_resampled, y_resampled = sm.fit_resample(X_flat, y)\n",
    "\n",
    "\n",
    "# Reshape back to 3D\n",
    "\n",
    "X_flat = X.reshape((X.shape[0], -1))\n",
    "#ros = RandomOverSampler(random_state=1)\n",
    "ros=RandomUnderSampler(random_state=1000)\n",
    "sm=SMOTE(random_state=1000)\n",
    "\n",
    "X_resampled, y_resampled = sm.fit_resample(X_flat, y)\n",
    "X_resampled, y_resampled = ros.fit_resample(X_resampled,  y_resampled)\n",
    "\n",
    "X_resampled = X_resampled.reshape((-1, X.shape[1], X.shape[2]))\n",
    "\n",
    "\n",
    "\n",
    "\n",
    "#trainY = utils.to_categorical(trainY)\n",
    "#testY = utils.to_categorical(testY)\n",
    "#model.compile(optimizer='adam', loss='binary_crossentropy', metrics=['accuracy', 'top_k_categorical_accuracy'])\n",
    "#csv_logger = CSVLogger(logfile, append=True, separator=';')\n",
    "\n",
    "\n",
    "\n"
   ]
  },
  {
   "cell_type": "code",
   "execution_count": 6,
   "id": "cb469a77",
   "metadata": {},
   "outputs": [],
   "source": [
    "def KNN_impute(input, k):\n",
    "    imputer = KNNImputer(n_neighbors=k)\n",
    "    df_filled = imputer.fit_transform(input)\n",
    "    matrix=pd.DataFrame(df_filled, columns=['months_as_customer', 'age', 'policy_number', 'policy_bind_date' , 'policy_state', 'policy_csl', 'policy_deductable', 'policy_annual_premium', 'umbrella_limit', 'insured_zip', 'insured_sex', 'insured_education_level', 'insured_occupation', 'insured_hobbies', 'insured_relationship', 'capital-gains', 'capital-loss', 'incident_date', 'incident_type', 'collision_type', 'incident_severity', 'authorities_contacted', 'incident_state', 'incident_city', 'incident_location', 'incident_hour_of_the_day', 'number_of_vehicles_involved', 'property_damage', 'bodily_injuries', 'witnesses', 'police_report_available', 'total_claim_amount', 'injury_claim', 'property_claim', 'vehicle_claim', 'auto_make', 'auto_model', 'auto_year', 'fraud_reported'])\n",
    "    #matrix = pd.DataFrame(df_filled, columns=['months_as_customer', 'age', 'policy_number', 'policy_bind_date', 'policy_state', 'policy_csl', 'policy_deductable', 'policy_annual_premium', 'insured_zip', 'insured_sex', 'insured_education_level', 'insured_occupation', 'insured_hobbies', 'insured_relationship', 'capital-gains', 'capital-loss', 'incident_date', ])\n",
    "    matrix.to_csv(\"DataKNN\" +  str(k) + \".csv\" )\n",
    "    return matrix"
   ]
  },
  {
   "cell_type": "code",
   "execution_count": null,
   "id": "1b589939",
   "metadata": {},
   "outputs": [],
   "source": []
  },
  {
   "cell_type": "code",
   "execution_count": 7,
   "id": "a35bf608",
   "metadata": {
    "scrolled": false
   },
   "outputs": [],
   "source": [
    "\n",
    "#nonconvex_focal_loss = nonconvex_loss_fn\n",
    "#convex_focal_loss = convex_loss_fn"
   ]
  },
  {
   "cell_type": "code",
   "execution_count": null,
   "id": "ba6874b0",
   "metadata": {
    "scrolled": false
   },
   "outputs": [],
   "source": [
    "\n",
    "\n",
    "\n",
    "\n"
   ]
  },
  {
   "cell_type": "code",
   "execution_count": 4,
   "id": "37437eda",
   "metadata": {
    "scrolled": false
   },
   "outputs": [],
   "source": [
    "from tensorflow.keras.models import Sequential\n",
    "from tensorflow.keras.layers import LSTM, Dense, Dropout, Masking\n",
    "from sklearn.utils import class_weight\n",
    "from tensorflow.keras.initializers import RandomNormal\n",
    "\n",
    "optim_adam = tf.compat.v1.train.AdamOptimizer(0.1)\n",
    "\n",
    "\n",
    "\n",
    "from tensorflow.keras.models import Sequential\n",
    "from tensorflow.keras.layers import LSTM, Dense, Dropout, Masking\n",
    "from sklearn.utils import class_weight\n",
    "\n",
    "#optim_adam = tf.compat.v1.train.AdamOptimizer(0.1)\n",
    "\n",
    "\n",
    "#trainX,testX,trainY,testY=train_test_split((X_resampled), (y_resampled), test_size=0.2, random_state=1000)\n",
    "\n",
    "\n",
    "\n",
    "\n",
    "#convex_loss_fn = tf.keras.losses.BinaryFocalCrossentropy(\n",
    "#    apply_class_balancing=False, alpha=0.25, gamma=0.0, from_logits=False,\n",
    "#    label_smoothing=0.0, axis=-1, reduction='sum_over_batch_size'\n",
    "#)\n",
    "\n",
    "\n",
    "#hybrid_convex_loss_fn = tf.keras.losses.BinaryFocalCrossentropy(\n",
    " #   apply_class_balancing=False, alpha=0.25, gamma=2.0, from_logits=False,\n",
    "  #  label_smoothing=0.0, axis=-1, reduction='sum_over_batch_size'\n",
    "#)\n",
    "\n",
    "\n",
    "#nonconvex_loss_fn = tf.keras.losses.BinaryFocalCrossentropy(\n",
    " #   apply_class_balancing=False, alpha=0.25, gamma=8.0, from_logits=False,\n",
    "#    label_smoothing=0.0, axis=-1, reduction='sum_over_batch_size'\n",
    "#)\n",
    "\n",
    "\n",
    "import tensorflow as tf\n",
    "import tensorflow.keras.backend as K\n",
    "\n",
    "class NoisyLossWrapper(tf.keras.losses.Loss):\n",
    "    def __init__(self, base_loss_fn, noise_scale=0.5, name='noisy_loss'):\n",
    "        super(NoisyLossWrapper, self).__init__(name=name)\n",
    "        self.base_loss_fn = base_loss_fn\n",
    "        self.noise_scale = noise_scale\n",
    "\n",
    "    def call(self, y_true, y_pred):\n",
    "        base_loss = self.base_loss_fn(y_true, y_pred)\n",
    "        noise = tf.random.normal(shape=tf.shape(base_loss), mean=0.5, stddev=self.noise_scale) # make noise 0\n",
    "        return base_loss + noise\n",
    "\n",
    "\n",
    "\n",
    "\n",
    "\n",
    "\n",
    "def model_builder():\n",
    "    model = tf.keras.Sequential([\n",
    "        tf.keras.layers.Masking(mask_value=0.0, input_shape=(X.shape[1], X.shape[2])),\n",
    "        tf.keras.layers.LSTM(16),\n",
    "        tf.keras.layers.Dense(1, activation='sigmoid')\n",
    "    ])\n",
    "    return model\n",
    "\n",
    "\n",
    "\n",
    "convex_focal_loss_fn = tf.keras.losses.BinaryFocalCrossentropy(\n",
    "    apply_class_balancing=False, alpha=0.25, gamma=0.0, from_logits=False,\n",
    "    label_smoothing=0.0, axis=-1, reduction='sum_over_batch_size'\n",
    ")\n",
    "convex_focal_loss = NoisyLossWrapper(convex_focal_loss_fn, noise_scale=0.5)\n",
    "#convex_focal_loss=convex_focal_loss_fn\n",
    "convex_focal_loss.__name__ = \"convex_focal_loss\"\n",
    "\n",
    "nonconvex_focal_loss_fn = tf.keras.losses.BinaryFocalCrossentropy(\n",
    "    apply_class_balancing=False, alpha=0.25, gamma=8.0, from_logits=False,\n",
    "    label_smoothing=0.0, axis=-1, reduction='sum_over_batch_size'\n",
    ")\n",
    "nonconvex_focal_loss = NoisyLossWrapper(nonconvex_focal_loss_fn, noise_scale=0.5)\n",
    "nonconvex_focal_loss.__name__ = \"nonconvex_focal_loss\"\n",
    "\n",
    "training_schedule_convex = [\n",
    "    {\"loss_fn\": convex_focal_loss, \"epochs\": 100},\n",
    "]\n",
    "\n",
    "training_schedule_multistage = [\n",
    "    {\"loss_fn\": convex_focal_loss, \"epochs\":10},\n",
    "    {\"loss_fn\": nonconvex_focal_loss, \"epochs\": 90},\n",
    "]\n",
    "\n",
    "training_schedule_nonconvex = [\n",
    "    {\"loss_fn\": nonconvex_focal_loss, \"epochs\": 100},\n",
    "]\n",
    "\n",
    "from tensorflow.keras.metrics import Precision, Recall\n",
    "from sklearn.metrics import f1_score\n",
    "\n",
    "def train_with_schedule(schedule, schedule_name):\n",
    "    print(f\"\\n🚀 Training schedule: {schedule_name}\")\n",
    "    \n",
    "    model = model_builder()\n",
    "    \n",
    "    lr_schedule = tf.keras.optimizers.schedules.ExponentialDecay(\n",
    "        initial_learning_rate=0.001,\n",
    "        decay_steps=1000,\n",
    "        decay_rate=0.9,\n",
    "        staircase=True\n",
    "    )\n",
    "    optimizer = tf.keras.optimizers.Adam(learning_rate=lr_schedule)\n",
    "    \n",
    "    current_epoch = 0\n",
    "    \n",
    "    for i, stage in enumerate(schedule):\n",
    "        loss_fn = stage[\"loss_fn\"]\n",
    "        epochs = stage[\"epochs\"]\n",
    "        print(f\"\\n➡️ Stage {i + 1} | Epochs: {epochs} | Loss: {loss_fn.__name__}\")\n",
    "\n",
    "        model.compile(\n",
    "            optimizer=optimizer,\n",
    "            loss=loss_fn,\n",
    "            metrics=['accuracy', Precision(name='precision'), Recall(name='recall')]\n",
    "        )\n",
    "\n",
    "        model.fit(\n",
    "            trainX, trainY,\n",
    "            initial_epoch=current_epoch,\n",
    "            epochs=current_epoch + epochs,\n",
    "            batch_size=1,\n",
    "            validation_data=(testX, testY),\n",
    "            verbose=1\n",
    "        )\n",
    "        current_epoch += epochs\n",
    "    \n",
    "    # Evaluate on test data (accuracy, precision, recall)\n",
    "    eval_results = model.evaluate(testX, testY, verbose=0)\n",
    "    loss = eval_results[0]\n",
    "    accuracy = eval_results[1]\n",
    "    precision = eval_results[2]\n",
    "    recall = eval_results[3]\n",
    "\n",
    "    # Predict and compute F1 score\n",
    "    y_pred_prob = model.predict(testX)\n",
    "    y_pred = (y_pred_prob > 0.5).astype(int)\n",
    "    f1 = f1_score(testY, y_pred)\n",
    "\n",
    "    print(f\"\\n🎯 Finished schedule '{schedule_name}' with test loss: {loss:.4f}, \"\n",
    "          f\"accuracy: {accuracy:.4f}, precision: {precision:.4f}, recall: {recall:.4f}, f1-score: {f1:.4f}\")\n",
    "\n",
    "    # ✅ SHAP explanation (computed after training)\n",
    "    try:\n",
    "        print(\"🔍 Computing SHAP values...\")\n",
    "        background = trainX[np.random.choice(trainX.shape[0], 100, replace=False)]  # Sampled for efficiency\n",
    "        explainer = shap.GradientExplainer(model, background)\n",
    "        shap_values = explainer.shap_values(testX[:100])  # Limit size for performance\n",
    "        print(\"✅ SHAP values computed.\")\n",
    "    except Exception as e:\n",
    "        print(f\"⚠️ SHAP computation failed: {e}\")\n",
    "        shap_values = None\n",
    "\n",
    "    return {\n",
    "        \"loss\": loss,\n",
    "        \"accuracy\": accuracy,\n",
    "        \"precision\": precision,\n",
    "        \"recall\": recall,\n",
    "        \"f1\": f1,\n",
    "        \"shap_values\": shap_values\n",
    "    }\n",
    "#import shap\n",
    "#import matplotlib.pyplot as plt\n",
    "\n",
    "#results = {}\n",
    "\n",
    "#results[\"Convex Only\"] = train_with_schedule(training_schedule_convex, \"Convex Only\")\n",
    "#results[\"Multistage\"] = train_with_schedule(training_schedule_multistage, \"Multistage\")\n",
    "#results[\"Nonconvex Only\"] = train_with_schedule(training_schedule_nonconvex, \"Nonconvex Only\")\n",
    "\n",
    "#import numpy as np\n",
    "#import matplotlib.pyplot as plt\n",
    "#import pandas as pd\n",
    "\n",
    "# Define number of top features to compare\n",
    "#TOP_K = 38\n",
    "\n",
    "# Store aggregated SHAP values per schedule\n",
    "#shap_feature_importance = {}\n",
    "\n",
    "#for name, metrics in results.items():\n",
    "  #  shap_values = metrics.get(\"shap_values\", None)\n",
    "\n",
    "  #  if shap_values is not None:\n",
    "  #      try:\n",
    "            # Transpose to (samples, time_steps, features)\n",
    "      #      reshaped_shap = np.transpose(shap_values[0], (2, 0, 1))  # (1, 51, 38)\n",
    "        #    repeated_shap = np.repeat(reshaped_shap, 100, axis=0)    # (100, 51, 38)\n",
    "        #    mean_abs_shap = np.mean(np.abs(repeated_shap), axis=(0, 1))  # (features,)\n",
    "\n",
    "          #  shap_feature_importance[name] = mean_abs_shap\n",
    "\n",
    "       # except Exception as e:\n",
    "        #    print(f\"❌ Failed to process SHAP values for {name}: {e}\")\n",
    "   # else:\n",
    "     #   print(f\"⚠️ No SHAP values for {name}\")\n",
    "\n",
    "# Combine into DataFrame for comparison\n",
    "#df_importance = pd.DataFrame(shap_feature_importance)\n",
    "\n",
    "# Optional: rename columns to feature names if you have them, e.g., feature_names = ['f1', ..., 'f38']\n",
    "# df_importance.index = feature_names\n",
    "\n",
    "# Get top K features by mean importance across all models\n",
    "#top_features = df_importance.mean(axis=1).nlargest(TOP_K).index\n",
    "#df_top = df_importance.loc[top_features]\n",
    "\n",
    "# Plot\n",
    "#df_top.plot(kind='bar', figsize=(12, 6))\n",
    "#plt.title(f\"🔍 Top {TOP_K} Important Features (SHAP) Across Training Schedules\")\n",
    "#plt.ylabel(\"Mean |SHAP value|\")\n",
    "#plt.xlabel(\"Feature Index\")\n",
    "#plt.xticks(rotation=0)\n",
    "#plt.grid(True)\n",
    "#plt.legend(title=\"Training Schedule\")\n",
    "#plt.tight_layout()\n",
    "#plt.show()"
   ]
  },
  {
   "cell_type": "code",
   "execution_count": null,
   "id": "1f9b23ed",
   "metadata": {
    "scrolled": false
   },
   "outputs": [],
   "source": []
  },
  {
   "cell_type": "code",
   "execution_count": 5,
   "id": "90ebc216",
   "metadata": {
    "scrolled": false
   },
   "outputs": [
    {
     "name": "stdout",
     "output_type": "stream",
     "text": [
      "\n",
      "📂 Fold 1/10\n",
      "\n",
      "➡️ Stage 1 | Epochs: 100 | Loss: convex_focal_loss\n"
     ]
    },
    {
     "name": "stderr",
     "output_type": "stream",
     "text": [
      "2025-06-07 08:02:35.525029: I tensorflow/compiler/mlir/mlir_graph_optimization_pass.cc:375] MLIR V1 optimization pass is not enabled\n",
      "2025-06-07 08:02:35.539491: W tensorflow/c/c_api.cc:304] Operation '{name:'training/Adam/lstm/lstm_cell/kernel/v/Assign' id:1177 op device:{requested: '', assigned: ''} def:{{{node training/Adam/lstm/lstm_cell/kernel/v/Assign}} = AssignVariableOp[_has_manual_control_dependencies=true, dtype=DT_FLOAT, validate_shape=false](training/Adam/lstm/lstm_cell/kernel/v, training/Adam/lstm/lstm_cell/kernel/v/Initializer/zeros)}}' was changed by setting attribute after it was run by a session. This mutation will have no effect, and will trigger an error in the future. Either don't modify nodes after running them or create a new session.\n",
      "/Users/boabangfrancis/anaconda3/lib/python3.11/site-packages/keras/src/engine/training_v1.py:2335: UserWarning: `Model.state_updates` will be removed in a future version. This property should not be used in TensorFlow 2.0, as `updates` are applied automatically.\n",
      "  updates = self.state_updates\n",
      "2025-06-07 08:02:40.634974: W tensorflow/c/c_api.cc:304] Operation '{name:'loss/mul' id:547 op device:{requested: '', assigned: ''} def:{{{node loss/mul}} = Mul[T=DT_FLOAT, _has_manual_control_dependencies=true](loss/mul/x, loss/dense_loss/value)}}' was changed by setting attribute after it was run by a session. This mutation will have no effect, and will trigger an error in the future. Either don't modify nodes after running them or create a new session.\n",
      "/Users/boabangfrancis/anaconda3/lib/python3.11/site-packages/keras/src/engine/training_v1.py:2359: UserWarning: `Model.state_updates` will be removed in a future version. This property should not be used in TensorFlow 2.0, as `updates` are applied automatically.\n",
      "  updates=self.state_updates,\n",
      "2025-06-07 08:10:57.844980: W tensorflow/c/c_api.cc:304] Operation '{name:'dense/Sigmoid' id:223 op device:{requested: '', assigned: ''} def:{{{node dense/Sigmoid}} = Sigmoid[T=DT_FLOAT, _has_manual_control_dependencies=true](dense/BiasAdd)}}' was changed by setting attribute after it was run by a session. This mutation will have no effect, and will trigger an error in the future. Either don't modify nodes after running them or create a new session.\n"
     ]
    },
    {
     "name": "stdout",
     "output_type": "stream",
     "text": [
      "🔍 Calculating SHAP values for fold 1 of 'Convex Only'\n",
      "\n",
      "📂 Fold 2/10\n",
      "\n",
      "➡️ Stage 1 | Epochs: 100 | Loss: convex_focal_loss\n"
     ]
    },
    {
     "name": "stderr",
     "output_type": "stream",
     "text": [
      "2025-06-07 08:11:01.123742: W tensorflow/c/c_api.cc:304] Operation '{name:'training_2/Adam/lstm_1/lstm_cell/recurrent_kernel/v/Assign' id:2951 op device:{requested: '', assigned: ''} def:{{{node training_2/Adam/lstm_1/lstm_cell/recurrent_kernel/v/Assign}} = AssignVariableOp[_has_manual_control_dependencies=true, dtype=DT_FLOAT, validate_shape=false](training_2/Adam/lstm_1/lstm_cell/recurrent_kernel/v, training_2/Adam/lstm_1/lstm_cell/recurrent_kernel/v/Initializer/zeros)}}' was changed by setting attribute after it was run by a session. This mutation will have no effect, and will trigger an error in the future. Either don't modify nodes after running them or create a new session.\n",
      "/Users/boabangfrancis/anaconda3/lib/python3.11/site-packages/keras/src/engine/training_v1.py:2335: UserWarning: `Model.state_updates` will be removed in a future version. This property should not be used in TensorFlow 2.0, as `updates` are applied automatically.\n",
      "  updates = self.state_updates\n",
      "2025-06-07 08:11:06.564201: W tensorflow/c/c_api.cc:304] Operation '{name:'loss_2/mul' id:2316 op device:{requested: '', assigned: ''} def:{{{node loss_2/mul}} = Mul[T=DT_FLOAT, _has_manual_control_dependencies=true](loss_2/mul/x, loss_2/dense_1_loss/value)}}' was changed by setting attribute after it was run by a session. This mutation will have no effect, and will trigger an error in the future. Either don't modify nodes after running them or create a new session.\n",
      "/Users/boabangfrancis/anaconda3/lib/python3.11/site-packages/keras/src/engine/training_v1.py:2359: UserWarning: `Model.state_updates` will be removed in a future version. This property should not be used in TensorFlow 2.0, as `updates` are applied automatically.\n",
      "  updates=self.state_updates,\n",
      "2025-06-07 08:19:49.556628: W tensorflow/c/c_api.cc:304] Operation '{name:'dense_1/Sigmoid' id:1992 op device:{requested: '', assigned: ''} def:{{{node dense_1/Sigmoid}} = Sigmoid[T=DT_FLOAT, _has_manual_control_dependencies=true](dense_1/BiasAdd)}}' was changed by setting attribute after it was run by a session. This mutation will have no effect, and will trigger an error in the future. Either don't modify nodes after running them or create a new session.\n"
     ]
    },
    {
     "name": "stdout",
     "output_type": "stream",
     "text": [
      "\n",
      "📂 Fold 3/10\n",
      "\n",
      "➡️ Stage 1 | Epochs: 100 | Loss: convex_focal_loss\n"
     ]
    },
    {
     "name": "stderr",
     "output_type": "stream",
     "text": [
      "2025-06-07 08:19:49.863500: W tensorflow/c/c_api.cc:304] Operation '{name:'training_4/Adam/iter/Assign' id:4200 op device:{requested: '', assigned: ''} def:{{{node training_4/Adam/iter/Assign}} = AssignVariableOp[_has_manual_control_dependencies=true, dtype=DT_INT64, validate_shape=false](training_4/Adam/iter, training_4/Adam/iter/Initializer/zeros)}}' was changed by setting attribute after it was run by a session. This mutation will have no effect, and will trigger an error in the future. Either don't modify nodes after running them or create a new session.\n",
      "/Users/boabangfrancis/anaconda3/lib/python3.11/site-packages/keras/src/engine/training_v1.py:2335: UserWarning: `Model.state_updates` will be removed in a future version. This property should not be used in TensorFlow 2.0, as `updates` are applied automatically.\n",
      "  updates = self.state_updates\n",
      "2025-06-07 08:19:55.304516: W tensorflow/c/c_api.cc:304] Operation '{name:'loss_3/mul' id:3623 op device:{requested: '', assigned: ''} def:{{{node loss_3/mul}} = Mul[T=DT_FLOAT, _has_manual_control_dependencies=true](loss_3/mul/x, loss_3/dense_2_loss/value)}}' was changed by setting attribute after it was run by a session. This mutation will have no effect, and will trigger an error in the future. Either don't modify nodes after running them or create a new session.\n",
      "/Users/boabangfrancis/anaconda3/lib/python3.11/site-packages/keras/src/engine/training_v1.py:2359: UserWarning: `Model.state_updates` will be removed in a future version. This property should not be used in TensorFlow 2.0, as `updates` are applied automatically.\n",
      "  updates=self.state_updates,\n",
      "2025-06-07 08:28:35.750642: W tensorflow/c/c_api.cc:304] Operation '{name:'dense_2/Sigmoid' id:3299 op device:{requested: '', assigned: ''} def:{{{node dense_2/Sigmoid}} = Sigmoid[T=DT_FLOAT, _has_manual_control_dependencies=true](dense_2/BiasAdd)}}' was changed by setting attribute after it was run by a session. This mutation will have no effect, and will trigger an error in the future. Either don't modify nodes after running them or create a new session.\n"
     ]
    },
    {
     "name": "stdout",
     "output_type": "stream",
     "text": [
      "\n",
      "📂 Fold 4/10\n",
      "\n",
      "➡️ Stage 1 | Epochs: 100 | Loss: convex_focal_loss\n"
     ]
    },
    {
     "name": "stderr",
     "output_type": "stream",
     "text": [
      "2025-06-07 08:28:36.066079: W tensorflow/c/c_api.cc:304] Operation '{name:'training_6/Adam/dense_3/kernel/v/Assign' id:5575 op device:{requested: '', assigned: ''} def:{{{node training_6/Adam/dense_3/kernel/v/Assign}} = AssignVariableOp[_has_manual_control_dependencies=true, dtype=DT_FLOAT, validate_shape=false](training_6/Adam/dense_3/kernel/v, training_6/Adam/dense_3/kernel/v/Initializer/zeros)}}' was changed by setting attribute after it was run by a session. This mutation will have no effect, and will trigger an error in the future. Either don't modify nodes after running them or create a new session.\n",
      "/Users/boabangfrancis/anaconda3/lib/python3.11/site-packages/keras/src/engine/training_v1.py:2335: UserWarning: `Model.state_updates` will be removed in a future version. This property should not be used in TensorFlow 2.0, as `updates` are applied automatically.\n",
      "  updates = self.state_updates\n",
      "2025-06-07 08:28:41.593755: W tensorflow/c/c_api.cc:304] Operation '{name:'loss_4/mul' id:4930 op device:{requested: '', assigned: ''} def:{{{node loss_4/mul}} = Mul[T=DT_FLOAT, _has_manual_control_dependencies=true](loss_4/mul/x, loss_4/dense_3_loss/value)}}' was changed by setting attribute after it was run by a session. This mutation will have no effect, and will trigger an error in the future. Either don't modify nodes after running them or create a new session.\n",
      "/Users/boabangfrancis/anaconda3/lib/python3.11/site-packages/keras/src/engine/training_v1.py:2359: UserWarning: `Model.state_updates` will be removed in a future version. This property should not be used in TensorFlow 2.0, as `updates` are applied automatically.\n",
      "  updates=self.state_updates,\n",
      "2025-06-07 08:37:26.203350: W tensorflow/c/c_api.cc:304] Operation '{name:'dense_3/Sigmoid' id:4606 op device:{requested: '', assigned: ''} def:{{{node dense_3/Sigmoid}} = Sigmoid[T=DT_FLOAT, _has_manual_control_dependencies=true](dense_3/BiasAdd)}}' was changed by setting attribute after it was run by a session. This mutation will have no effect, and will trigger an error in the future. Either don't modify nodes after running them or create a new session.\n"
     ]
    },
    {
     "name": "stdout",
     "output_type": "stream",
     "text": [
      "\n",
      "📂 Fold 5/10\n",
      "\n",
      "➡️ Stage 1 | Epochs: 100 | Loss: convex_focal_loss\n"
     ]
    },
    {
     "name": "stderr",
     "output_type": "stream",
     "text": [
      "2025-06-07 08:37:26.554502: W tensorflow/c/c_api.cc:304] Operation '{name:'training_8/Adam/lstm_4/lstm_cell/bias/v/Assign' id:6877 op device:{requested: '', assigned: ''} def:{{{node training_8/Adam/lstm_4/lstm_cell/bias/v/Assign}} = AssignVariableOp[_has_manual_control_dependencies=true, dtype=DT_FLOAT, validate_shape=false](training_8/Adam/lstm_4/lstm_cell/bias/v, training_8/Adam/lstm_4/lstm_cell/bias/v/Initializer/zeros)}}' was changed by setting attribute after it was run by a session. This mutation will have no effect, and will trigger an error in the future. Either don't modify nodes after running them or create a new session.\n",
      "/Users/boabangfrancis/anaconda3/lib/python3.11/site-packages/keras/src/engine/training_v1.py:2335: UserWarning: `Model.state_updates` will be removed in a future version. This property should not be used in TensorFlow 2.0, as `updates` are applied automatically.\n",
      "  updates = self.state_updates\n",
      "2025-06-07 08:37:32.027593: W tensorflow/c/c_api.cc:304] Operation '{name:'loss_5/mul' id:6237 op device:{requested: '', assigned: ''} def:{{{node loss_5/mul}} = Mul[T=DT_FLOAT, _has_manual_control_dependencies=true](loss_5/mul/x, loss_5/dense_4_loss/value)}}' was changed by setting attribute after it was run by a session. This mutation will have no effect, and will trigger an error in the future. Either don't modify nodes after running them or create a new session.\n",
      "/Users/boabangfrancis/anaconda3/lib/python3.11/site-packages/keras/src/engine/training_v1.py:2359: UserWarning: `Model.state_updates` will be removed in a future version. This property should not be used in TensorFlow 2.0, as `updates` are applied automatically.\n",
      "  updates=self.state_updates,\n",
      "2025-06-07 08:46:07.608507: W tensorflow/c/c_api.cc:304] Operation '{name:'dense_4/Sigmoid' id:5913 op device:{requested: '', assigned: ''} def:{{{node dense_4/Sigmoid}} = Sigmoid[T=DT_FLOAT, _has_manual_control_dependencies=true](dense_4/BiasAdd)}}' was changed by setting attribute after it was run by a session. This mutation will have no effect, and will trigger an error in the future. Either don't modify nodes after running them or create a new session.\n"
     ]
    },
    {
     "name": "stdout",
     "output_type": "stream",
     "text": [
      "\n",
      "📂 Fold 6/10\n",
      "\n",
      "➡️ Stage 1 | Epochs: 100 | Loss: convex_focal_loss\n"
     ]
    },
    {
     "name": "stderr",
     "output_type": "stream",
     "text": [
      "2025-06-07 08:46:07.984911: W tensorflow/c/c_api.cc:304] Operation '{name:'training_10/Adam/beta_1/Assign' id:8126 op device:{requested: '', assigned: ''} def:{{{node training_10/Adam/beta_1/Assign}} = AssignVariableOp[_has_manual_control_dependencies=true, dtype=DT_FLOAT, validate_shape=false](training_10/Adam/beta_1, training_10/Adam/beta_1/Initializer/initial_value)}}' was changed by setting attribute after it was run by a session. This mutation will have no effect, and will trigger an error in the future. Either don't modify nodes after running them or create a new session.\n",
      "/Users/boabangfrancis/anaconda3/lib/python3.11/site-packages/keras/src/engine/training_v1.py:2335: UserWarning: `Model.state_updates` will be removed in a future version. This property should not be used in TensorFlow 2.0, as `updates` are applied automatically.\n",
      "  updates = self.state_updates\n",
      "2025-06-07 08:46:13.680784: W tensorflow/c/c_api.cc:304] Operation '{name:'loss_6/mul' id:7544 op device:{requested: '', assigned: ''} def:{{{node loss_6/mul}} = Mul[T=DT_FLOAT, _has_manual_control_dependencies=true](loss_6/mul/x, loss_6/dense_5_loss/value)}}' was changed by setting attribute after it was run by a session. This mutation will have no effect, and will trigger an error in the future. Either don't modify nodes after running them or create a new session.\n",
      "/Users/boabangfrancis/anaconda3/lib/python3.11/site-packages/keras/src/engine/training_v1.py:2359: UserWarning: `Model.state_updates` will be removed in a future version. This property should not be used in TensorFlow 2.0, as `updates` are applied automatically.\n",
      "  updates=self.state_updates,\n",
      "2025-06-07 08:55:06.105978: W tensorflow/c/c_api.cc:304] Operation '{name:'dense_5/Sigmoid' id:7220 op device:{requested: '', assigned: ''} def:{{{node dense_5/Sigmoid}} = Sigmoid[T=DT_FLOAT, _has_manual_control_dependencies=true](dense_5/BiasAdd)}}' was changed by setting attribute after it was run by a session. This mutation will have no effect, and will trigger an error in the future. Either don't modify nodes after running them or create a new session.\n"
     ]
    },
    {
     "name": "stdout",
     "output_type": "stream",
     "text": [
      "\n",
      "📂 Fold 7/10\n",
      "\n",
      "➡️ Stage 1 | Epochs: 100 | Loss: convex_focal_loss\n"
     ]
    },
    {
     "name": "stderr",
     "output_type": "stream",
     "text": [
      "2025-06-07 08:55:06.501656: W tensorflow/c/c_api.cc:304] Operation '{name:'training_12/Adam/lstm_6/lstm_cell/bias/v/Assign' id:9491 op device:{requested: '', assigned: ''} def:{{{node training_12/Adam/lstm_6/lstm_cell/bias/v/Assign}} = AssignVariableOp[_has_manual_control_dependencies=true, dtype=DT_FLOAT, validate_shape=false](training_12/Adam/lstm_6/lstm_cell/bias/v, training_12/Adam/lstm_6/lstm_cell/bias/v/Initializer/zeros)}}' was changed by setting attribute after it was run by a session. This mutation will have no effect, and will trigger an error in the future. Either don't modify nodes after running them or create a new session.\n",
      "/Users/boabangfrancis/anaconda3/lib/python3.11/site-packages/keras/src/engine/training_v1.py:2335: UserWarning: `Model.state_updates` will be removed in a future version. This property should not be used in TensorFlow 2.0, as `updates` are applied automatically.\n",
      "  updates = self.state_updates\n",
      "2025-06-07 08:55:11.782881: W tensorflow/c/c_api.cc:304] Operation '{name:'loss_7/mul' id:8851 op device:{requested: '', assigned: ''} def:{{{node loss_7/mul}} = Mul[T=DT_FLOAT, _has_manual_control_dependencies=true](loss_7/mul/x, loss_7/dense_6_loss/value)}}' was changed by setting attribute after it was run by a session. This mutation will have no effect, and will trigger an error in the future. Either don't modify nodes after running them or create a new session.\n",
      "/Users/boabangfrancis/anaconda3/lib/python3.11/site-packages/keras/src/engine/training_v1.py:2359: UserWarning: `Model.state_updates` will be removed in a future version. This property should not be used in TensorFlow 2.0, as `updates` are applied automatically.\n",
      "  updates=self.state_updates,\n",
      "2025-06-07 09:03:23.202144: W tensorflow/c/c_api.cc:304] Operation '{name:'dense_6/Sigmoid' id:8527 op device:{requested: '', assigned: ''} def:{{{node dense_6/Sigmoid}} = Sigmoid[T=DT_FLOAT, _has_manual_control_dependencies=true](dense_6/BiasAdd)}}' was changed by setting attribute after it was run by a session. This mutation will have no effect, and will trigger an error in the future. Either don't modify nodes after running them or create a new session.\n"
     ]
    },
    {
     "name": "stdout",
     "output_type": "stream",
     "text": [
      "\n",
      "📂 Fold 8/10\n",
      "\n",
      "➡️ Stage 1 | Epochs: 100 | Loss: convex_focal_loss\n"
     ]
    },
    {
     "name": "stderr",
     "output_type": "stream",
     "text": [
      "2025-06-07 09:03:23.663145: W tensorflow/c/c_api.cc:304] Operation '{name:'dense_7/kernel/Assign' id:9823 op device:{requested: '', assigned: ''} def:{{{node dense_7/kernel/Assign}} = AssignVariableOp[_has_manual_control_dependencies=true, dtype=DT_FLOAT, validate_shape=false](dense_7/kernel, dense_7/kernel/Initializer/random_uniform)}}' was changed by setting attribute after it was run by a session. This mutation will have no effect, and will trigger an error in the future. Either don't modify nodes after running them or create a new session.\n",
      "/Users/boabangfrancis/anaconda3/lib/python3.11/site-packages/keras/src/engine/training_v1.py:2335: UserWarning: `Model.state_updates` will be removed in a future version. This property should not be used in TensorFlow 2.0, as `updates` are applied automatically.\n",
      "  updates = self.state_updates\n",
      "2025-06-07 09:03:29.376885: W tensorflow/c/c_api.cc:304] Operation '{name:'loss_8/mul' id:10158 op device:{requested: '', assigned: ''} def:{{{node loss_8/mul}} = Mul[T=DT_FLOAT, _has_manual_control_dependencies=true](loss_8/mul/x, loss_8/dense_7_loss/value)}}' was changed by setting attribute after it was run by a session. This mutation will have no effect, and will trigger an error in the future. Either don't modify nodes after running them or create a new session.\n",
      "/Users/boabangfrancis/anaconda3/lib/python3.11/site-packages/keras/src/engine/training_v1.py:2359: UserWarning: `Model.state_updates` will be removed in a future version. This property should not be used in TensorFlow 2.0, as `updates` are applied automatically.\n",
      "  updates=self.state_updates,\n",
      "2025-06-07 09:12:03.692939: W tensorflow/c/c_api.cc:304] Operation '{name:'dense_7/Sigmoid' id:9834 op device:{requested: '', assigned: ''} def:{{{node dense_7/Sigmoid}} = Sigmoid[T=DT_FLOAT, _has_manual_control_dependencies=true](dense_7/BiasAdd)}}' was changed by setting attribute after it was run by a session. This mutation will have no effect, and will trigger an error in the future. Either don't modify nodes after running them or create a new session.\n"
     ]
    },
    {
     "name": "stdout",
     "output_type": "stream",
     "text": [
      "\n",
      "📂 Fold 9/10\n",
      "\n",
      "➡️ Stage 1 | Epochs: 100 | Loss: convex_focal_loss\n"
     ]
    },
    {
     "name": "stderr",
     "output_type": "stream",
     "text": [
      "2025-06-07 09:12:04.147625: W tensorflow/c/c_api.cc:304] Operation '{name:'training_16/Adam/dense_8/kernel/m/Assign' id:12081 op device:{requested: '', assigned: ''} def:{{{node training_16/Adam/dense_8/kernel/m/Assign}} = AssignVariableOp[_has_manual_control_dependencies=true, dtype=DT_FLOAT, validate_shape=false](training_16/Adam/dense_8/kernel/m, training_16/Adam/dense_8/kernel/m/Initializer/zeros)}}' was changed by setting attribute after it was run by a session. This mutation will have no effect, and will trigger an error in the future. Either don't modify nodes after running them or create a new session.\n",
      "/Users/boabangfrancis/anaconda3/lib/python3.11/site-packages/keras/src/engine/training_v1.py:2335: UserWarning: `Model.state_updates` will be removed in a future version. This property should not be used in TensorFlow 2.0, as `updates` are applied automatically.\n",
      "  updates = self.state_updates\n",
      "2025-06-07 09:12:09.742117: W tensorflow/c/c_api.cc:304] Operation '{name:'loss_9/mul' id:11465 op device:{requested: '', assigned: ''} def:{{{node loss_9/mul}} = Mul[T=DT_FLOAT, _has_manual_control_dependencies=true](loss_9/mul/x, loss_9/dense_8_loss/value)}}' was changed by setting attribute after it was run by a session. This mutation will have no effect, and will trigger an error in the future. Either don't modify nodes after running them or create a new session.\n",
      "/Users/boabangfrancis/anaconda3/lib/python3.11/site-packages/keras/src/engine/training_v1.py:2359: UserWarning: `Model.state_updates` will be removed in a future version. This property should not be used in TensorFlow 2.0, as `updates` are applied automatically.\n",
      "  updates=self.state_updates,\n",
      "2025-06-07 09:20:38.672915: W tensorflow/c/c_api.cc:304] Operation '{name:'dense_8/Sigmoid' id:11141 op device:{requested: '', assigned: ''} def:{{{node dense_8/Sigmoid}} = Sigmoid[T=DT_FLOAT, _has_manual_control_dependencies=true](dense_8/BiasAdd)}}' was changed by setting attribute after it was run by a session. This mutation will have no effect, and will trigger an error in the future. Either don't modify nodes after running them or create a new session.\n"
     ]
    },
    {
     "name": "stdout",
     "output_type": "stream",
     "text": [
      "\n",
      "📂 Fold 10/10\n",
      "\n",
      "➡️ Stage 1 | Epochs: 100 | Loss: convex_focal_loss\n"
     ]
    },
    {
     "name": "stderr",
     "output_type": "stream",
     "text": [
      "2025-06-07 09:20:39.103203: W tensorflow/c/c_api.cc:304] Operation '{name:'true_positives_29/Assign' id:12472 op device:{requested: '', assigned: ''} def:{{{node true_positives_29/Assign}} = AssignVariableOp[_has_manual_control_dependencies=true, dtype=DT_FLOAT, validate_shape=false](true_positives_29, true_positives_29/Initializer/zeros)}}' was changed by setting attribute after it was run by a session. This mutation will have no effect, and will trigger an error in the future. Either don't modify nodes after running them or create a new session.\n",
      "/Users/boabangfrancis/anaconda3/lib/python3.11/site-packages/keras/src/engine/training_v1.py:2335: UserWarning: `Model.state_updates` will be removed in a future version. This property should not be used in TensorFlow 2.0, as `updates` are applied automatically.\n",
      "  updates = self.state_updates\n",
      "2025-06-07 09:20:44.765250: W tensorflow/c/c_api.cc:304] Operation '{name:'loss_10/mul' id:12772 op device:{requested: '', assigned: ''} def:{{{node loss_10/mul}} = Mul[T=DT_FLOAT, _has_manual_control_dependencies=true](loss_10/mul/x, loss_10/dense_9_loss/value)}}' was changed by setting attribute after it was run by a session. This mutation will have no effect, and will trigger an error in the future. Either don't modify nodes after running them or create a new session.\n",
      "/Users/boabangfrancis/anaconda3/lib/python3.11/site-packages/keras/src/engine/training_v1.py:2359: UserWarning: `Model.state_updates` will be removed in a future version. This property should not be used in TensorFlow 2.0, as `updates` are applied automatically.\n",
      "  updates=self.state_updates,\n",
      "2025-06-07 09:29:13.469367: W tensorflow/c/c_api.cc:304] Operation '{name:'dense_9/Sigmoid' id:12448 op device:{requested: '', assigned: ''} def:{{{node dense_9/Sigmoid}} = Sigmoid[T=DT_FLOAT, _has_manual_control_dependencies=true](dense_9/BiasAdd)}}' was changed by setting attribute after it was run by a session. This mutation will have no effect, and will trigger an error in the future. Either don't modify nodes after running them or create a new session.\n"
     ]
    },
    {
     "name": "stdout",
     "output_type": "stream",
     "text": [
      "\n",
      "📊 Average metrics for schedule 'Convex Only': {'loss': 0.9823261915430237, 'accuracy': 0.58454114, 'precision': 0.59853196, 'recall': 0.5175878, 'f1': 0.5415631380336496, 'auc': 0.6102859057465893}\n",
      "\n",
      "📂 Fold 1/10\n",
      "\n",
      "➡️ Stage 1 | Epochs: 10 | Loss: convex_focal_loss\n"
     ]
    },
    {
     "name": "stderr",
     "output_type": "stream",
     "text": [
      "2025-06-07 09:29:13.943956: W tensorflow/c/c_api.cc:304] Operation '{name:'true_negatives_10/Assign' id:13784 op device:{requested: '', assigned: ''} def:{{{node true_negatives_10/Assign}} = AssignVariableOp[_has_manual_control_dependencies=true, dtype=DT_FLOAT, validate_shape=false](true_negatives_10, true_negatives_10/Initializer/zeros)}}' was changed by setting attribute after it was run by a session. This mutation will have no effect, and will trigger an error in the future. Either don't modify nodes after running them or create a new session.\n",
      "/Users/boabangfrancis/anaconda3/lib/python3.11/site-packages/keras/src/engine/training_v1.py:2335: UserWarning: `Model.state_updates` will be removed in a future version. This property should not be used in TensorFlow 2.0, as `updates` are applied automatically.\n",
      "  updates = self.state_updates\n",
      "2025-06-07 09:29:19.965499: W tensorflow/c/c_api.cc:304] Operation '{name:'loss_11/mul' id:14079 op device:{requested: '', assigned: ''} def:{{{node loss_11/mul}} = Mul[T=DT_FLOAT, _has_manual_control_dependencies=true](loss_11/mul/x, loss_11/dense_10_loss/value)}}' was changed by setting attribute after it was run by a session. This mutation will have no effect, and will trigger an error in the future. Either don't modify nodes after running them or create a new session.\n"
     ]
    },
    {
     "name": "stdout",
     "output_type": "stream",
     "text": [
      "\n",
      "➡️ Stage 2 | Epochs: 90 | Loss: nonconvex_focal_loss\n"
     ]
    },
    {
     "name": "stderr",
     "output_type": "stream",
     "text": [
      "2025-06-07 09:30:08.836627: W tensorflow/c/c_api.cc:304] Operation '{name:'count_11/Assign' id:14889 op device:{requested: '', assigned: ''} def:{{{node count_11/Assign}} = AssignVariableOp[_has_manual_control_dependencies=true, dtype=DT_FLOAT, validate_shape=false](count_11, count_11/Initializer/zeros)}}' was changed by setting attribute after it was run by a session. This mutation will have no effect, and will trigger an error in the future. Either don't modify nodes after running them or create a new session.\n",
      "2025-06-07 09:30:14.841687: W tensorflow/c/c_api.cc:304] Operation '{name:'loss_12/mul' id:15163 op device:{requested: '', assigned: ''} def:{{{node loss_12/mul}} = Mul[T=DT_FLOAT, _has_manual_control_dependencies=true](loss_12/mul/x, loss_12/dense_10_loss/value)}}' was changed by setting attribute after it was run by a session. This mutation will have no effect, and will trigger an error in the future. Either don't modify nodes after running them or create a new session.\n",
      "/Users/boabangfrancis/anaconda3/lib/python3.11/site-packages/keras/src/engine/training_v1.py:2359: UserWarning: `Model.state_updates` will be removed in a future version. This property should not be used in TensorFlow 2.0, as `updates` are applied automatically.\n",
      "  updates=self.state_updates,\n",
      "2025-06-07 09:38:20.475617: W tensorflow/c/c_api.cc:304] Operation '{name:'dense_10/Sigmoid' id:13755 op device:{requested: '', assigned: ''} def:{{{node dense_10/Sigmoid}} = Sigmoid[T=DT_FLOAT, _has_manual_control_dependencies=true](dense_10/BiasAdd)}}' was changed by setting attribute after it was run by a session. This mutation will have no effect, and will trigger an error in the future. Either don't modify nodes after running them or create a new session.\n"
     ]
    },
    {
     "name": "stdout",
     "output_type": "stream",
     "text": [
      "🔍 Calculating SHAP values for fold 1 of 'Multistage'\n",
      "\n",
      "📂 Fold 2/10\n",
      "\n",
      "➡️ Stage 1 | Epochs: 10 | Loss: convex_focal_loss\n"
     ]
    },
    {
     "name": "stderr",
     "output_type": "stream",
     "text": [
      "2025-06-07 09:38:24.196924: W tensorflow/c/c_api.cc:304] Operation '{name:'training_24/Adam/beta_1/Assign' id:17415 op device:{requested: '', assigned: ''} def:{{{node training_24/Adam/beta_1/Assign}} = AssignVariableOp[_has_manual_control_dependencies=true, dtype=DT_FLOAT, validate_shape=false](training_24/Adam/beta_1, training_24/Adam/beta_1/Initializer/initial_value)}}' was changed by setting attribute after it was run by a session. This mutation will have no effect, and will trigger an error in the future. Either don't modify nodes after running them or create a new session.\n",
      "/Users/boabangfrancis/anaconda3/lib/python3.11/site-packages/keras/src/engine/training_v1.py:2335: UserWarning: `Model.state_updates` will be removed in a future version. This property should not be used in TensorFlow 2.0, as `updates` are applied automatically.\n",
      "  updates = self.state_updates\n",
      "2025-06-07 09:38:30.065120: W tensorflow/c/c_api.cc:304] Operation '{name:'loss_14/mul' id:16833 op device:{requested: '', assigned: ''} def:{{{node loss_14/mul}} = Mul[T=DT_FLOAT, _has_manual_control_dependencies=true](loss_14/mul/x, loss_14/dense_11_loss/value)}}' was changed by setting attribute after it was run by a session. This mutation will have no effect, and will trigger an error in the future. Either don't modify nodes after running them or create a new session.\n"
     ]
    },
    {
     "name": "stdout",
     "output_type": "stream",
     "text": [
      "\n",
      "➡️ Stage 2 | Epochs: 90 | Loss: nonconvex_focal_loss\n"
     ]
    },
    {
     "name": "stderr",
     "output_type": "stream",
     "text": [
      "2025-06-07 09:39:18.058412: W tensorflow/c/c_api.cc:304] Operation '{name:'true_negatives_13/Assign' id:17622 op device:{requested: '', assigned: ''} def:{{{node true_negatives_13/Assign}} = AssignVariableOp[_has_manual_control_dependencies=true, dtype=DT_FLOAT, validate_shape=false](true_negatives_13, true_negatives_13/Initializer/zeros)}}' was changed by setting attribute after it was run by a session. This mutation will have no effect, and will trigger an error in the future. Either don't modify nodes after running them or create a new session.\n",
      "2025-06-07 09:39:24.024993: W tensorflow/c/c_api.cc:304] Operation '{name:'loss_15/mul' id:17917 op device:{requested: '', assigned: ''} def:{{{node loss_15/mul}} = Mul[T=DT_FLOAT, _has_manual_control_dependencies=true](loss_15/mul/x, loss_15/dense_11_loss/value)}}' was changed by setting attribute after it was run by a session. This mutation will have no effect, and will trigger an error in the future. Either don't modify nodes after running them or create a new session.\n",
      "/Users/boabangfrancis/anaconda3/lib/python3.11/site-packages/keras/src/engine/training_v1.py:2359: UserWarning: `Model.state_updates` will be removed in a future version. This property should not be used in TensorFlow 2.0, as `updates` are applied automatically.\n",
      "  updates=self.state_updates,\n",
      "2025-06-07 09:47:16.134488: W tensorflow/c/c_api.cc:304] Operation '{name:'dense_11/Sigmoid' id:16509 op device:{requested: '', assigned: ''} def:{{{node dense_11/Sigmoid}} = Sigmoid[T=DT_FLOAT, _has_manual_control_dependencies=true](dense_11/BiasAdd)}}' was changed by setting attribute after it was run by a session. This mutation will have no effect, and will trigger an error in the future. Either don't modify nodes after running them or create a new session.\n"
     ]
    },
    {
     "name": "stdout",
     "output_type": "stream",
     "text": [
      "\n",
      "📂 Fold 3/10\n",
      "\n",
      "➡️ Stage 1 | Epochs: 10 | Loss: convex_focal_loss\n"
     ]
    },
    {
     "name": "stderr",
     "output_type": "stream",
     "text": [
      "2025-06-07 09:47:16.719387: W tensorflow/c/c_api.cc:304] Operation '{name:'training_28/Adam/dense_12/kernel/v/Assign' id:19772 op device:{requested: '', assigned: ''} def:{{{node training_28/Adam/dense_12/kernel/v/Assign}} = AssignVariableOp[_has_manual_control_dependencies=true, dtype=DT_FLOAT, validate_shape=false](training_28/Adam/dense_12/kernel/v, training_28/Adam/dense_12/kernel/v/Initializer/zeros)}}' was changed by setting attribute after it was run by a session. This mutation will have no effect, and will trigger an error in the future. Either don't modify nodes after running them or create a new session.\n",
      "/Users/boabangfrancis/anaconda3/lib/python3.11/site-packages/keras/src/engine/training_v1.py:2335: UserWarning: `Model.state_updates` will be removed in a future version. This property should not be used in TensorFlow 2.0, as `updates` are applied automatically.\n",
      "  updates = self.state_updates\n",
      "2025-06-07 09:47:22.578584: W tensorflow/c/c_api.cc:304] Operation '{name:'loss_16/mul' id:19127 op device:{requested: '', assigned: ''} def:{{{node loss_16/mul}} = Mul[T=DT_FLOAT, _has_manual_control_dependencies=true](loss_16/mul/x, loss_16/dense_12_loss/value)}}' was changed by setting attribute after it was run by a session. This mutation will have no effect, and will trigger an error in the future. Either don't modify nodes after running them or create a new session.\n"
     ]
    },
    {
     "name": "stdout",
     "output_type": "stream",
     "text": [
      "\n",
      "➡️ Stage 2 | Epochs: 90 | Loss: nonconvex_focal_loss\n"
     ]
    },
    {
     "name": "stderr",
     "output_type": "stream",
     "text": [
      "2025-06-07 09:48:10.200332: W tensorflow/c/c_api.cc:304] Operation '{name:'false_positives_31/Assign' id:19921 op device:{requested: '', assigned: ''} def:{{{node false_positives_31/Assign}} = AssignVariableOp[_has_manual_control_dependencies=true, dtype=DT_FLOAT, validate_shape=false](false_positives_31, false_positives_31/Initializer/zeros)}}' was changed by setting attribute after it was run by a session. This mutation will have no effect, and will trigger an error in the future. Either don't modify nodes after running them or create a new session.\n",
      "2025-06-07 09:48:16.286504: W tensorflow/c/c_api.cc:304] Operation '{name:'loss_17/mul' id:20211 op device:{requested: '', assigned: ''} def:{{{node loss_17/mul}} = Mul[T=DT_FLOAT, _has_manual_control_dependencies=true](loss_17/mul/x, loss_17/dense_12_loss/value)}}' was changed by setting attribute after it was run by a session. This mutation will have no effect, and will trigger an error in the future. Either don't modify nodes after running them or create a new session.\n",
      "/Users/boabangfrancis/anaconda3/lib/python3.11/site-packages/keras/src/engine/training_v1.py:2359: UserWarning: `Model.state_updates` will be removed in a future version. This property should not be used in TensorFlow 2.0, as `updates` are applied automatically.\n",
      "  updates=self.state_updates,\n",
      "2025-06-07 09:56:12.826169: W tensorflow/c/c_api.cc:304] Operation '{name:'dense_12/Sigmoid' id:18803 op device:{requested: '', assigned: ''} def:{{{node dense_12/Sigmoid}} = Sigmoid[T=DT_FLOAT, _has_manual_control_dependencies=true](dense_12/BiasAdd)}}' was changed by setting attribute after it was run by a session. This mutation will have no effect, and will trigger an error in the future. Either don't modify nodes after running them or create a new session.\n"
     ]
    },
    {
     "name": "stdout",
     "output_type": "stream",
     "text": [
      "\n",
      "📂 Fold 4/10\n",
      "\n",
      "➡️ Stage 1 | Epochs: 10 | Loss: convex_focal_loss\n"
     ]
    },
    {
     "name": "stderr",
     "output_type": "stream",
     "text": [
      "2025-06-07 09:56:13.499121: W tensorflow/c/c_api.cc:304] Operation '{name:'training_32/Adam/dense_13/bias/v/Assign' id:22071 op device:{requested: '', assigned: ''} def:{{{node training_32/Adam/dense_13/bias/v/Assign}} = AssignVariableOp[_has_manual_control_dependencies=true, dtype=DT_FLOAT, validate_shape=false](training_32/Adam/dense_13/bias/v, training_32/Adam/dense_13/bias/v/Initializer/zeros)}}' was changed by setting attribute after it was run by a session. This mutation will have no effect, and will trigger an error in the future. Either don't modify nodes after running them or create a new session.\n",
      "/Users/boabangfrancis/anaconda3/lib/python3.11/site-packages/keras/src/engine/training_v1.py:2335: UserWarning: `Model.state_updates` will be removed in a future version. This property should not be used in TensorFlow 2.0, as `updates` are applied automatically.\n",
      "  updates = self.state_updates\n",
      "2025-06-07 09:56:19.163491: W tensorflow/c/c_api.cc:304] Operation '{name:'loss_18/mul' id:21421 op device:{requested: '', assigned: ''} def:{{{node loss_18/mul}} = Mul[T=DT_FLOAT, _has_manual_control_dependencies=true](loss_18/mul/x, loss_18/dense_13_loss/value)}}' was changed by setting attribute after it was run by a session. This mutation will have no effect, and will trigger an error in the future. Either don't modify nodes after running them or create a new session.\n"
     ]
    },
    {
     "name": "stdout",
     "output_type": "stream",
     "text": [
      "\n",
      "➡️ Stage 2 | Epochs: 90 | Loss: nonconvex_focal_loss\n"
     ]
    },
    {
     "name": "stderr",
     "output_type": "stream",
     "text": [
      "2025-06-07 09:57:04.359209: W tensorflow/c/c_api.cc:304] Operation '{name:'true_negatives_17/Assign' id:22210 op device:{requested: '', assigned: ''} def:{{{node true_negatives_17/Assign}} = AssignVariableOp[_has_manual_control_dependencies=true, dtype=DT_FLOAT, validate_shape=false](true_negatives_17, true_negatives_17/Initializer/zeros)}}' was changed by setting attribute after it was run by a session. This mutation will have no effect, and will trigger an error in the future. Either don't modify nodes after running them or create a new session.\n",
      "2025-06-07 09:57:10.604541: W tensorflow/c/c_api.cc:304] Operation '{name:'loss_19/mul' id:22505 op device:{requested: '', assigned: ''} def:{{{node loss_19/mul}} = Mul[T=DT_FLOAT, _has_manual_control_dependencies=true](loss_19/mul/x, loss_19/dense_13_loss/value)}}' was changed by setting attribute after it was run by a session. This mutation will have no effect, and will trigger an error in the future. Either don't modify nodes after running them or create a new session.\n",
      "/Users/boabangfrancis/anaconda3/lib/python3.11/site-packages/keras/src/engine/training_v1.py:2359: UserWarning: `Model.state_updates` will be removed in a future version. This property should not be used in TensorFlow 2.0, as `updates` are applied automatically.\n",
      "  updates=self.state_updates,\n",
      "2025-06-07 10:05:13.713469: W tensorflow/c/c_api.cc:304] Operation '{name:'dense_13/Sigmoid' id:21097 op device:{requested: '', assigned: ''} def:{{{node dense_13/Sigmoid}} = Sigmoid[T=DT_FLOAT, _has_manual_control_dependencies=true](dense_13/BiasAdd)}}' was changed by setting attribute after it was run by a session. This mutation will have no effect, and will trigger an error in the future. Either don't modify nodes after running them or create a new session.\n"
     ]
    },
    {
     "name": "stdout",
     "output_type": "stream",
     "text": [
      "\n",
      "📂 Fold 5/10\n",
      "\n",
      "➡️ Stage 1 | Epochs: 10 | Loss: convex_focal_loss\n"
     ]
    },
    {
     "name": "stderr",
     "output_type": "stream",
     "text": [
      "2025-06-07 10:05:14.415384: W tensorflow/c/c_api.cc:304] Operation '{name:'count_18/Assign' id:23441 op device:{requested: '', assigned: ''} def:{{{node count_18/Assign}} = AssignVariableOp[_has_manual_control_dependencies=true, dtype=DT_FLOAT, validate_shape=false](count_18, count_18/Initializer/zeros)}}' was changed by setting attribute after it was run by a session. This mutation will have no effect, and will trigger an error in the future. Either don't modify nodes after running them or create a new session.\n",
      "/Users/boabangfrancis/anaconda3/lib/python3.11/site-packages/keras/src/engine/training_v1.py:2335: UserWarning: `Model.state_updates` will be removed in a future version. This property should not be used in TensorFlow 2.0, as `updates` are applied automatically.\n",
      "  updates = self.state_updates\n",
      "2025-06-07 10:05:20.503734: W tensorflow/c/c_api.cc:304] Operation '{name:'loss_20/mul' id:23715 op device:{requested: '', assigned: ''} def:{{{node loss_20/mul}} = Mul[T=DT_FLOAT, _has_manual_control_dependencies=true](loss_20/mul/x, loss_20/dense_14_loss/value)}}' was changed by setting attribute after it was run by a session. This mutation will have no effect, and will trigger an error in the future. Either don't modify nodes after running them or create a new session.\n"
     ]
    },
    {
     "name": "stdout",
     "output_type": "stream",
     "text": [
      "\n",
      "➡️ Stage 2 | Epochs: 90 | Loss: nonconvex_focal_loss\n"
     ]
    },
    {
     "name": "stderr",
     "output_type": "stream",
     "text": [
      "2025-06-07 10:06:07.359768: W tensorflow/c/c_api.cc:304] Operation '{name:'false_negatives_38/Assign' id:24494 op device:{requested: '', assigned: ''} def:{{{node false_negatives_38/Assign}} = AssignVariableOp[_has_manual_control_dependencies=true, dtype=DT_FLOAT, validate_shape=false](false_negatives_38, false_negatives_38/Initializer/zeros)}}' was changed by setting attribute after it was run by a session. This mutation will have no effect, and will trigger an error in the future. Either don't modify nodes after running them or create a new session.\n",
      "2025-06-07 10:06:13.481598: W tensorflow/c/c_api.cc:304] Operation '{name:'loss_21/mul' id:24799 op device:{requested: '', assigned: ''} def:{{{node loss_21/mul}} = Mul[T=DT_FLOAT, _has_manual_control_dependencies=true](loss_21/mul/x, loss_21/dense_14_loss/value)}}' was changed by setting attribute after it was run by a session. This mutation will have no effect, and will trigger an error in the future. Either don't modify nodes after running them or create a new session.\n",
      "/Users/boabangfrancis/anaconda3/lib/python3.11/site-packages/keras/src/engine/training_v1.py:2359: UserWarning: `Model.state_updates` will be removed in a future version. This property should not be used in TensorFlow 2.0, as `updates` are applied automatically.\n",
      "  updates=self.state_updates,\n",
      "2025-06-07 10:14:03.395517: W tensorflow/c/c_api.cc:304] Operation '{name:'dense_14/Sigmoid' id:23391 op device:{requested: '', assigned: ''} def:{{{node dense_14/Sigmoid}} = Sigmoid[T=DT_FLOAT, _has_manual_control_dependencies=true](dense_14/BiasAdd)}}' was changed by setting attribute after it was run by a session. This mutation will have no effect, and will trigger an error in the future. Either don't modify nodes after running them or create a new session.\n"
     ]
    },
    {
     "name": "stdout",
     "output_type": "stream",
     "text": [
      "\n",
      "📂 Fold 6/10\n",
      "\n",
      "➡️ Stage 1 | Epochs: 10 | Loss: convex_focal_loss\n"
     ]
    },
    {
     "name": "stderr",
     "output_type": "stream",
     "text": [
      "2025-06-07 10:14:04.122570: W tensorflow/c/c_api.cc:304] Operation '{name:'training_40/Adam/lstm_15/lstm_cell/bias/m/Assign' id:26620 op device:{requested: '', assigned: ''} def:{{{node training_40/Adam/lstm_15/lstm_cell/bias/m/Assign}} = AssignVariableOp[_has_manual_control_dependencies=true, dtype=DT_FLOAT, validate_shape=false](training_40/Adam/lstm_15/lstm_cell/bias/m, training_40/Adam/lstm_15/lstm_cell/bias/m/Initializer/zeros)}}' was changed by setting attribute after it was run by a session. This mutation will have no effect, and will trigger an error in the future. Either don't modify nodes after running them or create a new session.\n",
      "/Users/boabangfrancis/anaconda3/lib/python3.11/site-packages/keras/src/engine/training_v1.py:2335: UserWarning: `Model.state_updates` will be removed in a future version. This property should not be used in TensorFlow 2.0, as `updates` are applied automatically.\n",
      "  updates = self.state_updates\n",
      "2025-06-07 10:14:10.337075: W tensorflow/c/c_api.cc:304] Operation '{name:'loss_22/mul' id:26009 op device:{requested: '', assigned: ''} def:{{{node loss_22/mul}} = Mul[T=DT_FLOAT, _has_manual_control_dependencies=true](loss_22/mul/x, loss_22/dense_15_loss/value)}}' was changed by setting attribute after it was run by a session. This mutation will have no effect, and will trigger an error in the future. Either don't modify nodes after running them or create a new session.\n"
     ]
    },
    {
     "name": "stdout",
     "output_type": "stream",
     "text": [
      "\n",
      "➡️ Stage 2 | Epochs: 90 | Loss: nonconvex_focal_loss\n"
     ]
    },
    {
     "name": "stderr",
     "output_type": "stream",
     "text": [
      "2025-06-07 10:14:57.869585: W tensorflow/c/c_api.cc:304] Operation '{name:'total_21/Assign' id:26814 op device:{requested: '', assigned: ''} def:{{{node total_21/Assign}} = AssignVariableOp[_has_manual_control_dependencies=true, dtype=DT_FLOAT, validate_shape=false](total_21, total_21/Initializer/zeros)}}' was changed by setting attribute after it was run by a session. This mutation will have no effect, and will trigger an error in the future. Either don't modify nodes after running them or create a new session.\n",
      "2025-06-07 10:15:04.151681: W tensorflow/c/c_api.cc:304] Operation '{name:'loss_23/mul' id:27093 op device:{requested: '', assigned: ''} def:{{{node loss_23/mul}} = Mul[T=DT_FLOAT, _has_manual_control_dependencies=true](loss_23/mul/x, loss_23/dense_15_loss/value)}}' was changed by setting attribute after it was run by a session. This mutation will have no effect, and will trigger an error in the future. Either don't modify nodes after running them or create a new session.\n",
      "/Users/boabangfrancis/anaconda3/lib/python3.11/site-packages/keras/src/engine/training_v1.py:2359: UserWarning: `Model.state_updates` will be removed in a future version. This property should not be used in TensorFlow 2.0, as `updates` are applied automatically.\n",
      "  updates=self.state_updates,\n",
      "2025-06-07 10:22:58.086199: W tensorflow/c/c_api.cc:304] Operation '{name:'dense_15/Sigmoid' id:25685 op device:{requested: '', assigned: ''} def:{{{node dense_15/Sigmoid}} = Sigmoid[T=DT_FLOAT, _has_manual_control_dependencies=true](dense_15/BiasAdd)}}' was changed by setting attribute after it was run by a session. This mutation will have no effect, and will trigger an error in the future. Either don't modify nodes after running them or create a new session.\n"
     ]
    },
    {
     "name": "stdout",
     "output_type": "stream",
     "text": [
      "\n",
      "📂 Fold 7/10\n",
      "\n",
      "➡️ Stage 1 | Epochs: 10 | Loss: convex_focal_loss\n"
     ]
    },
    {
     "name": "stderr",
     "output_type": "stream",
     "text": [
      "2025-06-07 10:22:58.825709: W tensorflow/c/c_api.cc:304] Operation '{name:'training_44/Adam/dense_16/bias/v/Assign' id:28953 op device:{requested: '', assigned: ''} def:{{{node training_44/Adam/dense_16/bias/v/Assign}} = AssignVariableOp[_has_manual_control_dependencies=true, dtype=DT_FLOAT, validate_shape=false](training_44/Adam/dense_16/bias/v, training_44/Adam/dense_16/bias/v/Initializer/zeros)}}' was changed by setting attribute after it was run by a session. This mutation will have no effect, and will trigger an error in the future. Either don't modify nodes after running them or create a new session.\n",
      "/Users/boabangfrancis/anaconda3/lib/python3.11/site-packages/keras/src/engine/training_v1.py:2335: UserWarning: `Model.state_updates` will be removed in a future version. This property should not be used in TensorFlow 2.0, as `updates` are applied automatically.\n",
      "  updates = self.state_updates\n",
      "2025-06-07 10:23:05.187852: W tensorflow/c/c_api.cc:304] Operation '{name:'loss_24/mul' id:28303 op device:{requested: '', assigned: ''} def:{{{node loss_24/mul}} = Mul[T=DT_FLOAT, _has_manual_control_dependencies=true](loss_24/mul/x, loss_24/dense_16_loss/value)}}' was changed by setting attribute after it was run by a session. This mutation will have no effect, and will trigger an error in the future. Either don't modify nodes after running them or create a new session.\n"
     ]
    },
    {
     "name": "stdout",
     "output_type": "stream",
     "text": [
      "\n",
      "➡️ Stage 2 | Epochs: 90 | Loss: nonconvex_focal_loss\n"
     ]
    },
    {
     "name": "stderr",
     "output_type": "stream",
     "text": [
      "2025-06-07 10:23:54.141491: W tensorflow/c/c_api.cc:304] Operation '{name:'false_positives_47/Assign' id:29097 op device:{requested: '', assigned: ''} def:{{{node false_positives_47/Assign}} = AssignVariableOp[_has_manual_control_dependencies=true, dtype=DT_FLOAT, validate_shape=false](false_positives_47, false_positives_47/Initializer/zeros)}}' was changed by setting attribute after it was run by a session. This mutation will have no effect, and will trigger an error in the future. Either don't modify nodes after running them or create a new session.\n",
      "2025-06-07 10:24:00.533200: W tensorflow/c/c_api.cc:304] Operation '{name:'loss_25/mul' id:29387 op device:{requested: '', assigned: ''} def:{{{node loss_25/mul}} = Mul[T=DT_FLOAT, _has_manual_control_dependencies=true](loss_25/mul/x, loss_25/dense_16_loss/value)}}' was changed by setting attribute after it was run by a session. This mutation will have no effect, and will trigger an error in the future. Either don't modify nodes after running them or create a new session.\n",
      "/Users/boabangfrancis/anaconda3/lib/python3.11/site-packages/keras/src/engine/training_v1.py:2359: UserWarning: `Model.state_updates` will be removed in a future version. This property should not be used in TensorFlow 2.0, as `updates` are applied automatically.\n",
      "  updates=self.state_updates,\n",
      "2025-06-07 10:31:55.052226: W tensorflow/c/c_api.cc:304] Operation '{name:'dense_16/Sigmoid' id:27979 op device:{requested: '', assigned: ''} def:{{{node dense_16/Sigmoid}} = Sigmoid[T=DT_FLOAT, _has_manual_control_dependencies=true](dense_16/BiasAdd)}}' was changed by setting attribute after it was run by a session. This mutation will have no effect, and will trigger an error in the future. Either don't modify nodes after running them or create a new session.\n"
     ]
    },
    {
     "name": "stdout",
     "output_type": "stream",
     "text": [
      "\n",
      "📂 Fold 8/10\n",
      "\n",
      "➡️ Stage 1 | Epochs: 10 | Loss: convex_focal_loss\n"
     ]
    },
    {
     "name": "stderr",
     "output_type": "stream",
     "text": [
      "2025-06-07 10:31:55.843477: W tensorflow/c/c_api.cc:304] Operation '{name:'true_negatives_24/Assign' id:30302 op device:{requested: '', assigned: ''} def:{{{node true_negatives_24/Assign}} = AssignVariableOp[_has_manual_control_dependencies=true, dtype=DT_FLOAT, validate_shape=false](true_negatives_24, true_negatives_24/Initializer/zeros)}}' was changed by setting attribute after it was run by a session. This mutation will have no effect, and will trigger an error in the future. Either don't modify nodes after running them or create a new session.\n",
      "/Users/boabangfrancis/anaconda3/lib/python3.11/site-packages/keras/src/engine/training_v1.py:2335: UserWarning: `Model.state_updates` will be removed in a future version. This property should not be used in TensorFlow 2.0, as `updates` are applied automatically.\n",
      "  updates = self.state_updates\n",
      "2025-06-07 10:32:02.201197: W tensorflow/c/c_api.cc:304] Operation '{name:'loss_26/mul' id:30597 op device:{requested: '', assigned: ''} def:{{{node loss_26/mul}} = Mul[T=DT_FLOAT, _has_manual_control_dependencies=true](loss_26/mul/x, loss_26/dense_17_loss/value)}}' was changed by setting attribute after it was run by a session. This mutation will have no effect, and will trigger an error in the future. Either don't modify nodes after running them or create a new session.\n"
     ]
    },
    {
     "name": "stdout",
     "output_type": "stream",
     "text": [
      "\n",
      "➡️ Stage 2 | Epochs: 90 | Loss: nonconvex_focal_loss\n"
     ]
    },
    {
     "name": "stderr",
     "output_type": "stream",
     "text": [
      "2025-06-07 10:32:50.271726: W tensorflow/c/c_api.cc:304] Operation '{name:'true_positives_75/Assign' id:31361 op device:{requested: '', assigned: ''} def:{{{node true_positives_75/Assign}} = AssignVariableOp[_has_manual_control_dependencies=true, dtype=DT_FLOAT, validate_shape=false](true_positives_75, true_positives_75/Initializer/zeros)}}' was changed by setting attribute after it was run by a session. This mutation will have no effect, and will trigger an error in the future. Either don't modify nodes after running them or create a new session.\n",
      "2025-06-07 10:32:56.656916: W tensorflow/c/c_api.cc:304] Operation '{name:'loss_27/mul' id:31681 op device:{requested: '', assigned: ''} def:{{{node loss_27/mul}} = Mul[T=DT_FLOAT, _has_manual_control_dependencies=true](loss_27/mul/x, loss_27/dense_17_loss/value)}}' was changed by setting attribute after it was run by a session. This mutation will have no effect, and will trigger an error in the future. Either don't modify nodes after running them or create a new session.\n",
      "/Users/boabangfrancis/anaconda3/lib/python3.11/site-packages/keras/src/engine/training_v1.py:2359: UserWarning: `Model.state_updates` will be removed in a future version. This property should not be used in TensorFlow 2.0, as `updates` are applied automatically.\n",
      "  updates=self.state_updates,\n",
      "2025-06-07 10:40:31.256928: W tensorflow/c/c_api.cc:304] Operation '{name:'dense_17/Sigmoid' id:30273 op device:{requested: '', assigned: ''} def:{{{node dense_17/Sigmoid}} = Sigmoid[T=DT_FLOAT, _has_manual_control_dependencies=true](dense_17/BiasAdd)}}' was changed by setting attribute after it was run by a session. This mutation will have no effect, and will trigger an error in the future. Either don't modify nodes after running them or create a new session.\n"
     ]
    },
    {
     "name": "stdout",
     "output_type": "stream",
     "text": [
      "\n",
      "📂 Fold 9/10\n",
      "\n",
      "➡️ Stage 1 | Epochs: 10 | Loss: convex_focal_loss\n"
     ]
    },
    {
     "name": "stderr",
     "output_type": "stream",
     "text": [
      "2025-06-07 10:40:32.101588: W tensorflow/c/c_api.cc:304] Operation '{name:'false_positives_52/Assign' id:32576 op device:{requested: '', assigned: ''} def:{{{node false_positives_52/Assign}} = AssignVariableOp[_has_manual_control_dependencies=true, dtype=DT_FLOAT, validate_shape=false](false_positives_52, false_positives_52/Initializer/zeros)}}' was changed by setting attribute after it was run by a session. This mutation will have no effect, and will trigger an error in the future. Either don't modify nodes after running them or create a new session.\n",
      "/Users/boabangfrancis/anaconda3/lib/python3.11/site-packages/keras/src/engine/training_v1.py:2335: UserWarning: `Model.state_updates` will be removed in a future version. This property should not be used in TensorFlow 2.0, as `updates` are applied automatically.\n",
      "  updates = self.state_updates\n",
      "2025-06-07 10:40:38.242482: W tensorflow/c/c_api.cc:304] Operation '{name:'loss_28/mul' id:32891 op device:{requested: '', assigned: ''} def:{{{node loss_28/mul}} = Mul[T=DT_FLOAT, _has_manual_control_dependencies=true](loss_28/mul/x, loss_28/dense_18_loss/value)}}' was changed by setting attribute after it was run by a session. This mutation will have no effect, and will trigger an error in the future. Either don't modify nodes after running them or create a new session.\n"
     ]
    },
    {
     "name": "stdout",
     "output_type": "stream",
     "text": [
      "\n",
      "➡️ Stage 2 | Epochs: 90 | Loss: nonconvex_focal_loss\n"
     ]
    },
    {
     "name": "stderr",
     "output_type": "stream",
     "text": [
      "2025-06-07 10:41:24.454991: W tensorflow/c/c_api.cc:304] Operation '{name:'true_positives_81/Assign' id:33655 op device:{requested: '', assigned: ''} def:{{{node true_positives_81/Assign}} = AssignVariableOp[_has_manual_control_dependencies=true, dtype=DT_FLOAT, validate_shape=false](true_positives_81, true_positives_81/Initializer/zeros)}}' was changed by setting attribute after it was run by a session. This mutation will have no effect, and will trigger an error in the future. Either don't modify nodes after running them or create a new session.\n",
      "2025-06-07 10:41:30.907162: W tensorflow/c/c_api.cc:304] Operation '{name:'loss_29/mul' id:33975 op device:{requested: '', assigned: ''} def:{{{node loss_29/mul}} = Mul[T=DT_FLOAT, _has_manual_control_dependencies=true](loss_29/mul/x, loss_29/dense_18_loss/value)}}' was changed by setting attribute after it was run by a session. This mutation will have no effect, and will trigger an error in the future. Either don't modify nodes after running them or create a new session.\n",
      "/Users/boabangfrancis/anaconda3/lib/python3.11/site-packages/keras/src/engine/training_v1.py:2359: UserWarning: `Model.state_updates` will be removed in a future version. This property should not be used in TensorFlow 2.0, as `updates` are applied automatically.\n",
      "  updates=self.state_updates,\n",
      "2025-06-07 10:49:17.623172: W tensorflow/c/c_api.cc:304] Operation '{name:'dense_18/Sigmoid' id:32567 op device:{requested: '', assigned: ''} def:{{{node dense_18/Sigmoid}} = Sigmoid[T=DT_FLOAT, _has_manual_control_dependencies=true](dense_18/BiasAdd)}}' was changed by setting attribute after it was run by a session. This mutation will have no effect, and will trigger an error in the future. Either don't modify nodes after running them or create a new session.\n"
     ]
    },
    {
     "name": "stdout",
     "output_type": "stream",
     "text": [
      "\n",
      "📂 Fold 10/10\n",
      "\n",
      "➡️ Stage 1 | Epochs: 10 | Loss: convex_focal_loss\n"
     ]
    },
    {
     "name": "stderr",
     "output_type": "stream",
     "text": [
      "2025-06-07 10:49:18.544288: W tensorflow/c/c_api.cc:304] Operation '{name:'false_positives_56/Assign' id:34870 op device:{requested: '', assigned: ''} def:{{{node false_positives_56/Assign}} = AssignVariableOp[_has_manual_control_dependencies=true, dtype=DT_FLOAT, validate_shape=false](false_positives_56, false_positives_56/Initializer/zeros)}}' was changed by setting attribute after it was run by a session. This mutation will have no effect, and will trigger an error in the future. Either don't modify nodes after running them or create a new session.\n",
      "/Users/boabangfrancis/anaconda3/lib/python3.11/site-packages/keras/src/engine/training_v1.py:2335: UserWarning: `Model.state_updates` will be removed in a future version. This property should not be used in TensorFlow 2.0, as `updates` are applied automatically.\n",
      "  updates = self.state_updates\n",
      "2025-06-07 10:49:25.258692: W tensorflow/c/c_api.cc:304] Operation '{name:'loss_30/mul' id:35185 op device:{requested: '', assigned: ''} def:{{{node loss_30/mul}} = Mul[T=DT_FLOAT, _has_manual_control_dependencies=true](loss_30/mul/x, loss_30/dense_19_loss/value)}}' was changed by setting attribute after it was run by a session. This mutation will have no effect, and will trigger an error in the future. Either don't modify nodes after running them or create a new session.\n"
     ]
    },
    {
     "name": "stdout",
     "output_type": "stream",
     "text": [
      "\n",
      "➡️ Stage 2 | Epochs: 90 | Loss: nonconvex_focal_loss\n"
     ]
    },
    {
     "name": "stderr",
     "output_type": "stream",
     "text": [
      "2025-06-07 10:50:12.506191: W tensorflow/c/c_api.cc:304] Operation '{name:'true_negatives_29/Assign' id:35974 op device:{requested: '', assigned: ''} def:{{{node true_negatives_29/Assign}} = AssignVariableOp[_has_manual_control_dependencies=true, dtype=DT_FLOAT, validate_shape=false](true_negatives_29, true_negatives_29/Initializer/zeros)}}' was changed by setting attribute after it was run by a session. This mutation will have no effect, and will trigger an error in the future. Either don't modify nodes after running them or create a new session.\n",
      "2025-06-07 10:50:19.348596: W tensorflow/c/c_api.cc:304] Operation '{name:'loss_31/mul' id:36269 op device:{requested: '', assigned: ''} def:{{{node loss_31/mul}} = Mul[T=DT_FLOAT, _has_manual_control_dependencies=true](loss_31/mul/x, loss_31/dense_19_loss/value)}}' was changed by setting attribute after it was run by a session. This mutation will have no effect, and will trigger an error in the future. Either don't modify nodes after running them or create a new session.\n",
      "/Users/boabangfrancis/anaconda3/lib/python3.11/site-packages/keras/src/engine/training_v1.py:2359: UserWarning: `Model.state_updates` will be removed in a future version. This property should not be used in TensorFlow 2.0, as `updates` are applied automatically.\n",
      "  updates=self.state_updates,\n",
      "2025-06-07 10:58:26.707184: W tensorflow/c/c_api.cc:304] Operation '{name:'dense_19/Sigmoid' id:34861 op device:{requested: '', assigned: ''} def:{{{node dense_19/Sigmoid}} = Sigmoid[T=DT_FLOAT, _has_manual_control_dependencies=true](dense_19/BiasAdd)}}' was changed by setting attribute after it was run by a session. This mutation will have no effect, and will trigger an error in the future. Either don't modify nodes after running them or create a new session.\n"
     ]
    },
    {
     "name": "stdout",
     "output_type": "stream",
     "text": [
      "\n",
      "📊 Average metrics for schedule 'Multistage': {'loss': 0.6206809580778774, 'accuracy': 0.5948259, 'precision': 0.58518916, 'recall': 0.6394579, 'f1': 0.6032292672915822, 'auc': 0.6039298237997941}\n",
      "\n",
      "📂 Fold 1/10\n",
      "\n",
      "➡️ Stage 1 | Epochs: 100 | Loss: nonconvex_focal_loss\n"
     ]
    },
    {
     "name": "stderr",
     "output_type": "stream",
     "text": [
      "2025-06-07 10:58:27.664413: W tensorflow/c/c_api.cc:304] Operation '{name:'training_60/Adam/dense_20/bias/v/Assign' id:38129 op device:{requested: '', assigned: ''} def:{{{node training_60/Adam/dense_20/bias/v/Assign}} = AssignVariableOp[_has_manual_control_dependencies=true, dtype=DT_FLOAT, validate_shape=false](training_60/Adam/dense_20/bias/v, training_60/Adam/dense_20/bias/v/Initializer/zeros)}}' was changed by setting attribute after it was run by a session. This mutation will have no effect, and will trigger an error in the future. Either don't modify nodes after running them or create a new session.\n",
      "/Users/boabangfrancis/anaconda3/lib/python3.11/site-packages/keras/src/engine/training_v1.py:2335: UserWarning: `Model.state_updates` will be removed in a future version. This property should not be used in TensorFlow 2.0, as `updates` are applied automatically.\n",
      "  updates = self.state_updates\n",
      "2025-06-07 10:58:33.740701: W tensorflow/c/c_api.cc:304] Operation '{name:'loss_32/mul' id:37479 op device:{requested: '', assigned: ''} def:{{{node loss_32/mul}} = Mul[T=DT_FLOAT, _has_manual_control_dependencies=true](loss_32/mul/x, loss_32/dense_20_loss/value)}}' was changed by setting attribute after it was run by a session. This mutation will have no effect, and will trigger an error in the future. Either don't modify nodes after running them or create a new session.\n",
      "/Users/boabangfrancis/anaconda3/lib/python3.11/site-packages/keras/src/engine/training_v1.py:2359: UserWarning: `Model.state_updates` will be removed in a future version. This property should not be used in TensorFlow 2.0, as `updates` are applied automatically.\n",
      "  updates=self.state_updates,\n",
      "2025-06-07 11:06:35.764835: W tensorflow/c/c_api.cc:304] Operation '{name:'dense_20/Sigmoid' id:37155 op device:{requested: '', assigned: ''} def:{{{node dense_20/Sigmoid}} = Sigmoid[T=DT_FLOAT, _has_manual_control_dependencies=true](dense_20/BiasAdd)}}' was changed by setting attribute after it was run by a session. This mutation will have no effect, and will trigger an error in the future. Either don't modify nodes after running them or create a new session.\n"
     ]
    },
    {
     "name": "stdout",
     "output_type": "stream",
     "text": [
      "🔍 Calculating SHAP values for fold 1 of 'Nonconvex Only'\n",
      "\n",
      "📂 Fold 2/10\n",
      "\n",
      "➡️ Stage 1 | Epochs: 100 | Loss: nonconvex_focal_loss\n"
     ]
    },
    {
     "name": "stderr",
     "output_type": "stream",
     "text": [
      "2025-06-07 11:06:40.499907: W tensorflow/c/c_api.cc:304] Operation '{name:'lstm_21/lstm_cell/recurrent_kernel/Assign' id:38738 op device:{requested: '', assigned: ''} def:{{{node lstm_21/lstm_cell/recurrent_kernel/Assign}} = AssignVariableOp[_has_manual_control_dependencies=true, dtype=DT_FLOAT, validate_shape=false](lstm_21/lstm_cell/recurrent_kernel, lstm_21/lstm_cell/recurrent_kernel/Initializer/mul_1)}}' was changed by setting attribute after it was run by a session. This mutation will have no effect, and will trigger an error in the future. Either don't modify nodes after running them or create a new session.\n",
      "/Users/boabangfrancis/anaconda3/lib/python3.11/site-packages/keras/src/engine/training_v1.py:2335: UserWarning: `Model.state_updates` will be removed in a future version. This property should not be used in TensorFlow 2.0, as `updates` are applied automatically.\n",
      "  updates = self.state_updates\n",
      "2025-06-07 11:06:47.339700: W tensorflow/c/c_api.cc:304] Operation '{name:'loss_34/mul' id:39246 op device:{requested: '', assigned: ''} def:{{{node loss_34/mul}} = Mul[T=DT_FLOAT, _has_manual_control_dependencies=true](loss_34/mul/x, loss_34/dense_21_loss/value)}}' was changed by setting attribute after it was run by a session. This mutation will have no effect, and will trigger an error in the future. Either don't modify nodes after running them or create a new session.\n",
      "/Users/boabangfrancis/anaconda3/lib/python3.11/site-packages/keras/src/engine/training_v1.py:2359: UserWarning: `Model.state_updates` will be removed in a future version. This property should not be used in TensorFlow 2.0, as `updates` are applied automatically.\n",
      "  updates=self.state_updates,\n",
      "2025-06-07 11:15:26.474510: W tensorflow/c/c_api.cc:304] Operation '{name:'dense_21/Sigmoid' id:38922 op device:{requested: '', assigned: ''} def:{{{node dense_21/Sigmoid}} = Sigmoid[T=DT_FLOAT, _has_manual_control_dependencies=true](dense_21/BiasAdd)}}' was changed by setting attribute after it was run by a session. This mutation will have no effect, and will trigger an error in the future. Either don't modify nodes after running them or create a new session.\n"
     ]
    },
    {
     "name": "stdout",
     "output_type": "stream",
     "text": [
      "\n",
      "📂 Fold 3/10\n",
      "\n",
      "➡️ Stage 1 | Epochs: 100 | Loss: nonconvex_focal_loss\n"
     ]
    },
    {
     "name": "stderr",
     "output_type": "stream",
     "text": [
      "2025-06-07 11:15:27.524942: W tensorflow/c/c_api.cc:304] Operation '{name:'dense_22/kernel/Assign' id:40218 op device:{requested: '', assigned: ''} def:{{{node dense_22/kernel/Assign}} = AssignVariableOp[_has_manual_control_dependencies=true, dtype=DT_FLOAT, validate_shape=false](dense_22/kernel, dense_22/kernel/Initializer/random_uniform)}}' was changed by setting attribute after it was run by a session. This mutation will have no effect, and will trigger an error in the future. Either don't modify nodes after running them or create a new session.\n",
      "/Users/boabangfrancis/anaconda3/lib/python3.11/site-packages/keras/src/engine/training_v1.py:2335: UserWarning: `Model.state_updates` will be removed in a future version. This property should not be used in TensorFlow 2.0, as `updates` are applied automatically.\n",
      "  updates = self.state_updates\n",
      "2025-06-07 11:15:34.316819: W tensorflow/c/c_api.cc:304] Operation '{name:'loss_35/mul' id:40553 op device:{requested: '', assigned: ''} def:{{{node loss_35/mul}} = Mul[T=DT_FLOAT, _has_manual_control_dependencies=true](loss_35/mul/x, loss_35/dense_22_loss/value)}}' was changed by setting attribute after it was run by a session. This mutation will have no effect, and will trigger an error in the future. Either don't modify nodes after running them or create a new session.\n",
      "/Users/boabangfrancis/anaconda3/lib/python3.11/site-packages/keras/src/engine/training_v1.py:2359: UserWarning: `Model.state_updates` will be removed in a future version. This property should not be used in TensorFlow 2.0, as `updates` are applied automatically.\n",
      "  updates=self.state_updates,\n",
      "2025-06-07 11:24:28.268689: W tensorflow/c/c_api.cc:304] Operation '{name:'dense_22/Sigmoid' id:40229 op device:{requested: '', assigned: ''} def:{{{node dense_22/Sigmoid}} = Sigmoid[T=DT_FLOAT, _has_manual_control_dependencies=true](dense_22/BiasAdd)}}' was changed by setting attribute after it was run by a session. This mutation will have no effect, and will trigger an error in the future. Either don't modify nodes after running them or create a new session.\n"
     ]
    },
    {
     "name": "stdout",
     "output_type": "stream",
     "text": [
      "\n",
      "📂 Fold 4/10\n",
      "\n",
      "➡️ Stage 1 | Epochs: 100 | Loss: nonconvex_focal_loss\n"
     ]
    },
    {
     "name": "stderr",
     "output_type": "stream",
     "text": [
      "2025-06-07 11:24:29.349963: W tensorflow/c/c_api.cc:304] Operation '{name:'true_negatives_33/Assign' id:41565 op device:{requested: '', assigned: ''} def:{{{node true_negatives_33/Assign}} = AssignVariableOp[_has_manual_control_dependencies=true, dtype=DT_FLOAT, validate_shape=false](true_negatives_33, true_negatives_33/Initializer/zeros)}}' was changed by setting attribute after it was run by a session. This mutation will have no effect, and will trigger an error in the future. Either don't modify nodes after running them or create a new session.\n",
      "/Users/boabangfrancis/anaconda3/lib/python3.11/site-packages/keras/src/engine/training_v1.py:2335: UserWarning: `Model.state_updates` will be removed in a future version. This property should not be used in TensorFlow 2.0, as `updates` are applied automatically.\n",
      "  updates = self.state_updates\n",
      "2025-06-07 11:24:36.325232: W tensorflow/c/c_api.cc:304] Operation '{name:'loss_36/mul' id:41860 op device:{requested: '', assigned: ''} def:{{{node loss_36/mul}} = Mul[T=DT_FLOAT, _has_manual_control_dependencies=true](loss_36/mul/x, loss_36/dense_23_loss/value)}}' was changed by setting attribute after it was run by a session. This mutation will have no effect, and will trigger an error in the future. Either don't modify nodes after running them or create a new session.\n",
      "/Users/boabangfrancis/anaconda3/lib/python3.11/site-packages/keras/src/engine/training_v1.py:2359: UserWarning: `Model.state_updates` will be removed in a future version. This property should not be used in TensorFlow 2.0, as `updates` are applied automatically.\n",
      "  updates=self.state_updates,\n",
      "2025-06-07 11:33:25.768192: W tensorflow/c/c_api.cc:304] Operation '{name:'dense_23/Sigmoid' id:41536 op device:{requested: '', assigned: ''} def:{{{node dense_23/Sigmoid}} = Sigmoid[T=DT_FLOAT, _has_manual_control_dependencies=true](dense_23/BiasAdd)}}' was changed by setting attribute after it was run by a session. This mutation will have no effect, and will trigger an error in the future. Either don't modify nodes after running them or create a new session.\n"
     ]
    },
    {
     "name": "stdout",
     "output_type": "stream",
     "text": [
      "\n",
      "📂 Fold 5/10\n",
      "\n",
      "➡️ Stage 1 | Epochs: 100 | Loss: nonconvex_focal_loss\n"
     ]
    },
    {
     "name": "stderr",
     "output_type": "stream",
     "text": [
      "2025-06-07 11:33:27.007401: W tensorflow/c/c_api.cc:304] Operation '{name:'training_68/Adam/decay/Assign' id:43759 op device:{requested: '', assigned: ''} def:{{{node training_68/Adam/decay/Assign}} = AssignVariableOp[_has_manual_control_dependencies=true, dtype=DT_FLOAT, validate_shape=false](training_68/Adam/decay, training_68/Adam/decay/Initializer/initial_value)}}' was changed by setting attribute after it was run by a session. This mutation will have no effect, and will trigger an error in the future. Either don't modify nodes after running them or create a new session.\n",
      "/Users/boabangfrancis/anaconda3/lib/python3.11/site-packages/keras/src/engine/training_v1.py:2335: UserWarning: `Model.state_updates` will be removed in a future version. This property should not be used in TensorFlow 2.0, as `updates` are applied automatically.\n",
      "  updates = self.state_updates\n",
      "2025-06-07 11:33:34.086118: W tensorflow/c/c_api.cc:304] Operation '{name:'loss_37/mul' id:43167 op device:{requested: '', assigned: ''} def:{{{node loss_37/mul}} = Mul[T=DT_FLOAT, _has_manual_control_dependencies=true](loss_37/mul/x, loss_37/dense_24_loss/value)}}' was changed by setting attribute after it was run by a session. This mutation will have no effect, and will trigger an error in the future. Either don't modify nodes after running them or create a new session.\n",
      "/Users/boabangfrancis/anaconda3/lib/python3.11/site-packages/keras/src/engine/training_v1.py:2359: UserWarning: `Model.state_updates` will be removed in a future version. This property should not be used in TensorFlow 2.0, as `updates` are applied automatically.\n",
      "  updates=self.state_updates,\n",
      "2025-06-07 11:41:58.845461: W tensorflow/c/c_api.cc:304] Operation '{name:'dense_24/Sigmoid' id:42843 op device:{requested: '', assigned: ''} def:{{{node dense_24/Sigmoid}} = Sigmoid[T=DT_FLOAT, _has_manual_control_dependencies=true](dense_24/BiasAdd)}}' was changed by setting attribute after it was run by a session. This mutation will have no effect, and will trigger an error in the future. Either don't modify nodes after running them or create a new session.\n"
     ]
    },
    {
     "name": "stdout",
     "output_type": "stream",
     "text": [
      "\n",
      "📂 Fold 6/10\n",
      "\n",
      "➡️ Stage 1 | Epochs: 100 | Loss: nonconvex_focal_loss\n"
     ]
    },
    {
     "name": "stderr",
     "output_type": "stream",
     "text": [
      "2025-06-07 11:41:59.905280: W tensorflow/c/c_api.cc:304] Operation '{name:'false_positives_71/Assign' id:44184 op device:{requested: '', assigned: ''} def:{{{node false_positives_71/Assign}} = AssignVariableOp[_has_manual_control_dependencies=true, dtype=DT_FLOAT, validate_shape=false](false_positives_71, false_positives_71/Initializer/zeros)}}' was changed by setting attribute after it was run by a session. This mutation will have no effect, and will trigger an error in the future. Either don't modify nodes after running them or create a new session.\n",
      "/Users/boabangfrancis/anaconda3/lib/python3.11/site-packages/keras/src/engine/training_v1.py:2335: UserWarning: `Model.state_updates` will be removed in a future version. This property should not be used in TensorFlow 2.0, as `updates` are applied automatically.\n",
      "  updates = self.state_updates\n",
      "2025-06-07 11:42:07.220435: W tensorflow/c/c_api.cc:304] Operation '{name:'loss_38/mul' id:44474 op device:{requested: '', assigned: ''} def:{{{node loss_38/mul}} = Mul[T=DT_FLOAT, _has_manual_control_dependencies=true](loss_38/mul/x, loss_38/dense_25_loss/value)}}' was changed by setting attribute after it was run by a session. This mutation will have no effect, and will trigger an error in the future. Either don't modify nodes after running them or create a new session.\n",
      "/Users/boabangfrancis/anaconda3/lib/python3.11/site-packages/keras/src/engine/training_v1.py:2359: UserWarning: `Model.state_updates` will be removed in a future version. This property should not be used in TensorFlow 2.0, as `updates` are applied automatically.\n",
      "  updates=self.state_updates,\n",
      "2025-06-07 11:51:41.543279: W tensorflow/c/c_api.cc:304] Operation '{name:'dense_25/Sigmoid' id:44150 op device:{requested: '', assigned: ''} def:{{{node dense_25/Sigmoid}} = Sigmoid[T=DT_FLOAT, _has_manual_control_dependencies=true](dense_25/BiasAdd)}}' was changed by setting attribute after it was run by a session. This mutation will have no effect, and will trigger an error in the future. Either don't modify nodes after running them or create a new session.\n"
     ]
    },
    {
     "name": "stdout",
     "output_type": "stream",
     "text": [
      "\n",
      "📂 Fold 7/10\n",
      "\n",
      "➡️ Stage 1 | Epochs: 100 | Loss: nonconvex_focal_loss\n"
     ]
    },
    {
     "name": "stderr",
     "output_type": "stream",
     "text": [
      "2025-06-07 11:51:42.683845: W tensorflow/c/c_api.cc:304] Operation '{name:'true_positives_110/Assign' id:45481 op device:{requested: '', assigned: ''} def:{{{node true_positives_110/Assign}} = AssignVariableOp[_has_manual_control_dependencies=true, dtype=DT_FLOAT, validate_shape=false](true_positives_110, true_positives_110/Initializer/zeros)}}' was changed by setting attribute after it was run by a session. This mutation will have no effect, and will trigger an error in the future. Either don't modify nodes after running them or create a new session.\n",
      "/Users/boabangfrancis/anaconda3/lib/python3.11/site-packages/keras/src/engine/training_v1.py:2335: UserWarning: `Model.state_updates` will be removed in a future version. This property should not be used in TensorFlow 2.0, as `updates` are applied automatically.\n",
      "  updates = self.state_updates\n",
      "2025-06-07 11:51:50.093537: W tensorflow/c/c_api.cc:304] Operation '{name:'loss_39/mul' id:45781 op device:{requested: '', assigned: ''} def:{{{node loss_39/mul}} = Mul[T=DT_FLOAT, _has_manual_control_dependencies=true](loss_39/mul/x, loss_39/dense_26_loss/value)}}' was changed by setting attribute after it was run by a session. This mutation will have no effect, and will trigger an error in the future. Either don't modify nodes after running them or create a new session.\n",
      "/Users/boabangfrancis/anaconda3/lib/python3.11/site-packages/keras/src/engine/training_v1.py:2359: UserWarning: `Model.state_updates` will be removed in a future version. This property should not be used in TensorFlow 2.0, as `updates` are applied automatically.\n",
      "  updates=self.state_updates,\n",
      "2025-06-07 12:00:49.301487: W tensorflow/c/c_api.cc:304] Operation '{name:'dense_26/Sigmoid' id:45457 op device:{requested: '', assigned: ''} def:{{{node dense_26/Sigmoid}} = Sigmoid[T=DT_FLOAT, _has_manual_control_dependencies=true](dense_26/BiasAdd)}}' was changed by setting attribute after it was run by a session. This mutation will have no effect, and will trigger an error in the future. Either don't modify nodes after running them or create a new session.\n"
     ]
    },
    {
     "name": "stdout",
     "output_type": "stream",
     "text": [
      "\n",
      "📂 Fold 8/10\n",
      "\n",
      "➡️ Stage 1 | Epochs: 100 | Loss: nonconvex_focal_loss\n"
     ]
    },
    {
     "name": "stderr",
     "output_type": "stream",
     "text": [
      "2025-06-07 12:00:50.400271: W tensorflow/c/c_api.cc:304] Operation '{name:'count_37/Assign' id:46814 op device:{requested: '', assigned: ''} def:{{{node count_37/Assign}} = AssignVariableOp[_has_manual_control_dependencies=true, dtype=DT_FLOAT, validate_shape=false](count_37, count_37/Initializer/zeros)}}' was changed by setting attribute after it was run by a session. This mutation will have no effect, and will trigger an error in the future. Either don't modify nodes after running them or create a new session.\n",
      "/Users/boabangfrancis/anaconda3/lib/python3.11/site-packages/keras/src/engine/training_v1.py:2335: UserWarning: `Model.state_updates` will be removed in a future version. This property should not be used in TensorFlow 2.0, as `updates` are applied automatically.\n",
      "  updates = self.state_updates\n",
      "2025-06-07 12:00:56.726580: W tensorflow/c/c_api.cc:304] Operation '{name:'loss_40/mul' id:47088 op device:{requested: '', assigned: ''} def:{{{node loss_40/mul}} = Mul[T=DT_FLOAT, _has_manual_control_dependencies=true](loss_40/mul/x, loss_40/dense_27_loss/value)}}' was changed by setting attribute after it was run by a session. This mutation will have no effect, and will trigger an error in the future. Either don't modify nodes after running them or create a new session.\n",
      "/Users/boabangfrancis/anaconda3/lib/python3.11/site-packages/keras/src/engine/training_v1.py:2359: UserWarning: `Model.state_updates` will be removed in a future version. This property should not be used in TensorFlow 2.0, as `updates` are applied automatically.\n",
      "  updates=self.state_updates,\n",
      "2025-06-07 12:08:25.446256: W tensorflow/c/c_api.cc:304] Operation '{name:'dense_27/Sigmoid' id:46764 op device:{requested: '', assigned: ''} def:{{{node dense_27/Sigmoid}} = Sigmoid[T=DT_FLOAT, _has_manual_control_dependencies=true](dense_27/BiasAdd)}}' was changed by setting attribute after it was run by a session. This mutation will have no effect, and will trigger an error in the future. Either don't modify nodes after running them or create a new session.\n"
     ]
    },
    {
     "name": "stdout",
     "output_type": "stream",
     "text": [
      "\n",
      "📂 Fold 9/10\n",
      "\n",
      "➡️ Stage 1 | Epochs: 100 | Loss: nonconvex_focal_loss\n"
     ]
    },
    {
     "name": "stderr",
     "output_type": "stream",
     "text": [
      "2025-06-07 12:08:26.587723: W tensorflow/c/c_api.cc:304] Operation '{name:'training_76/Adam/lstm_28/lstm_cell/recurrent_kernel/v/Assign' id:49030 op device:{requested: '', assigned: ''} def:{{{node training_76/Adam/lstm_28/lstm_cell/recurrent_kernel/v/Assign}} = AssignVariableOp[_has_manual_control_dependencies=true, dtype=DT_FLOAT, validate_shape=false](training_76/Adam/lstm_28/lstm_cell/recurrent_kernel/v, training_76/Adam/lstm_28/lstm_cell/recurrent_kernel/v/Initializer/zeros)}}' was changed by setting attribute after it was run by a session. This mutation will have no effect, and will trigger an error in the future. Either don't modify nodes after running them or create a new session.\n",
      "/Users/boabangfrancis/anaconda3/lib/python3.11/site-packages/keras/src/engine/training_v1.py:2335: UserWarning: `Model.state_updates` will be removed in a future version. This property should not be used in TensorFlow 2.0, as `updates` are applied automatically.\n",
      "  updates = self.state_updates\n",
      "2025-06-07 12:08:33.511281: W tensorflow/c/c_api.cc:304] Operation '{name:'loss_41/mul' id:48395 op device:{requested: '', assigned: ''} def:{{{node loss_41/mul}} = Mul[T=DT_FLOAT, _has_manual_control_dependencies=true](loss_41/mul/x, loss_41/dense_28_loss/value)}}' was changed by setting attribute after it was run by a session. This mutation will have no effect, and will trigger an error in the future. Either don't modify nodes after running them or create a new session.\n",
      "/Users/boabangfrancis/anaconda3/lib/python3.11/site-packages/keras/src/engine/training_v1.py:2359: UserWarning: `Model.state_updates` will be removed in a future version. This property should not be used in TensorFlow 2.0, as `updates` are applied automatically.\n",
      "  updates=self.state_updates,\n",
      "2025-06-07 12:17:03.272941: W tensorflow/c/c_api.cc:304] Operation '{name:'dense_28/Sigmoid' id:48071 op device:{requested: '', assigned: ''} def:{{{node dense_28/Sigmoid}} = Sigmoid[T=DT_FLOAT, _has_manual_control_dependencies=true](dense_28/BiasAdd)}}' was changed by setting attribute after it was run by a session. This mutation will have no effect, and will trigger an error in the future. Either don't modify nodes after running them or create a new session.\n"
     ]
    },
    {
     "name": "stdout",
     "output_type": "stream",
     "text": [
      "\n",
      "📂 Fold 10/10\n",
      "\n",
      "➡️ Stage 1 | Epochs: 100 | Loss: nonconvex_focal_loss\n"
     ]
    },
    {
     "name": "stderr",
     "output_type": "stream",
     "text": [
      "2025-06-07 12:17:04.439154: W tensorflow/c/c_api.cc:304] Operation '{name:'training_78/Adam/lstm_29/lstm_cell/recurrent_kernel/m/Assign' id:50308 op device:{requested: '', assigned: ''} def:{{{node training_78/Adam/lstm_29/lstm_cell/recurrent_kernel/m/Assign}} = AssignVariableOp[_has_manual_control_dependencies=true, dtype=DT_FLOAT, validate_shape=false](training_78/Adam/lstm_29/lstm_cell/recurrent_kernel/m, training_78/Adam/lstm_29/lstm_cell/recurrent_kernel/m/Initializer/zeros)}}' was changed by setting attribute after it was run by a session. This mutation will have no effect, and will trigger an error in the future. Either don't modify nodes after running them or create a new session.\n",
      "/Users/boabangfrancis/anaconda3/lib/python3.11/site-packages/keras/src/engine/training_v1.py:2335: UserWarning: `Model.state_updates` will be removed in a future version. This property should not be used in TensorFlow 2.0, as `updates` are applied automatically.\n",
      "  updates = self.state_updates\n",
      "2025-06-07 12:17:11.801437: W tensorflow/c/c_api.cc:304] Operation '{name:'loss_42/mul' id:49702 op device:{requested: '', assigned: ''} def:{{{node loss_42/mul}} = Mul[T=DT_FLOAT, _has_manual_control_dependencies=true](loss_42/mul/x, loss_42/dense_29_loss/value)}}' was changed by setting attribute after it was run by a session. This mutation will have no effect, and will trigger an error in the future. Either don't modify nodes after running them or create a new session.\n",
      "/Users/boabangfrancis/anaconda3/lib/python3.11/site-packages/keras/src/engine/training_v1.py:2359: UserWarning: `Model.state_updates` will be removed in a future version. This property should not be used in TensorFlow 2.0, as `updates` are applied automatically.\n",
      "  updates=self.state_updates,\n",
      "2025-06-07 12:26:09.289601: W tensorflow/c/c_api.cc:304] Operation '{name:'dense_29/Sigmoid' id:49378 op device:{requested: '', assigned: ''} def:{{{node dense_29/Sigmoid}} = Sigmoid[T=DT_FLOAT, _has_manual_control_dependencies=true](dense_29/BiasAdd)}}' was changed by setting attribute after it was run by a session. This mutation will have no effect, and will trigger an error in the future. Either don't modify nodes after running them or create a new session.\n"
     ]
    },
    {
     "name": "stdout",
     "output_type": "stream",
     "text": [
      "\n",
      "📊 Average metrics for schedule 'Nonconvex Only': {'loss': 0.4145877762346328, 'accuracy': 0.5465823, 'precision': 0.544824, 'recall': 0.61810726, 'f1': 0.5686534121023873, 'auc': 0.5885540058332269}\n",
      "✅ Metrics exported to 'cross_validation_results_2.csv'\n"
     ]
    },
    {
     "data": {
      "image/png": "[encoded data removed]",
      "text/plain": [
       "<Figure size 800x600 with 1 Axes>"
      ]
     },
     "metadata": {},
     "output_type": "display_data"
    }
   ],
   "source": [
    " from sklearn.model_selection import KFold\n",
    "from sklearn.metrics import f1_score, roc_auc_score, roc_curve, auc\n",
    "from tensorflow.keras.metrics import Precision, Recall, AUC\n",
    "import numpy as np\n",
    "import tensorflow as tf\n",
    "import matplotlib.pyplot as plt\n",
    "import shap\n",
    "import pandas as pd\n",
    "\n",
    "shap_feature_importance = {}\n",
    "\n",
    "def cross_validate(schedule, schedule_name, X_data, y_data, k_folds=10):\n",
    "    kfold = KFold(n_splits=k_folds, shuffle=True, random_state=42)\n",
    "    metrics_list = []\n",
    "    roc_data = []\n",
    "\n",
    "    for fold, (train_index, val_index) in enumerate(kfold.split(X_data)):\n",
    "        print(f\"\\n📂 Fold {fold + 1}/{k_folds}\")\n",
    "\n",
    "        X_train_fold, X_val_fold = X_data[train_index], X_data[val_index]\n",
    "        y_train_fold, y_val_fold = y_data[train_index], y_data[val_index]\n",
    "\n",
    "        result = train_with_schedule_fold(schedule, schedule_name, X_train_fold, y_train_fold, X_val_fold, y_val_fold, fold)\n",
    "        metrics_list.append(result)\n",
    "        roc_data.append((result[\"fpr\"], result[\"tpr\"]))\n",
    "\n",
    "    avg_metrics = {\n",
    "        \"loss\": np.mean([m[\"loss\"] for m in metrics_list]),\n",
    "        \"accuracy\": np.mean([m[\"accuracy\"] for m in metrics_list]),\n",
    "        \"precision\": np.mean([m[\"precision\"] for m in metrics_list]),\n",
    "        \"recall\": np.mean([m[\"recall\"] for m in metrics_list]),\n",
    "        \"f1\": np.mean([m[\"f1\"] for m in metrics_list]),\n",
    "        \"auc\": np.mean([m[\"auc\"] for m in metrics_list]),\n",
    "    }\n",
    "\n",
    "    print(f\"\\n📊 Average metrics for schedule '{schedule_name}': {avg_metrics}\")\n",
    "    return avg_metrics, roc_data\n",
    "\n",
    "def train_with_schedule_fold(schedule, schedule_name, trainX, trainY, testX, testY, fold_index):\n",
    "    model = model_builder()\n",
    "\n",
    "    lr_schedule = tf.keras.optimizers.schedules.ExponentialDecay(\n",
    "        initial_learning_rate=0.001,\n",
    "        decay_steps=1000,\n",
    "        decay_rate=0.9,\n",
    "        staircase=True\n",
    "    )\n",
    "    optimizer = tf.keras.optimizers.legacy.Adam(learning_rate=lr_schedule)\n",
    "    current_epoch = 0\n",
    "\n",
    "    for i, stage in enumerate(schedule):\n",
    "        loss_fn = stage[\"loss_fn\"]\n",
    "        epochs = stage[\"epochs\"]\n",
    "        print(f\"\\n➡️ Stage {i + 1} | Epochs: {epochs} | Loss: {loss_fn.__name__}\")\n",
    "\n",
    "        model.compile(\n",
    "            optimizer=optimizer,\n",
    "            loss=loss_fn,\n",
    "            metrics=['accuracy', Precision(name='precision'), Recall(name='recall'), AUC(name='auc')]\n",
    "        )\n",
    "\n",
    "        model.fit(\n",
    "            trainX, trainY,\n",
    "            initial_epoch=current_epoch,\n",
    "            epochs=current_epoch + epochs,\n",
    "            batch_size=1,\n",
    "            validation_data=(testX, testY),\n",
    "            verbose=0\n",
    "        )\n",
    "        current_epoch += epochs\n",
    "\n",
    "    eval_results = model.evaluate(testX, testY, verbose=0)\n",
    "    y_pred_prob = model.predict(testX, verbose=0).flatten()\n",
    "    y_pred = (y_pred_prob > 0.5).astype(int)\n",
    "\n",
    "    f1 = f1_score(testY, y_pred)\n",
    "    auc_score = roc_auc_score(testY, y_pred_prob)\n",
    "    fpr, tpr, _ = roc_curve(testY, y_pred_prob)\n",
    "\n",
    "    # SHAP values for fold 1 only\n",
    "    if fold_index == 0:\n",
    "        print(f\"🔍 Calculating SHAP values for fold 1 of '{schedule_name}'\")\n",
    "        background = trainX[:100].astype(np.float32)\n",
    "        test_sample = testX[:100].astype(np.float32)\n",
    "\n",
    "        # Recompile without metrics for SHAP\n",
    "        model.compile(optimizer=optimizer, loss=loss_fn)\n",
    "\n",
    "        explainer = shap.GradientExplainer(model, background)\n",
    "        shap_values = explainer.shap_values(test_sample)[0]\n",
    "\n",
    "        mean_abs_shap = np.abs(shap_values).mean(axis=0)\n",
    "        feature_names = getattr(testX, \"columns\", [f\"Feature {i}\" for i in range(testX.shape[1])])\n",
    "        shap_feature_importance[schedule_name] = dict(zip(feature_names, mean_abs_shap))\n",
    "\n",
    "    return {\n",
    "        \"loss\": eval_results[0],\n",
    "        \"accuracy\": eval_results[1],\n",
    "        \"precision\": eval_results[2],\n",
    "        \"recall\": eval_results[3],\n",
    "        \"auc\": auc_score,\n",
    "        \"f1\": f1,\n",
    "        \"fpr\": fpr,\n",
    "        \"tpr\": tpr\n",
    "    }\n",
    "\n",
    "def average_roc_curves(roc_data, num_points=100):\n",
    "    mean_fpr = np.linspace(0, 1, num_points)\n",
    "    tprs = []\n",
    "\n",
    "    for fpr, tpr in roc_data:\n",
    "        interp_tpr = np.interp(mean_fpr, fpr, tpr)\n",
    "        interp_tpr[0] = 0.0\n",
    "        tprs.append(interp_tpr)\n",
    "\n",
    "    mean_tpr = np.mean(tprs, axis=0)\n",
    "    mean_tpr[-1] = 1.0\n",
    "    mean_auc = auc(mean_fpr, mean_tpr)\n",
    "\n",
    "    return mean_fpr, mean_tpr, mean_auc\n",
    "\n",
    "# 🧪 Run experiments and collect metrics\n",
    "results_cv = {}\n",
    "roc_data_schedules = {}\n",
    "\n",
    "results_cv[\"Convex Only\"], roc_data_schedules[\"Convex Only\"] = cross_validate(training_schedule_convex, \"Convex Only\", X_resampled, y_resampled)\n",
    "results_cv[\"Multistage\"], roc_data_schedules[\"Multistage\"] = cross_validate(training_schedule_multistage, \"Multistage\", X_resampled, y_resampled)\n",
    "results_cv[\"Nonconvex Only\"], roc_data_schedules[\"Nonconvex Only\"] = cross_validate(training_schedule_nonconvex, \"Nonconvex Only\", X_resampled, y_resampled)\n",
    "\n",
    "# 📤 Export metrics to CSV\n",
    "results_df = pd.DataFrame.from_dict(results_cv, orient='index')\n",
    "results_df.to_csv(\"cross_validation_results_2.csv\", index_label=\"Schedule\")\n",
    "print(\"✅ Metrics exported to 'cross_validation_results_2.csv'\")\n",
    "\n",
    "# 📊 Plot average ROC curves\n",
    "plt.figure(figsize=(8, 6))\n",
    "for name, data in roc_data_schedules.items():\n",
    "    fpr, tpr, auc_val = average_roc_curves(data)\n",
    "    plt.plot(fpr, tpr, lw=2, label=f\"{name} (AUC = {auc_val:.3f})\")\n",
    "\n",
    "plt.plot([0, 1], [0, 1], 'k--', label=\"Random Classifier\")\n",
    "plt.title(\"Average ROC Curve Comparison Across Schedules\")\n",
    "plt.xlabel(\"False Positive Rate\")\n",
    "plt.ylabel(\"True Positive Rate\")\n",
    "plt.legend()\n",
    "plt.grid(True)\n",
    "plt.tight_layout()\n",
    "plt.show()\n",
    "\n",
    "\n",
    "\n",
    "# 📊 SHAP Comparison Bar Plot\n",
    "shap_df = pd.DataFrame(shap_feature_importance).fillna(0)\n",
    "shap_df[\"mean\"] = shap_df.mean(axis=1)\n",
    "shap_df\n",
    "shap_df.to_csv(\"cross_validation_shap_2.csv\", index_label=\"Schedule\")\n",
    "\n",
    "shap_df = shap_df.sort_values(\"mean\", ascending=True)\n",
    "shap_df.drop(\"mean\", axis=1, inplace=True)\n"
   ]
  },
  {
   "cell_type": "code",
   "execution_count": 7,
   "id": "ae7451dd",
   "metadata": {},
   "outputs": [],
   "source": [
    "#roc_data_schedules\n",
    "roc_data_schedules_ros= pd.DataFrame.from_dict(roc_data_schedules, orient='index')\n",
    "roc_data_schedules_ros.to_csv(\"cross_validation_roc_data_2.csv\", index_label=\"Schedule\")"
   ]
  },
  {
   "cell_type": "code",
   "execution_count": null,
   "id": "27690744",
   "metadata": {},
   "outputs": [],
   "source": []
  }
 ],
 "metadata": {
  "jupytext": {
   "cell_metadata_filter": "-all",
   "main_language": "python",
   "notebook_metadata_filter": "-all"
  },
  "kernelspec": {
   "display_name": "Python 3 (ipykernel)",
   "language": "python",
   "name": "python3"
  },
  "language_info": {
   "codemirror_mode": {
    "name": "ipython",
    "version": 3
   },
   "file_extension": ".py",
   "mimetype": "text/x-python",
   "name": "python",
   "nbconvert_exporter": "python",
   "pygments_lexer": "ipython3",
   "version": "3.11.5"
  }
 },
 "nbformat": 4,
 "nbformat_minor": 5
}
